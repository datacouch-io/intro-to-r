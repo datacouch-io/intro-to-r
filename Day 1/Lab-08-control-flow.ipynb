{
 "cells": [
  {
   "cell_type": "markdown",
   "metadata": {
    "_execution_state": "idle",
    "_uuid": "6b27cb0f04aa50f19a3c38337bf88b305364a46c"
   },
   "source": [
    "# R | Control Flow"
   ]
  },
  {
   "cell_type": "markdown",
   "metadata": {
    "_uuid": "4d398fc1cdab0835e4eab20c78f721a0d22233cc"
   },
   "source": [
    "Control flow in R refers to the mechanism of controlling the execution of statements and code blocks based on specified conditions or criteria. By employing various control structures, R allows you to make decisions, create loops, and control the flow of program execution, enabling you to build dynamic and responsive code that can handle diverse scenarios.\n",
    "\n",
    "In R, control flow is essential for building sophisticated algorithms, performing data analysis, and writing efficient programs. It consists of several control structures that determine the order and frequency of executing code blocks based on conditions.\n",
    "\n",
    "### Benefits of Control Flow in R:\n",
    "\n",
    "- Enhanced Decision-Making: Control flow structures enable R programs to make informed decisions based on data, variables, or conditions, making the code more intelligent and responsive.\n",
    "- Iterative Processing: Loops empower R to handle repetitive tasks, such as data manipulation, simulations, and calculations, effectively.\n",
    "- Streamlined Execution: By controlling the flow of program execution, R ensures that the appropriate actions are taken based on specific circumstances, resulting in more efficient and error-resistant code."
   ]
  },
  {
   "cell_type": "markdown",
   "metadata": {
    "_uuid": "c0ab09074c07755d5d14181422190357d56495c5"
   },
   "source": [
    "# Conditional Statements | If, Else and Else If"
   ]
  },
  {
   "cell_type": "markdown",
   "metadata": {
    "_uuid": "7de3fd31e78ce19584711d47f563137e007a902a"
   },
   "source": [
    "Conditional statements, also known as \"if-else\" statements, are used to make decisions based on specific conditions. Using the `if` keyword, you can define a condition, and if it evaluates to true, the corresponding block of code is executed. If the condition is false, an alternative block of code specified by the `else` keyword is executed."
   ]
  },
  {
   "cell_type": "code",
   "execution_count": 1,
   "metadata": {
    "_uuid": "e042a072f982e215a4849b984b6009edb9983efa"
   },
   "outputs": [
    {
     "name": "stdout",
     "output_type": "stream",
     "text": [
      "[1] 10\n"
     ]
    }
   ],
   "source": [
    "x <- 10         # Assign some variables\n",
    "y <- 5\n",
    "\n",
    "if              # The keyword \"if\" starts an if statement\n",
    "(x > y)         # A logical expression follows the \"if\" \n",
    "{print (x)}     # Code to execute is wrapped in curly braces \"{}\""
   ]
  },
  {
   "cell_type": "markdown",
   "metadata": {
    "_uuid": "9256fe0d3f5f7edf5041c9862ad633eb9ee802b1"
   },
   "source": [
    "In this case the logical expression was true--x was greater than y--so the print(x) statement was executed.\n",
    "\n",
    "The code above breaks the if statement out across 3 lines for descriptive purposes, but in practice it is considered good style to put the if, the logical expression and the opening curly brace on the same line, the code to execute on the following lines and then the final closing brace on its own line."
   ]
  },
  {
   "cell_type": "code",
   "execution_count": 2,
   "metadata": {
    "_uuid": "8cc3a605b588b9a20d38c8b6fbfa3f6245c761a8"
   },
   "outputs": [
    {
     "name": "stdout",
     "output_type": "stream",
     "text": [
      "[1] 10\n"
     ]
    }
   ],
   "source": [
    "if (x > y) {   # This is standard R style for if statements\n",
    "    print(x)\n",
    "}"
   ]
  },
  {
   "cell_type": "markdown",
   "metadata": {
    "_uuid": "234e96a71a62e388dbf652599825d60b1737ac55"
   },
   "source": [
    "If statements are often accompanied by else statements. Else statements come after if statements and allow you to execute code in the event that the logical expression of an if statement is false."
   ]
  },
  {
   "cell_type": "code",
   "execution_count": 3,
   "metadata": {
    "_uuid": "8c111cf9f4f2707e2dfb2760a4fdfbdc419089c3"
   },
   "outputs": [
    {
     "name": "stdout",
     "output_type": "stream",
     "text": [
      "[1] 25\n"
     ]
    }
   ],
   "source": [
    "y <- 25         # Reassign variable y to make it larger than x\n",
    "\n",
    "if (x > y) {    # The original if statement\n",
    "    print(x)\n",
    "} else {        # With a new else statement added\n",
    "    print(y)\n",
    "}"
   ]
  },
  {
   "cell_type": "markdown",
   "metadata": {
    "_uuid": "a4cbb623356e4ba2b54032c6270b1fecdcd87617"
   },
   "source": [
    "In this case, (x > y) evaluates to false so the code in the if block is skipped and the code in the else block is executed instead.\n",
    "\n",
    "You can extend this basic if/else construct to perform multiple logical checks in a row by adding one or more \"else if\" statements between the opening if and the closing else. Each else if statement performs another logical check and executes its code if the check is true."
   ]
  },
  {
   "cell_type": "code",
   "execution_count": 4,
   "metadata": {
    "_uuid": "5a61a7b8319f16fcea30cd08646fe3031cc17918"
   },
   "outputs": [
    {
     "name": "stdout",
     "output_type": "stream",
     "text": [
      "[1] \"x and y are equal\"\n"
     ]
    }
   ],
   "source": [
    "y <- 10\n",
    "\n",
    "if (x > y) {                     \n",
    "    print(x)\n",
    "} else if (y == x) {\n",
    "    print(\"x and y are equal\")\n",
    "} else {                         \n",
    "    print(y)\n",
    "}"
   ]
  },
  {
   "cell_type": "markdown",
   "metadata": {},
   "source": [
    "# Loops"
   ]
  },
  {
   "cell_type": "markdown",
   "metadata": {},
   "source": [
    "Loops in R are used to execute a set of code repeatedly based on specific conditions. R offers several types of loops, including:\n",
    "\n",
    "-   **for loop:** Executes a block of code for each element in a sequence, such as a vector or a list.\n",
    "-   **while loop:** Continues to execute a block of code as long as a specified condition remains true."
   ]
  },
  {
   "cell_type": "markdown",
   "metadata": {
    "_uuid": "1fbdf03d5cf71b853f4588b412730900b022118c"
   },
   "source": [
    "## For Loops"
   ]
  },
  {
   "cell_type": "markdown",
   "metadata": {
    "_uuid": "c45f670bfbf2f7f561cc75d17b8ab05e15ea9623"
   },
   "source": [
    "For loops are a programming construct that let you go through each item in a sequence and then perform some operation on each one. For instance, you could use a for loop to go through all the values in a vector and check whether each conforms to some logical expression or to print each value to the console."
   ]
  },
  {
   "cell_type": "code",
   "execution_count": 5,
   "metadata": {
    "_uuid": "350d002b1f194ecb5b8a5fb8e5358472c41521ad"
   },
   "outputs": [
    {
     "name": "stdout",
     "output_type": "stream",
     "text": [
      "[1] 0\n",
      "[1] 10\n",
      "[1] 20\n",
      "[1] 30\n",
      "[1] 40\n",
      "[1] 50\n",
      "[1] 60\n",
      "[1] 70\n",
      "[1] 80\n",
      "[1] 90\n",
      "[1] 100\n"
     ]
    }
   ],
   "source": [
    "my_sequence <- seq(0,100,10)     # Create a numeric vector\n",
    "\n",
    "for (item in my_sequence) {     # Create a new for loop over the specified items\n",
    "    print(item)                 # Code to execute\n",
    "}"
   ]
  },
  {
   "cell_type": "markdown",
   "metadata": {
    "_uuid": "5e3aac81591910c4da4700230ac600ef7444b55b"
   },
   "source": [
    "For loops support a couple of keywords that help control the flow of the loop: next and break.\n",
    "\n",
    "The next keyword causes a for loop to skip to the next iteration of the loop."
   ]
  },
  {
   "cell_type": "code",
   "execution_count": 6,
   "metadata": {
    "_uuid": "2e9f2e8d2f7dc387765af44e08084e3216a1ca47"
   },
   "outputs": [
    {
     "name": "stdout",
     "output_type": "stream",
     "text": [
      "[1] 50\n",
      "[1] 60\n",
      "[1] 70\n",
      "[1] 80\n",
      "[1] 90\n",
      "[1] 100\n"
     ]
    }
   ],
   "source": [
    "for (item in my_sequence) {\n",
    "    if (item < 50){        # This if statement skips items less than 50\n",
    "        next\n",
    "    }\n",
    "    print(item)\n",
    "}"
   ]
  },
  {
   "cell_type": "markdown",
   "metadata": {
    "_uuid": "dcc4a146aff78ec2faded3ab75cbe101dca33d31"
   },
   "source": [
    "The break keyword halts the execution of the loop entirely. Use break to \"break out\" of a loop."
   ]
  },
  {
   "cell_type": "code",
   "execution_count": 7,
   "metadata": {
    "_uuid": "d0eb5715a0d3934469ad3df587fdc0d61c91ee0d"
   },
   "outputs": [
    {
     "name": "stdout",
     "output_type": "stream",
     "text": [
      "[1] 0\n",
      "[1] 10\n",
      "[1] 20\n",
      "[1] 30\n",
      "[1] 40\n",
      "[1] 50\n"
     ]
    }
   ],
   "source": [
    "for (item in my_sequence) {\n",
    "    if (item > 50){        # Break out of the loop if item exceeds 50\n",
    "        break\n",
    "    }\n",
    "    print(item)\n",
    "}"
   ]
  },
  {
   "cell_type": "markdown",
   "metadata": {
    "_uuid": "9992a3c14bd60ba2ab572675d4280c94ea1d2e08"
   },
   "source": [
    "In the for loop above, substituting the next keyword for break would actually result in the exact same output but the code would take longer to run because it would still go through each item instead of breaking out of the for loop early. It is best to break out of loops early if possible to reduce execution time."
   ]
  },
  {
   "cell_type": "markdown",
   "metadata": {
    "_uuid": "462095652a1946daec3462db00e805fed38c53dd"
   },
   "source": [
    "## While Loops"
   ]
  },
  {
   "cell_type": "markdown",
   "metadata": {
    "_uuid": "19a1a358dde072f46f5fe3a6a2317835c0981ff6"
   },
   "source": [
    "While loops are similar to for loops in that they allow you to execute code over and over again. For loops execute their contents, at most, a number of iterations equal to the length of the sequence you are looping over. While loops, on the other hand, keep executing their contents as long as a certain logical expression you supply remains true."
   ]
  },
  {
   "cell_type": "code",
   "execution_count": 8,
   "metadata": {
    "_uuid": "36a569f62e72471dabc877ffa17841621d22c921"
   },
   "outputs": [
    {
     "name": "stdout",
     "output_type": "stream",
     "text": [
      "[1] \"Study\"\n",
      "[1] \"Study\"\n",
      "[1] \"Study\"\n",
      "[1] \"Study\"\n",
      "[1] \"Study\"\n"
     ]
    }
   ],
   "source": [
    "x <- 5\n",
    "iters <-0\n",
    "\n",
    "while (iters < x) {     # Execute the contents as long as iters < x\n",
    "    print(\"Study\")\n",
    "    iters <- iters+1    # Increment iters by 1 each time the loop executes\n",
    "}"
   ]
  },
  {
   "cell_type": "markdown",
   "metadata": {
    "_uuid": "09ee2121b54ba6e588d99adccf8556a904b4f0df"
   },
   "source": [
    "While loops can get you into trouble because they keep executing until the logical statement provided is false. If you supply a logical statement that will never become false and don't provide a way to break out of the while loop, it will run forever. For instance, if the while loop above didn't include the statement incrementing the value of iters by 1, the logical statement would never become false and the code would run forever. Infinite while loops are a common cause of program hangs and crashes.\n",
    "\n",
    "The next and break statements work inside while loops just like they do in for loops. You can use the break statement to escape a while loop even if the logical expression you supplied is true. Consider the following while loop:"
   ]
  },
  {
   "cell_type": "code",
   "execution_count": 9,
   "metadata": {
    "_uuid": "0f90ff0ce18655520c8e5395e084571c97bd18e8"
   },
   "outputs": [
    {
     "name": "stdout",
     "output_type": "stream",
     "text": [
      "[1] \"Study\"\n"
     ]
    }
   ],
   "source": [
    "while (TRUE) {            # This logical expression is always true!\n",
    "    print(\"Study\")\n",
    "    break                 # But we immediately break out of the loop\n",
    "}"
   ]
  },
  {
   "cell_type": "markdown",
   "metadata": {
    "_uuid": "85178ba0cbe34b855afc712820d40db17bd28956"
   },
   "source": [
    "Without the break statement above, the while loop would have run forever. It is important to make sure that while loops contain a logical expression that will eventually be false or a break statement that will eventually be executed to avoid infinite loops.\n",
    "\n",
    "Although you can use a while loop to do anything a for loop can do, it is best to use for loops whenever you want to perform an operation a specific number of times. While loops should be reserved for cases where you don't know how many times you need to execute the loop. In the context of data analysis in R, you will rarely find a situation where you have to use a while loop, since you're typically dealing with data sets of known sizes, so you can use for loops."
   ]
  },
  {
   "cell_type": "markdown",
   "metadata": {
    "_uuid": "947450d9087414b96fdef362bfb8acc39cc92a56"
   },
   "source": [
    "# Control Flow | ifelse() Function"
   ]
  },
  {
   "cell_type": "markdown",
   "metadata": {
    "_uuid": "a07307444707eb0efe7713548a592ffedf1fe4fc"
   },
   "source": [
    "\n",
    "R provides various control flow functions that facilitate flow control within expressions. For example, `ifelse()` is a vectorized version of `if-else`, which can process entire vectors and produce conditional results efficiently."
   ]
  },
  {
   "cell_type": "code",
   "execution_count": 10,
   "metadata": {
    "_uuid": "4022cb732dafb41630e0dd5ea205c68377407dc9"
   },
   "outputs": [
    {
     "name": "stdout",
     "output_type": "stream",
     "text": [
      " [1] 0.00000000 0.63555040 0.88524346 0.00000000 0.00000000 0.00000000\n",
      " [7] 0.00000000 0.28333073 0.00000000 0.00000000 0.00000000 0.62776112\n",
      "[13] 0.00000000 0.00000000 0.00000000 0.00000000 0.00000000 0.08141509\n",
      "[19] 0.33135966 0.00000000 0.00000000 0.57567269 0.00000000 0.41966093\n",
      "[25] 0.00000000\n"
     ]
    }
   ],
   "source": [
    "set.seed(12)  # Initialize the random number generator\n",
    "\n",
    "my_vect <- runif(25, -1, 1)          # Generate some random data between -1 and 1\n",
    "\n",
    "for (index in 1:length(my_vect) ) {   # loop through the sequence 1:25\n",
    "    number <- my_vect[index]          # look up the next number using indexing\n",
    "    if (number < 0) {                 # check if the number is less than 0\n",
    "        my_vect[index] <- 0           # if so, set it to 0\n",
    "    }\n",
    "}\n",
    "\n",
    "print (my_vect)"
   ]
  },
  {
   "cell_type": "markdown",
   "metadata": {
    "_uuid": "5e935ecf3625563b27fccd825e4ce76b2220d13e"
   },
   "source": [
    "Using a for loop requires writing quite a bit of code and loops are not particularly fast.\n",
    "\n",
    "Instead we could have used R's ifelse() function to the same thing in a vectorized manner. ifelse() takes a logical test as the first argument, a value to return if the test is true as the second argument and a value to return if the test is false as the third argument:"
   ]
  },
  {
   "cell_type": "code",
   "execution_count": 11,
   "metadata": {
    "_uuid": "ac31a14b8335e7dc6a1b73553d632346aa19775e"
   },
   "outputs": [
    {
     "name": "stdout",
     "output_type": "stream",
     "text": [
      " [1] 0.00000000 0.63555040 0.88524346 0.00000000 0.00000000 0.00000000\n",
      " [7] 0.00000000 0.28333073 0.00000000 0.00000000 0.00000000 0.62776112\n",
      "[13] 0.00000000 0.00000000 0.00000000 0.00000000 0.00000000 0.08141509\n",
      "[19] 0.33135966 0.00000000 0.00000000 0.57567269 0.00000000 0.41966093\n",
      "[25] 0.00000000\n"
     ]
    }
   ],
   "source": [
    "set.seed(12)  # Initialize the random number generator\n",
    "\n",
    "my_vect <- runif(25, -1, 1)         # Generate new random data between -1 and 1\n",
    "\n",
    "my_vect <-   ifelse((my_vect < 0),  # A logical test\n",
    "             0,                     # Value to set if the test is true\n",
    "             my_vect)               # Value to set if the test is false\n",
    "\n",
    "print (my_vect)"
   ]
  },
  {
   "cell_type": "markdown",
   "metadata": {
    "_uuid": "5f66f02b95972dac4b4289675a272881e2c0d794"
   },
   "source": [
    "Since ifelse() is a vectorized function it provides a way to quickly apply a logical test to all values in a vector, change certain values based on the test outcome and keep other values the same."
   ]
  },
  {
   "cell_type": "markdown",
   "metadata": {
    "_uuid": "38f958d09409b208162b6e1050e4968982a07114"
   },
   "source": [
    "# Wrap Up"
   ]
  },
  {
   "cell_type": "markdown",
   "metadata": {
    "_uuid": "202461081629476f0380ca14a205bc5fb0b2dbfa"
   },
   "source": [
    "The basic control flow statements we've learned thus far: if, else and for and while loops along with the ability to store values in variables and do arithmetic computations are the basic building blocks used in every programming language. Although R and its packages provide many common functions, you may need to write your own custom functions from time to time."
   ]
  },
  {
   "cell_type": "markdown",
   "metadata": {
    "_uuid": "fe5062574a10cf5cb69021a70ab6f93e17d5732a"
   },
   "source": [
    "## Exercises\n",
    "\n",
    "To do the exercises, fork this notebook and then fill in and run the code boxes according to the exercise instructions."
   ]
  },
  {
   "cell_type": "markdown",
   "metadata": {
    "_uuid": "a1158418a5bd691da1378c34049d31dfd9b85f94"
   },
   "source": [
    "### Exercise #1\n",
    "Load the titanic training data and save it as titanic_train."
   ]
  },
  {
   "cell_type": "code",
   "execution_count": 12,
   "metadata": {
    "_kg_hide-output": true,
    "_uuid": "fff1a2a0dac63895b39a0cae7f0543c38a3a65b2"
   },
   "outputs": [
    {
     "ename": "ERROR",
     "evalue": "Error in `*tmp*`$Age: $ operator is invalid for atomic vectors\n",
     "output_type": "error",
     "traceback": [
      "Error in `*tmp*`$Age: $ operator is invalid for atomic vectors\nTraceback:\n"
     ]
    }
   ],
   "source": [
    "titanic_train <- \"Your Code Here!\"\n",
    "\n",
    "# This line fills NA values for Age with 0\n",
    "titanic_train$Age[is.na(titanic_train$Age)] <- 0\n",
    "head(titanic_train)"
   ]
  },
  {
   "cell_type": "markdown",
   "metadata": {
    "_uuid": "915483ee807b092e2eda52f068594383ba7b6b90"
   },
   "source": [
    "### Exercise #2\n",
    "Write a for loop that loops through the \"Age\" column in titanic_train and print the age for each passenger with an age of 65 or older."
   ]
  },
  {
   "cell_type": "code",
   "execution_count": 13,
   "metadata": {
    "_kg_hide-output": true,
    "_uuid": "227db923fbed173b47e9f477ed2b57a1e2b50d97"
   },
   "outputs": [
    {
     "ename": "ERROR",
     "evalue": "Error in parse(text = x, srcfile = src): <text>:1:6: unexpected string constant\n1: for (\"Your Code Here!\"\n         ^\n",
     "output_type": "error",
     "traceback": [
      "Error in parse(text = x, srcfile = src): <text>:1:6: unexpected string constant\n1: for (\"Your Code Here!\"\n         ^\nTraceback:\n"
     ]
    }
   ],
   "source": [
    "for (\"Your Code Here!\"){\n",
    "    if(\"Your Code Here!\"){\n",
    "    print(\"Your Code Here!\")\n",
    "    }\n",
    "}"
   ]
  },
  {
   "cell_type": "markdown",
   "metadata": {
    "_uuid": "56f3469f0f92c59b3265893d99f2fa4603e84273"
   },
   "source": [
    "### Exercise #3\n",
    "Use ifelse() to create a new column called \"elderly\" in titanic_train with the value \"Elderly\" when Age is greater than or equal to 65 and \"Not Elderly\" when Age is less than 65."
   ]
  },
  {
   "cell_type": "code",
   "execution_count": 14,
   "metadata": {
    "_kg_hide-output": true,
    "_uuid": "e61bc093042a8c19f4f176f2b06a58b463a7c160"
   },
   "outputs": [
    {
     "name": "stderr",
     "output_type": "stream",
     "text": [
      "Warning message in titanic_train$elderly <- ifelse(\"Your Code Here!\"):\n",
      "“Coercing LHS to a list”\n"
     ]
    },
    {
     "data": {
      "text/plain": [
       "< table of extent 0 >"
      ]
     },
     "metadata": {},
     "output_type": "display_data"
    }
   ],
   "source": [
    "titanic_train$elderly <- ifelse(\"Your Code Here!\")\n",
    "\n",
    "table(titanic_train$elderly)"
   ]
  },
  {
   "cell_type": "markdown",
   "metadata": {
    "_uuid": "9e3106f3e7be8320dfbfd2019cddd434379aaf62"
   },
   "source": [
    "## Exercise Solutions"
   ]
  },
  {
   "cell_type": "code",
   "execution_count": 16,
   "metadata": {
    "_kg_hide-input": true,
    "_kg_hide-output": true,
    "_uuid": "4a858bf9202378f9ebd068f610cc084baaec0bc2"
   },
   "outputs": [
    {
     "data": {
      "text/html": [
       "<table class=\"dataframe\">\n",
       "<caption>A data.frame: 6 × 12</caption>\n",
       "<thead>\n",
       "\t<tr><th></th><th scope=col>PassengerId</th><th scope=col>Survived</th><th scope=col>Pclass</th><th scope=col>Name</th><th scope=col>Sex</th><th scope=col>Age</th><th scope=col>SibSp</th><th scope=col>Parch</th><th scope=col>Ticket</th><th scope=col>Fare</th><th scope=col>Cabin</th><th scope=col>Embarked</th></tr>\n",
       "\t<tr><th></th><th scope=col>&lt;int&gt;</th><th scope=col>&lt;int&gt;</th><th scope=col>&lt;int&gt;</th><th scope=col>&lt;chr&gt;</th><th scope=col>&lt;chr&gt;</th><th scope=col>&lt;dbl&gt;</th><th scope=col>&lt;int&gt;</th><th scope=col>&lt;int&gt;</th><th scope=col>&lt;chr&gt;</th><th scope=col>&lt;dbl&gt;</th><th scope=col>&lt;chr&gt;</th><th scope=col>&lt;chr&gt;</th></tr>\n",
       "</thead>\n",
       "<tbody>\n",
       "\t<tr><th scope=row>1</th><td>1</td><td>0</td><td>3</td><td>Braund, Mr. Owen Harris                            </td><td>male  </td><td>22</td><td>1</td><td>0</td><td>A/5 21171       </td><td> 7.2500</td><td>    </td><td>S</td></tr>\n",
       "\t<tr><th scope=row>2</th><td>2</td><td>1</td><td>1</td><td>Cumings, Mrs. John Bradley (Florence Briggs Thayer)</td><td>female</td><td>38</td><td>1</td><td>0</td><td>PC 17599        </td><td>71.2833</td><td>C85 </td><td>C</td></tr>\n",
       "\t<tr><th scope=row>3</th><td>3</td><td>1</td><td>3</td><td>Heikkinen, Miss. Laina                             </td><td>female</td><td>26</td><td>0</td><td>0</td><td>STON/O2. 3101282</td><td> 7.9250</td><td>    </td><td>S</td></tr>\n",
       "\t<tr><th scope=row>4</th><td>4</td><td>1</td><td>1</td><td>Futrelle, Mrs. Jacques Heath (Lily May Peel)       </td><td>female</td><td>35</td><td>1</td><td>0</td><td>113803          </td><td>53.1000</td><td>C123</td><td>S</td></tr>\n",
       "\t<tr><th scope=row>5</th><td>5</td><td>0</td><td>3</td><td>Allen, Mr. William Henry                           </td><td>male  </td><td>35</td><td>0</td><td>0</td><td>373450          </td><td> 8.0500</td><td>    </td><td>S</td></tr>\n",
       "\t<tr><th scope=row>6</th><td>6</td><td>0</td><td>3</td><td>Moran, Mr. James                                   </td><td>male  </td><td> 0</td><td>0</td><td>0</td><td>330877          </td><td> 8.4583</td><td>    </td><td>Q</td></tr>\n",
       "</tbody>\n",
       "</table>\n"
      ],
      "text/latex": [
       "A data.frame: 6 × 12\n",
       "\\begin{tabular}{r|llllllllllll}\n",
       "  & PassengerId & Survived & Pclass & Name & Sex & Age & SibSp & Parch & Ticket & Fare & Cabin & Embarked\\\\\n",
       "  & <int> & <int> & <int> & <chr> & <chr> & <dbl> & <int> & <int> & <chr> & <dbl> & <chr> & <chr>\\\\\n",
       "\\hline\n",
       "\t1 & 1 & 0 & 3 & Braund, Mr. Owen Harris                             & male   & 22 & 1 & 0 & A/5 21171        &  7.2500 &      & S\\\\\n",
       "\t2 & 2 & 1 & 1 & Cumings, Mrs. John Bradley (Florence Briggs Thayer) & female & 38 & 1 & 0 & PC 17599         & 71.2833 & C85  & C\\\\\n",
       "\t3 & 3 & 1 & 3 & Heikkinen, Miss. Laina                              & female & 26 & 0 & 0 & STON/O2. 3101282 &  7.9250 &      & S\\\\\n",
       "\t4 & 4 & 1 & 1 & Futrelle, Mrs. Jacques Heath (Lily May Peel)        & female & 35 & 1 & 0 & 113803           & 53.1000 & C123 & S\\\\\n",
       "\t5 & 5 & 0 & 3 & Allen, Mr. William Henry                            & male   & 35 & 0 & 0 & 373450           &  8.0500 &      & S\\\\\n",
       "\t6 & 6 & 0 & 3 & Moran, Mr. James                                    & male   &  0 & 0 & 0 & 330877           &  8.4583 &      & Q\\\\\n",
       "\\end{tabular}\n"
      ],
      "text/markdown": [
       "\n",
       "A data.frame: 6 × 12\n",
       "\n",
       "| <!--/--> | PassengerId &lt;int&gt; | Survived &lt;int&gt; | Pclass &lt;int&gt; | Name &lt;chr&gt; | Sex &lt;chr&gt; | Age &lt;dbl&gt; | SibSp &lt;int&gt; | Parch &lt;int&gt; | Ticket &lt;chr&gt; | Fare &lt;dbl&gt; | Cabin &lt;chr&gt; | Embarked &lt;chr&gt; |\n",
       "|---|---|---|---|---|---|---|---|---|---|---|---|---|\n",
       "| 1 | 1 | 0 | 3 | Braund, Mr. Owen Harris                             | male   | 22 | 1 | 0 | A/5 21171        |  7.2500 | <!----> | S |\n",
       "| 2 | 2 | 1 | 1 | Cumings, Mrs. John Bradley (Florence Briggs Thayer) | female | 38 | 1 | 0 | PC 17599         | 71.2833 | C85  | C |\n",
       "| 3 | 3 | 1 | 3 | Heikkinen, Miss. Laina                              | female | 26 | 0 | 0 | STON/O2. 3101282 |  7.9250 | <!----> | S |\n",
       "| 4 | 4 | 1 | 1 | Futrelle, Mrs. Jacques Heath (Lily May Peel)        | female | 35 | 1 | 0 | 113803           | 53.1000 | C123 | S |\n",
       "| 5 | 5 | 0 | 3 | Allen, Mr. William Henry                            | male   | 35 | 0 | 0 | 373450           |  8.0500 | <!----> | S |\n",
       "| 6 | 6 | 0 | 3 | Moran, Mr. James                                    | male   |  0 | 0 | 0 | 330877           |  8.4583 | <!----> | Q |\n",
       "\n"
      ],
      "text/plain": [
       "  PassengerId Survived Pclass\n",
       "1 1           0        3     \n",
       "2 2           1        1     \n",
       "3 3           1        3     \n",
       "4 4           1        1     \n",
       "5 5           0        3     \n",
       "6 6           0        3     \n",
       "  Name                                                Sex    Age SibSp Parch\n",
       "1 Braund, Mr. Owen Harris                             male   22  1     0    \n",
       "2 Cumings, Mrs. John Bradley (Florence Briggs Thayer) female 38  1     0    \n",
       "3 Heikkinen, Miss. Laina                              female 26  0     0    \n",
       "4 Futrelle, Mrs. Jacques Heath (Lily May Peel)        female 35  1     0    \n",
       "5 Allen, Mr. William Henry                            male   35  0     0    \n",
       "6 Moran, Mr. James                                    male    0  0     0    \n",
       "  Ticket           Fare    Cabin Embarked\n",
       "1 A/5 21171         7.2500       S       \n",
       "2 PC 17599         71.2833 C85   C       \n",
       "3 STON/O2. 3101282  7.9250       S       \n",
       "4 113803           53.1000 C123  S       \n",
       "5 373450            8.0500       S       \n",
       "6 330877            8.4583       Q       "
      ]
     },
     "metadata": {},
     "output_type": "display_data"
    },
    {
     "name": "stdout",
     "output_type": "stream",
     "text": [
      "[1] 66\n",
      "[1] 65\n",
      "[1] 71\n",
      "[1] 70.5\n",
      "[1] 65\n",
      "[1] 65\n",
      "[1] 71\n",
      "[1] 80\n",
      "[1] 70\n",
      "[1] 70\n",
      "[1] 74\n"
     ]
    },
    {
     "data": {
      "text/plain": [
       "\n",
       "    Elderly Not Elderly \n",
       "         11         880 "
      ]
     },
     "metadata": {},
     "output_type": "display_data"
    }
   ],
   "source": [
    "# 1 \n",
    "\n",
    "titanic_train <- read.csv(\"data/train.csv\")\n",
    "\n",
    "titanic_train$Age[is.na(titanic_train$Age)] <- 0\n",
    "head(titanic_train)\n",
    "\n",
    "\n",
    "# 2 \n",
    "\n",
    "for (passenger in titanic_train$Age){\n",
    "    if(passenger >= 65){\n",
    "    print(passenger)\n",
    "    }\n",
    "}\n",
    "\n",
    "# 3\n",
    "\n",
    "titanic_train$elderly <- ifelse(titanic_train$Age >= 65, \n",
    "                               \"Elderly\",\n",
    "                               \"Not Elderly\")\n",
    "\n",
    "table(titanic_train$elderly)"
   ]
  }
 ],
 "metadata": {
  "kernelspec": {
   "display_name": "R",
   "language": "R",
   "name": "ir"
  },
  "language_info": {
   "codemirror_mode": "r",
   "file_extension": ".r",
   "mimetype": "text/x-r-source",
   "name": "R",
   "pygments_lexer": "r",
   "version": "4.2.3"
  }
 },
 "nbformat": 4,
 "nbformat_minor": 4
}
