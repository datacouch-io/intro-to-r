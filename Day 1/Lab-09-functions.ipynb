{
 "cells": [
  {
   "cell_type": "markdown",
   "metadata": {
    "_execution_state": "idle",
    "_uuid": "6b27cb0f04aa50f19a3c38337bf88b305364a46c"
   },
   "source": [
    "# R | Functions"
   ]
  },
  {
   "cell_type": "markdown",
   "metadata": {
    "_uuid": "4d398fc1cdab0835e4eab20c78f721a0d22233cc"
   },
   "source": [
    "In R, functions are essential building blocks that enable you to organize code into reusable, modular components. A function is a block of code designed to perform a specific task, and it can take input arguments, process them, and return a result or perform an action. Functions play a pivotal role in simplifying complex tasks, promoting code reusability, and enhancing the efficiency of your R programs.\n",
    "\n",
    "**Key Features of Functions:**\n",
    "\n",
    "1.  **Defining Functions:** In R, you can define your own functions using the `function()` keyword followed by the function name, input arguments (if any), and the code block enclosed in curly braces `{}`. Functions can have any number of arguments, which can be specified with default values for added flexibility.\n",
    "    \n",
    "2.  **Input and Output:** Functions can accept one or more input arguments, which are used as parameters during the function's execution. Inside the function, these arguments can be manipulated to perform the desired task. Functions can also return values using the `return()` statement, providing the result of the computation.\n",
    "    \n",
    "3.  **Built-in Functions:** R comes with an extensive set of built-in functions covering a wide range of tasks, such as mathematical operations, data manipulation, statistical analysis, and data visualization. These functions form the foundation of R's functionality and can be used directly without the need for custom definitions.\n",
    "    \n",
    "4.  **Scoping:** R employs lexical scoping, which means that the variables defined within a function are local to that function by default. This ensures that variables outside the function remain unaffected by the function's internal computations.\n",
    "    \n",
    "5.  **Anonymous Functions:** R allows the creation of anonymous functions using the `function()` keyword without assigning a name to the function. These functions are often used in conjunction with other functions like `apply()` or `lapply()` for concise, on-the-fly operations.\n",
    "    \n",
    "6.  **Higher-order Functions:** Functions in R can be treated as first-class objects, meaning they can be passed as arguments to other functions and returned as values. This powerful concept enables the use of higher-order functions, which take functions as arguments or return functions.\n",
    "    \n",
    "7.  **Function Documentation:** R supports documentation for functions, providing essential information about the function's purpose, input arguments, output, and usage. Properly documented functions promote code readability and maintainability.\n",
    "    \n",
    "\n",
    "**Benefits of Functions:**\n",
    "\n",
    "-   **Modularity:** Functions allow you to break down complex problems into smaller, manageable tasks, improving code organization and readability.\n",
    "-   **Reusability:** By defining functions, you can reuse the same code logic in multiple places, reducing redundancy and saving development time.\n",
    "-   **Testing and Debugging:** Well-structured functions are easier to test and debug, as they focus on specific tasks and can be isolated for analysis.\n",
    "-   **Code Maintenance:** Functions facilitate code maintenance, as updates or modifications can be made within the function without affecting other parts of the code.\n",
    "\n",
    "Overall, functions are a fundamental concept in R programming, empowering you to create efficient, maintainable, and scalable code for a wide range of data analysis and statistical tasks."
   ]
  },
  {
   "cell_type": "markdown",
   "metadata": {
    "_uuid": "c0ab09074c07755d5d14181422190357d56495c5"
   },
   "source": [
    "# Creating Functions"
   ]
  },
  {
   "cell_type": "markdown",
   "metadata": {
    "_uuid": "234e96a71a62e388dbf652599825d60b1737ac55"
   },
   "source": [
    "Create a new function in R with the following syntax:"
   ]
  },
  {
   "cell_type": "code",
   "execution_count": 1,
   "metadata": {
    "_uuid": "5a61a7b8319f16fcea30cd08646fe3031cc17918"
   },
   "outputs": [],
   "source": [
    "# Assign the function() to a name and declare arguments within ()\n",
    "new_function <- function(arguments) { \n",
    "    \n",
    "    # Write a function body within the {} to execute\n",
    "    for( x in 1:arguments){\n",
    "    print(\"This is a function!\")\n",
    "    }\n",
    "    \n",
    "}"
   ]
  },
  {
   "cell_type": "markdown",
   "metadata": {
    "_uuid": "88c88058c1202580444e0044a73ab85b7af847fc"
   },
   "source": [
    "After defining a function and assigning it a name, you can call the function using that name just like you would use a built-in function."
   ]
  },
  {
   "cell_type": "code",
   "execution_count": 2,
   "metadata": {
    "_uuid": "1fbdf03d5cf71b853f4588b412730900b022118c"
   },
   "outputs": [
    {
     "name": "stdout",
     "output_type": "stream",
     "text": [
      "[1] \"This is a function!\"\n",
      "[1] \"This is a function!\"\n",
      "[1] \"This is a function!\"\n"
     ]
    }
   ],
   "source": [
    "new_function(3) "
   ]
  },
  {
   "cell_type": "markdown",
   "metadata": {
    "_uuid": "abb93db5950f75efc3e5667d76ebea9577bce215"
   },
   "source": [
    "Notice that the function printed 3 times because we passed in 3 as the value of \"arguments\". This particular function does not return anything: it simply prints a character string to the console a specified number of times.\n",
    "\n",
    "Functions in R return the last expression evaluated by default. For instance, if we add two numbers at the end of a function, it will return the result of that addition."
   ]
  },
  {
   "cell_type": "code",
   "execution_count": 3,
   "metadata": {
    "_uuid": "38f958d09409b208162b6e1050e4968982a07114"
   },
   "outputs": [
    {
     "data": {
      "text/html": [
       "15"
      ],
      "text/latex": [
       "15"
      ],
      "text/markdown": [
       "15"
      ],
      "text/plain": [
       "[1] 15"
      ]
     },
     "metadata": {},
     "output_type": "display_data"
    }
   ],
   "source": [
    "add_10 <- function(number){  \n",
    "    \n",
    "    number + 10\n",
    "\n",
    "}\n",
    "\n",
    "add_10(5)"
   ]
  },
  {
   "cell_type": "markdown",
   "metadata": {
    "_uuid": "2f084f8dec2d530387f9483609f3c3dd4707bd9f"
   },
   "source": [
    "You can force an R function to return a specific value with return(). Using return() breaks out of the function, so code that appears after a return() statement is not run."
   ]
  },
  {
   "cell_type": "code",
   "execution_count": 4,
   "metadata": {
    "_uuid": "7770af431d25df7139dedbcf19c039aa4a9e10a9"
   },
   "outputs": [
    {
     "data": {
      "text/html": [
       "25"
      ],
      "text/latex": [
       "25"
      ],
      "text/markdown": [
       "25"
      ],
      "text/plain": [
       "[1] 25"
      ]
     },
     "metadata": {},
     "output_type": "display_data"
    }
   ],
   "source": [
    "add_20 <- function(number){           \n",
    "    \n",
    "    return (number + 20) # Exit and return a specified value\n",
    "    \n",
    "    number + 10      # The function exits before running this line\n",
    "}\n",
    "\n",
    "add_20(5)"
   ]
  },
  {
   "cell_type": "markdown",
   "metadata": {
    "_uuid": "1e82ee0479b8c0bc454a054a9e9700b1d059dd13"
   },
   "source": [
    "Any time you want to break out of a function early and return a value, you need to use return(). You can use return() even when returning the last evaluated expression, but it is not necessary since the last evaluated expression will be returned by default. Whether to explicitly use return() in cases like this where it is not strictly necessary is largely a matter of personal preference. In complicated functions, explicit use of return() may make code easier to understand. In short functions, return may just make code look more cluttered."
   ]
  },
  {
   "cell_type": "markdown",
   "metadata": {
    "_uuid": "8250d6a4a8956d3b183526408e02512fed326d3c"
   },
   "source": [
    "# Function Arguments"
   ]
  },
  {
   "cell_type": "markdown",
   "metadata": {
    "_uuid": "e74955704dc4616e0d8d2599382e4d401e837381"
   },
   "source": [
    "A function can have one or more named arguments. You can assign a default value to an argument when creating a function with the argument_name = argument_value syntax."
   ]
  },
  {
   "cell_type": "code",
   "execution_count": 5,
   "metadata": {
    "_uuid": "6f09e18a288f23c47e28ee757a9ab45ad8acdfe3"
   },
   "outputs": [
    {
     "name": "stdout",
     "output_type": "stream",
     "text": [
      "[1] 1\n",
      "[1] 2\n",
      "[1] 3\n"
     ]
    }
   ],
   "source": [
    "sum_3_items <- function(x,y,z,       # Create a new function\n",
    "                print_args = TRUE){  # One argument has a default\n",
    "    \n",
    "    if (print_args){                     \n",
    "        print (x)\n",
    "        print (y)\n",
    "        print (z)\n",
    "    }\n",
    "    \n",
    "    return(x+y+z)\n",
    "    \n",
    "}\n",
    "\n",
    "sum1 <- sum_3_items(1,2,3)       # Here the arguments are printed\n",
    "\n",
    "sum2 <- sum_3_items(10,20,30, \n",
    "             print_args = FALSE) # Changing the default suppresses printing"
   ]
  },
  {
   "cell_type": "markdown",
   "metadata": {
    "_uuid": "2c44813c0a34e909fd42fcd4722c93449c4f2e81"
   },
   "source": [
    "When you call a function, the arguments you supply are matched based on the order in which you supply them unless you specify the name of an argument explicitly. For instance, in the code above, the arguments 1, 2 and 3 passed to sum_3_items() are assigned to x, y and z, respectively. Alternatively, we could have explicitly assigned the arguments when calling the function."
   ]
  },
  {
   "cell_type": "code",
   "execution_count": 6,
   "metadata": {
    "_uuid": "489663dc611517e0b6c5e060b84c3eb0c3a2f63b"
   },
   "outputs": [
    {
     "name": "stdout",
     "output_type": "stream",
     "text": [
      "[1] 3\n",
      "[1] 2\n",
      "[1] 1\n"
     ]
    },
    {
     "data": {
      "text/html": [
       "6"
      ],
      "text/latex": [
       "6"
      ],
      "text/markdown": [
       "6"
      ],
      "text/plain": [
       "[1] 6"
      ]
     },
     "metadata": {},
     "output_type": "display_data"
    }
   ],
   "source": [
    "sum_3_items(z=1, y=2, x=3)"
   ]
  },
  {
   "cell_type": "markdown",
   "metadata": {
    "_uuid": "99acb176db7b73f323b64af22c1c637012d6014f"
   },
   "source": [
    "When you explicitly assign values to arguments by name, the order you pass the arguments to the function doesn't matter. You can also assign some variables using ordered matching and some explicitly. Explicitly assigning a variable removes it from the normal argument order."
   ]
  },
  {
   "cell_type": "code",
   "execution_count": 7,
   "metadata": {
    "_uuid": "4edd9cd2830353ada65a8be35de2c285691c022f"
   },
   "outputs": [
    {
     "name": "stdout",
     "output_type": "stream",
     "text": [
      "[1] 3\n",
      "[1] 2\n",
      "[1] 1\n"
     ]
    },
    {
     "data": {
      "text/html": [
       "6"
      ],
      "text/latex": [
       "6"
      ],
      "text/markdown": [
       "6"
      ],
      "text/plain": [
       "[1] 6"
      ]
     },
     "metadata": {},
     "output_type": "display_data"
    }
   ],
   "source": [
    "# y is explicitly assigned \n",
    "# 3 and 1 are assigned to the remaining args x and z\n",
    "\n",
    "sum_3_items(3, 1, y=2)"
   ]
  },
  {
   "cell_type": "markdown",
   "metadata": {
    "_uuid": "57c3e37140b8112815653bffd27caa6300cd613e"
   },
   "source": [
    "R also provides a special ellipsis (...) argument. The ... argument collects all extra arguments passed to a function that are not matched. The ... argument can be used in functions where the number of arguments is not known in advance. For instance, we could use ... to add any number of numerical arguments together."
   ]
  },
  {
   "cell_type": "code",
   "execution_count": 8,
   "metadata": {
    "_uuid": "096e6fc0b0fbacdeac81b7312a75124b5e1b12ba"
   },
   "outputs": [
    {
     "data": {
      "text/html": [
       "56"
      ],
      "text/latex": [
       "56"
      ],
      "text/markdown": [
       "56"
      ],
      "text/plain": [
       "[1] 56"
      ]
     },
     "metadata": {},
     "output_type": "display_data"
    }
   ],
   "source": [
    "addition_function <- function(...){         \n",
    "    \n",
    "    total <- 0                   \n",
    "    \n",
    "    # list(...) extracts the arguments to a list\n",
    "    for (value in list(...)){\n",
    "        \n",
    "        # Add each argument in ... to the total\n",
    "        total <- total+value     \n",
    "    }\n",
    "    \n",
    "    total\n",
    "}\n",
    "\n",
    "addition_function(2,4,6,8,10,12,14)    # Add several numbers"
   ]
  },
  {
   "cell_type": "markdown",
   "metadata": {
    "_uuid": "2e4008b948636926182435f2cc953771cd823eda"
   },
   "source": [
    "We've already encountered several functions that use ... such as c() which combines any number of arguments into a single vector. ... can also be used to pass arguments from one function to another, offering an easy way to extend existing functions."
   ]
  },
  {
   "cell_type": "code",
   "execution_count": 9,
   "metadata": {
    "_uuid": "739d348eff88c5b31d7516e28a73bce9e9090581"
   },
   "outputs": [
    {
     "name": "stdout",
     "output_type": "stream",
     "text": [
      "[1] 4\n"
     ]
    },
    {
     "data": {
      "text/html": [
       "<style>\n",
       ".list-inline {list-style: none; margin:0; padding: 0}\n",
       ".list-inline>li {display: inline-block}\n",
       ".list-inline>li:not(:last-child)::after {content: \"\\00b7\"; padding: 0 .5ex}\n",
       "</style>\n",
       "<ol class=list-inline><li>1</li><li>3</li><li>4</li><li>5</li></ol>\n"
      ],
      "text/latex": [
       "\\begin{enumerate*}\n",
       "\\item 1\n",
       "\\item 3\n",
       "\\item 4\n",
       "\\item 5\n",
       "\\end{enumerate*}\n"
      ],
      "text/markdown": [
       "1. 1\n",
       "2. 3\n",
       "3. 4\n",
       "4. 5\n",
       "\n",
       "\n"
      ],
      "text/plain": [
       "[1] 1 3 4 5"
      ]
     },
     "metadata": {},
     "output_type": "display_data"
    }
   ],
   "source": [
    "# This function is the same as c() but it also prints the number of arguments\n",
    "\n",
    "extend_c <- function(...) {      \n",
    "  print(length(list(...)))  # Print the number of arguments\n",
    "  c(...)                    # Pass the arguments to c() and return the result\n",
    "}\n",
    "\n",
    "extend_c(1,3,4,5)"
   ]
  },
  {
   "cell_type": "markdown",
   "metadata": {
    "_uuid": "a82fa6eeaec312b7939036f89d4252591e96d9f4"
   },
   "source": [
    "# Function Documentation"
   ]
  },
  {
   "cell_type": "markdown",
   "metadata": {
    "_uuid": "7607e1283ef6bdbf36dd6155cedbf19c932bd419"
   },
   "source": [
    "When creating a function intended for future use by yourself or others, providing documentation is highly beneficial to explain how the function operates. You can add documentation to a function by including comment lines immediately below the function's assignment statement. This documentation usually comprises a brief function description, a summary of its arguments, and an explanation of its return value. By adding clear and concise documentation, users can better understand the function's purpose and how to utilize it effectively."
   ]
  },
  {
   "cell_type": "code",
   "execution_count": 10,
   "metadata": {
    "_uuid": "7b0436aff66309d4fc1eb47edce13acc8f64ad9c"
   },
   "outputs": [],
   "source": [
    "\n",
    "root_mean_squared_error <- function(predicted, targets){  \n",
    "    # Computes root mean squared error between two vectors\n",
    "    #\n",
    "    # Args:\n",
    "    #    predicted: a numeric vector of predictions\n",
    "    #    targets: a numeric vector of target values for each prediction\n",
    "    #\n",
    "    # Returns:\n",
    "    #    The root mean squared error between predicted values and targets\n",
    "    \n",
    "    sqrt(mean((targets-predicted)^2))               \n",
    "}"
   ]
  },
  {
   "cell_type": "markdown",
   "metadata": {
    "_uuid": "40440e2401bf1851ef4266a8b465eee73dc1797f"
   },
   "source": [
    "_  \n",
    "**Note: Root Mean Squared Error (RMSE) serves as a widely used evaluation metric in predictive modeling._**\n",
    "\n",
    "To ensure user-friendly usage, comprehensive documentation should be provided, sparing the user from delving into the function's code. In case assistance is required to comprehend a built-in R function or a package, accessing its documentation can be achieved within the local RStudio environment using either `?function_name` or `help(function_name)`. This quick reference to documentation aids users in understanding the functions and packages, enabling efficient utilization in their projects."
   ]
  },
  {
   "cell_type": "code",
   "execution_count": 11,
   "metadata": {
    "_uuid": "6fa2db592376d3c727c8962ce625de5d9467ed71"
   },
   "outputs": [
    {
     "data": {
      "text/html": [
       "\n",
       "<table style=\"width: 100%;\"><tr><td>MathFun {base}</td><td style=\"text-align: right;\">R Documentation</td></tr></table>\n",
       "\n",
       "<h2>Miscellaneous Mathematical Functions</h2>\n",
       "\n",
       "<h3>Description</h3>\n",
       "\n",
       "<p><code>abs(x)</code> computes the absolute value of x, <code>sqrt(x)</code> computes the\n",
       "(principal) square root of x, <code class=\"reqn\">\\sqrt{x}</code>.\n",
       "</p>\n",
       "<p>The naming follows the standard for computer languages such as C or Fortran.\n",
       "</p>\n",
       "\n",
       "\n",
       "<h3>Usage</h3>\n",
       "\n",
       "<pre><code class='language-R'>abs(x)\n",
       "sqrt(x)\n",
       "</code></pre>\n",
       "\n",
       "\n",
       "<h3>Arguments</h3>\n",
       "\n",
       "<table>\n",
       "<tr style=\"vertical-align: top;\"><td><code>x</code></td>\n",
       "<td>\n",
       "<p>a numeric or <code>complex</code> vector or array.</p>\n",
       "</td></tr>\n",
       "</table>\n",
       "\n",
       "\n",
       "<h3>Details</h3>\n",
       "\n",
       "<p>These are internal generic primitive functions: methods\n",
       "can be defined for them individually or via the\n",
       "<code>Math</code> group generic.  For complex\n",
       "arguments (and the default method), <code>z</code>, <code>abs(z) ==\n",
       "  Mod(z)</code> and <code>sqrt(z) == z^0.5</code>.\n",
       "</p>\n",
       "<p><code>abs(x)</code> returns an <code>integer</code> vector when <code>x</code> is\n",
       "<code>integer</code> or <code>logical</code>.\n",
       "</p>\n",
       "\n",
       "\n",
       "<h3>S4 methods</h3>\n",
       "\n",
       "<p>Both are S4 generic and members of the\n",
       "<code>Math</code> group generic.\n",
       "</p>\n",
       "\n",
       "\n",
       "<h3>References</h3>\n",
       "\n",
       "<p>Becker, R. A., Chambers, J. M. and Wilks, A. R. (1988)\n",
       "<em>The New S Language</em>.\n",
       "Wadsworth &amp; Brooks/Cole.\n",
       "</p>\n",
       "\n",
       "\n",
       "<h3>See Also</h3>\n",
       "\n",
       "<p><code>Arithmetic</code> for simple, <code>log</code> for logarithmic,\n",
       "<code>sin</code> for trigonometric, and <code>Special</code> for\n",
       "special mathematical functions.\n",
       "</p>\n",
       "<p>&lsquo;plotmath&rsquo; for the use of <code>sqrt</code> in plot annotation.\n",
       "</p>\n",
       "\n",
       "\n",
       "<h3>Examples</h3>\n",
       "\n",
       "<pre><code class='language-R'>require(stats) # for spline\n",
       "require(graphics)\n",
       "xx &lt;- -9:9\n",
       "plot(xx, sqrt(abs(xx)),  col = \"red\")\n",
       "lines(spline(xx, sqrt(abs(xx)), n=101), col = \"pink\")\n",
       "</code></pre>\n",
       "\n",
       "<hr /><div style=\"text-align: center;\">[Package <em>base</em> version 4.2.3 ]</div>\n",
       "</div>"
      ],
      "text/latex": [
       "\\inputencoding{utf8}\n",
       "\\HeaderA{MathFun}{Miscellaneous Mathematical Functions}{MathFun}\n",
       "\\aliasA{abs}{MathFun}{abs}\n",
       "\\aliasA{sqrt}{MathFun}{sqrt}\n",
       "\\keyword{math}{MathFun}\n",
       "%\n",
       "\\begin{Description}\\relax\n",
       "\\code{abs(x)} computes the absolute value of x, \\code{sqrt(x)} computes the\n",
       "(principal) square root of x, \\eqn{\\sqrt{x}}{}.\n",
       "\n",
       "The naming follows the standard for computer languages such as C or Fortran.\n",
       "\\end{Description}\n",
       "%\n",
       "\\begin{Usage}\n",
       "\\begin{verbatim}\n",
       "abs(x)\n",
       "sqrt(x)\n",
       "\\end{verbatim}\n",
       "\\end{Usage}\n",
       "%\n",
       "\\begin{Arguments}\n",
       "\\begin{ldescription}\n",
       "\\item[\\code{x}] a numeric or \\code{\\LinkA{complex}{complex}} vector or array.\n",
       "\\end{ldescription}\n",
       "\\end{Arguments}\n",
       "%\n",
       "\\begin{Details}\\relax\n",
       "These are \\LinkA{internal generic}{internal generic} \\LinkA{primitive}{primitive} functions: methods\n",
       "can be defined for them individually or via the\n",
       "\\code{\\LinkA{Math}{S3groupGeneric}} group generic.  For complex\n",
       "arguments (and the default method), \\code{z}, \\code{abs(z) ==\n",
       "  \\LinkA{Mod}{Mod}(z)} and \\code{sqrt(z) == z\\textasciicircum{}0.5}.\n",
       "\n",
       "\\code{abs(x)} returns an \\code{\\LinkA{integer}{integer}} vector when \\code{x} is\n",
       "\\code{integer} or \\code{\\LinkA{logical}{logical}}.\n",
       "\\end{Details}\n",
       "%\n",
       "\\begin{Section}{S4 methods}\n",
       "Both are S4 generic and members of the\n",
       "\\code{\\LinkA{Math}{S4groupGeneric}} group generic.\n",
       "\\end{Section}\n",
       "%\n",
       "\\begin{References}\\relax\n",
       "Becker, R. A., Chambers, J. M. and Wilks, A. R. (1988)\n",
       "\\emph{The New S Language}.\n",
       "Wadsworth \\& Brooks/Cole.\n",
       "\\end{References}\n",
       "%\n",
       "\\begin{SeeAlso}\\relax\n",
       "\\code{\\LinkA{Arithmetic}{Arithmetic}} for simple, \\code{\\LinkA{log}{log}} for logarithmic,\n",
       "\\code{\\LinkA{sin}{sin}} for trigonometric, and \\code{\\LinkA{Special}{Special}} for\n",
       "special mathematical functions.\n",
       "\n",
       "`\\LinkA{plotmath}{plotmath}' for the use of \\code{sqrt} in plot annotation.\n",
       "\\end{SeeAlso}\n",
       "%\n",
       "\\begin{Examples}\n",
       "\\begin{ExampleCode}\n",
       "require(stats) # for spline\n",
       "require(graphics)\n",
       "xx <- -9:9\n",
       "plot(xx, sqrt(abs(xx)),  col = \"red\")\n",
       "lines(spline(xx, sqrt(abs(xx)), n=101), col = \"pink\")\n",
       "\\end{ExampleCode}\n",
       "\\end{Examples}"
      ],
      "text/plain": [
       "MathFun                  package:base                  R Documentation\n",
       "\n",
       "_\bM_\bi_\bs_\bc_\be_\bl_\bl_\ba_\bn_\be_\bo_\bu_\bs _\bM_\ba_\bt_\bh_\be_\bm_\ba_\bt_\bi_\bc_\ba_\bl _\bF_\bu_\bn_\bc_\bt_\bi_\bo_\bn_\bs\n",
       "\n",
       "_\bD_\be_\bs_\bc_\br_\bi_\bp_\bt_\bi_\bo_\bn:\n",
       "\n",
       "     ‘abs(x)’ computes the absolute value of x, ‘sqrt(x)’ computes the\n",
       "     (principal) square root of x, sqrt{x}.\n",
       "\n",
       "     The naming follows the standard for computer languages such as C\n",
       "     or Fortran.\n",
       "\n",
       "_\bU_\bs_\ba_\bg_\be:\n",
       "\n",
       "     abs(x)\n",
       "     sqrt(x)\n",
       "     \n",
       "_\bA_\br_\bg_\bu_\bm_\be_\bn_\bt_\bs:\n",
       "\n",
       "       x: a numeric or ‘complex’ vector or array.\n",
       "\n",
       "_\bD_\be_\bt_\ba_\bi_\bl_\bs:\n",
       "\n",
       "     These are internal generic primitive functions: methods can be\n",
       "     defined for them individually or via the ‘Math’ group generic.\n",
       "     For complex arguments (and the default method), ‘z’, ‘abs(z) ==\n",
       "     Mod(z)’ and ‘sqrt(z) == z^0.5’.\n",
       "\n",
       "     ‘abs(x)’ returns an ‘integer’ vector when ‘x’ is ‘integer’ or\n",
       "     ‘logical’.\n",
       "\n",
       "_\bS_\b4 _\bm_\be_\bt_\bh_\bo_\bd_\bs:\n",
       "\n",
       "     Both are S4 generic and members of the ‘Math’ group generic.\n",
       "\n",
       "_\bR_\be_\bf_\be_\br_\be_\bn_\bc_\be_\bs:\n",
       "\n",
       "     Becker, R. A., Chambers, J. M. and Wilks, A. R. (1988) _The New S\n",
       "     Language_.  Wadsworth & Brooks/Cole.\n",
       "\n",
       "_\bS_\be_\be _\bA_\bl_\bs_\bo:\n",
       "\n",
       "     ‘Arithmetic’ for simple, ‘log’ for logarithmic, ‘sin’ for\n",
       "     trigonometric, and ‘Special’ for special mathematical functions.\n",
       "\n",
       "     ‘plotmath’ for the use of ‘sqrt’ in plot annotation.\n",
       "\n",
       "_\bE_\bx_\ba_\bm_\bp_\bl_\be_\bs:\n",
       "\n",
       "     require(stats) # for spline\n",
       "     require(graphics)\n",
       "     xx <- -9:9\n",
       "     plot(xx, sqrt(abs(xx)),  col = \"red\")\n",
       "     lines(spline(xx, sqrt(abs(xx)), n=101), col = \"pink\")\n",
       "     "
      ]
     },
     "metadata": {},
     "output_type": "display_data"
    }
   ],
   "source": [
    "# Uncomment this line to show documentation for the sqrt function\n",
    "?sqrt"
   ]
  },
  {
   "cell_type": "markdown",
   "metadata": {
    "_uuid": "2e1b7889df8e510c68f04c2f70c9d661fde08f0f"
   },
   "source": [
    "# Wrap Up"
   ]
  },
  {
   "cell_type": "markdown",
   "metadata": {
    "_uuid": "cfe09b26a105e7c51ca295b93fc2d730e36326d4"
   },
   "source": [
    "Creating and using functions is at the core of data analysis. One of the main reasons to use R for data analysis is the wide range of useful functions available in the base language and its packages and the ability to quickly define and apply new functions if necessary."
   ]
  },
  {
   "cell_type": "markdown",
   "metadata": {
    "_uuid": "fe5062574a10cf5cb69021a70ab6f93e17d5732a"
   },
   "source": [
    "## Exercises\n",
    "\n",
    "To do the exercises, fork this notebook and then fill in and run the code boxes according to the exercise instructions."
   ]
  },
  {
   "cell_type": "markdown",
   "metadata": {
    "_uuid": "a1158418a5bd691da1378c34049d31dfd9b85f94"
   },
   "source": [
    "### Exercise #1\n",
    "Define a new function called \"hello_world\" that prints \"Hello world!\". Then call the function."
   ]
  },
  {
   "cell_type": "code",
   "execution_count": 12,
   "metadata": {
    "_kg_hide-output": true,
    "_uuid": "fff1a2a0dac63895b39a0cae7f0543c38a3a65b2"
   },
   "outputs": [],
   "source": [
    "# Your code here!"
   ]
  },
  {
   "cell_type": "markdown",
   "metadata": {
    "_uuid": "915483ee807b092e2eda52f068594383ba7b6b90"
   },
   "source": [
    "### Exercise #2\n",
    "Define a new function, mult_function, that takes two arguments and multiplies them together and then adds 1."
   ]
  },
  {
   "cell_type": "code",
   "execution_count": 13,
   "metadata": {
    "_kg_hide-output": true,
    "_uuid": "227db923fbed173b47e9f477ed2b57a1e2b50d97"
   },
   "outputs": [
    {
     "ename": "ERROR",
     "evalue": "Error in mult_function(12, 12): could not find function \"mult_function\"\n",
     "output_type": "error",
     "traceback": [
      "Error in mult_function(12, 12): could not find function \"mult_function\"\nTraceback:\n"
     ]
    }
   ],
   "source": [
    "mult_function <- \"Your Code Here!\"\n",
    "\n",
    "\n",
    "# This call should return 145\n",
    "mult_function(12, 12)"
   ]
  },
  {
   "cell_type": "markdown",
   "metadata": {
    "_uuid": "56f3469f0f92c59b3265893d99f2fa4603e84273"
   },
   "source": [
    "### Exercise #3\n",
    "Write a new function that takes any number of arguments and checks whether they are all equal to one another.\n",
    "\n",
    "*Hint: Try using a for loop to loop through each argument.*"
   ]
  },
  {
   "cell_type": "code",
   "execution_count": 14,
   "metadata": {
    "_kg_hide-output": true,
    "_uuid": "e61bc093042a8c19f4f176f2b06a58b463a7c160"
   },
   "outputs": [
    {
     "name": "stdout",
     "output_type": "stream",
     "text": [
      "[1] \"Your Code Here!\"\n",
      "[1] \"Your Code Here!\"\n"
     ]
    }
   ],
   "source": [
    "all_equal <- function(...){\n",
    "    \n",
    "    \"Your Code Here!\"\n",
    "    \n",
    "}\n",
    "\n",
    "# This call should be FALSE\n",
    "print(all_equal(\"R\", \"R\", \"R\", \"Python\"))\n",
    "\n",
    "# This call should be TRUE\n",
    "print(all_equal(0,0,FALSE,0,0)) # Remember: 0 equals FALSE in R!"
   ]
  },
  {
   "cell_type": "markdown",
   "metadata": {
    "_uuid": "9e3106f3e7be8320dfbfd2019cddd434379aaf62"
   },
   "source": [
    "## Exercise Solutions"
   ]
  },
  {
   "cell_type": "code",
   "execution_count": 15,
   "metadata": {
    "_kg_hide-input": true,
    "_kg_hide-output": true,
    "_uuid": "4a858bf9202378f9ebd068f610cc084baaec0bc2"
   },
   "outputs": [
    {
     "name": "stdout",
     "output_type": "stream",
     "text": [
      "[1] \"Hello World!\"\n"
     ]
    },
    {
     "data": {
      "text/html": [
       "145"
      ],
      "text/latex": [
       "145"
      ],
      "text/markdown": [
       "145"
      ],
      "text/plain": [
       "[1] 145"
      ]
     },
     "metadata": {},
     "output_type": "display_data"
    },
    {
     "name": "stdout",
     "output_type": "stream",
     "text": [
      "[1] FALSE\n",
      "[1] TRUE\n"
     ]
    }
   ],
   "source": [
    "# 1 \n",
    "\n",
    "hello_world <- function(){\n",
    "    print(\"Hello World!\")\n",
    "}\n",
    "\n",
    "hello_world()\n",
    "\n",
    "# 2 \n",
    "\n",
    "mult_function <- function(x, y){\n",
    "    (x * y) + 1\n",
    "}\n",
    "\n",
    "mult_function(12, 12)\n",
    "\n",
    "\n",
    "# 3\n",
    "\n",
    "all_equal <- function(...){\n",
    "    \n",
    "    first_item <- list(...)[[1]]\n",
    "    \n",
    "    for(item in list(...)){\n",
    "        if(item != first_item){\n",
    "            return (FALSE)\n",
    "        }\n",
    "    }\n",
    "    \n",
    "    TRUE\n",
    "    \n",
    "}\n",
    "\n",
    "print(all_equal(2,2,2,1))\n",
    "print(all_equal(0,0,FALSE,0,0))\n"
   ]
  }
 ],
 "metadata": {
  "kernelspec": {
   "display_name": "R",
   "language": "R",
   "name": "ir"
  },
  "language_info": {
   "codemirror_mode": "r",
   "file_extension": ".r",
   "mimetype": "text/x-r-source",
   "name": "R",
   "pygments_lexer": "r",
   "version": "4.2.3"
  }
 },
 "nbformat": 4,
 "nbformat_minor": 4
}
