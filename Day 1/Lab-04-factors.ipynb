{
 "cells": [
  {
   "cell_type": "markdown",
   "metadata": {
    "_execution_state": "idle",
    "_uuid": "6b27cb0f04aa50f19a3c38337bf88b305364a46c"
   },
   "source": [
    "# R | Factors"
   ]
  },
  {
   "cell_type": "markdown",
   "metadata": {
    "_uuid": "4d398fc1cdab0835e4eab20c78f721a0d22233cc"
   },
   "source": [
    "In R, factors are a data type used to represent categorical variables. They play a crucial role in statistical analysis and data modeling, allowing the efficient handling of data with discrete categories or levels. Factors are created using the `factor()` function, which takes a vector of data and its distinct categories as input. Each unique value in the vector is assigned a level, and the factor retains the order and labels of these levels.\n",
    "\n",
    "Factors are beneficial in various aspects of data analysis, such as:\n",
    "\n",
    "1.  **Statistical Modeling:** Factors are essential in statistical models, as they enable the representation of qualitative or nominal variables. They are commonly used in regression, ANOVA, and other analyses.\n",
    "    \n",
    "2.  **Memory Efficiency:** Factors store data more efficiently than character vectors, as they only store the unique levels once, with integer indices pointing to these levels. This optimization reduces memory usage, especially when dealing with large datasets.\n",
    "    \n",
    "3.  **Ordered Categorical Data:** Factors can handle ordered categories, making them suitable for data with predefined rankings or levels.\n",
    "    \n",
    "4.  **Visualization:** Factors work seamlessly with plotting functions, allowing easy visualization of categorical data.\n",
    "    \n",
    "5.  **Consistent Subsetting and Sorting:** Factors maintain the order of levels, ensuring consistent subsetting and sorting of data based on categories.\n",
    "    \n",
    "At the end of the [last lab](./Lab-03-dataframes.ipynb) on data frames, we learned that character data loaded into a data frame is converted into a special data structure called a factor by default. \n",
    "\n",
    "While factors are incredibly useful for categorical data, it is essential to be cautious when performing mathematical operations with them, as they are internally stored as integers. Converting factors to character vectors or vice versa should be done carefully to avoid unintended consequences. Overall, mastering the usage of factors in R is fundamental for efficient data handling and accurate statistical analyses.\n",
    "\n"
   ]
  },
  {
   "cell_type": "code",
   "execution_count": 1,
   "metadata": {
    "_uuid": "c0ab09074c07755d5d14181422190357d56495c5"
   },
   "outputs": [
    {
     "name": "stdout",
     "output_type": "stream",
     "text": [
      " [1] male   male   male   male   male   male   male   male   male   male  \n",
      "[11] female female female female female female female female female female\n",
      "[21] female female female female female\n",
      "Levels: female male\n"
     ]
    }
   ],
   "source": [
    "gender_vector <- c(rep(\"male\",10),\n",
    "                   rep(\"female\",15))   # Create a character variable\n",
    "\n",
    "gender_factor <- factor(gender_vector) # Convert to factor\n",
    " \n",
    "print(gender_factor)"
   ]
  },
  {
   "cell_type": "markdown",
   "metadata": {
    "_uuid": "234e96a71a62e388dbf652599825d60b1737ac55"
   },
   "source": [
    "You can specify the levels a factor can take by passing a character vector of levels to the levels argument."
   ]
  },
  {
   "cell_type": "code",
   "execution_count": 2,
   "metadata": {
    "_uuid": "5a61a7b8319f16fcea30cd08646fe3031cc17918"
   },
   "outputs": [
    {
     "name": "stdout",
     "output_type": "stream",
     "text": [
      " [1] male   male   male   male   male   male   male   male   male   male  \n",
      "[11] female female female female female female female female female female\n",
      "[21] female female female female female\n",
      "Levels: male female other\n"
     ]
    }
   ],
   "source": [
    "gender_factor <- factor(gender_vector, \n",
    "                        levels = c(\"male\",\"female\",\"other\"))\n",
    "\n",
    "print(gender_factor)"
   ]
  },
  {
   "cell_type": "markdown",
   "metadata": {
    "_uuid": "1fbdf03d5cf71b853f4588b412730900b022118c"
   },
   "source": [
    "In this case there are no data points that take on the level \"other\" but the factor allows for the possibility of encountering the category \"other\".\n",
    "\n",
    "You can check, rename and add to the levels of a factor with the levels() function:"
   ]
  },
  {
   "cell_type": "code",
   "execution_count": 3,
   "metadata": {
    "_uuid": "80e3ef122e69ae9acfa67f8069b1d88ae251f73d"
   },
   "outputs": [
    {
     "data": {
      "text/html": [
       "<style>\n",
       ".list-inline {list-style: none; margin:0; padding: 0}\n",
       ".list-inline>li {display: inline-block}\n",
       ".list-inline>li:not(:last-child)::after {content: \"\\00b7\"; padding: 0 .5ex}\n",
       "</style>\n",
       "<ol class=list-inline><li>'male'</li><li>'female'</li><li>'other'</li></ol>\n"
      ],
      "text/latex": [
       "\\begin{enumerate*}\n",
       "\\item 'male'\n",
       "\\item 'female'\n",
       "\\item 'other'\n",
       "\\end{enumerate*}\n"
      ],
      "text/markdown": [
       "1. 'male'\n",
       "2. 'female'\n",
       "3. 'other'\n",
       "\n",
       "\n"
      ],
      "text/plain": [
       "[1] \"male\"   \"female\" \"other\" "
      ]
     },
     "metadata": {},
     "output_type": "display_data"
    }
   ],
   "source": [
    "levels(gender_factor)    # Check levels"
   ]
  },
  {
   "cell_type": "code",
   "execution_count": 4,
   "metadata": {
    "_uuid": "6486186998fc374ff78670236bd2272afd5da0a8"
   },
   "outputs": [
    {
     "data": {
      "text/html": [
       "<style>\n",
       ".list-inline {list-style: none; margin:0; padding: 0}\n",
       ".list-inline>li {display: inline-block}\n",
       ".list-inline>li:not(:last-child)::after {content: \"\\00b7\"; padding: 0 .5ex}\n",
       "</style>\n",
       "<ol class=list-inline><li>'male'</li><li>'female'</li><li>'unknown'</li></ol>\n"
      ],
      "text/latex": [
       "\\begin{enumerate*}\n",
       "\\item 'male'\n",
       "\\item 'female'\n",
       "\\item 'unknown'\n",
       "\\end{enumerate*}\n"
      ],
      "text/markdown": [
       "1. 'male'\n",
       "2. 'female'\n",
       "3. 'unknown'\n",
       "\n",
       "\n"
      ],
      "text/plain": [
       "[1] \"male\"    \"female\"  \"unknown\""
      ]
     },
     "metadata": {},
     "output_type": "display_data"
    }
   ],
   "source": [
    "levels(gender_factor) <- c(\"male\",\"female\",\"unknown\")  # Change levels\n",
    "\n",
    "levels(gender_factor)"
   ]
  },
  {
   "cell_type": "code",
   "execution_count": 5,
   "metadata": {
    "_uuid": "63f71daaff57bc8a04f6dd235520b480332a1821"
   },
   "outputs": [
    {
     "data": {
      "text/html": [
       "<style>\n",
       ".list-inline {list-style: none; margin:0; padding: 0}\n",
       ".list-inline>li {display: inline-block}\n",
       ".list-inline>li:not(:last-child)::after {content: \"\\00b7\"; padding: 0 .5ex}\n",
       "</style>\n",
       "<ol class=list-inline><li>'male'</li><li>'female'</li><li>'unknown'</li><li>'no_response'</li></ol>\n"
      ],
      "text/latex": [
       "\\begin{enumerate*}\n",
       "\\item 'male'\n",
       "\\item 'female'\n",
       "\\item 'unknown'\n",
       "\\item 'no\\_response'\n",
       "\\end{enumerate*}\n"
      ],
      "text/markdown": [
       "1. 'male'\n",
       "2. 'female'\n",
       "3. 'unknown'\n",
       "4. 'no_response'\n",
       "\n",
       "\n"
      ],
      "text/plain": [
       "[1] \"male\"        \"female\"      \"unknown\"     \"no_response\""
      ]
     },
     "metadata": {},
     "output_type": "display_data"
    }
   ],
   "source": [
    "levels(gender_factor) <- c(\"male\",\"female\",\n",
    "                           \"unknown\",\"no_response\") # Add a level\n",
    "\n",
    "levels(gender_factor)"
   ]
  },
  {
   "cell_type": "markdown",
   "metadata": {
    "_uuid": "38f958d09409b208162b6e1050e4968982a07114"
   },
   "source": [
    "You can remove factor levels with no data present by recreating the factor with the factor() function or by using the droplevels() function."
   ]
  },
  {
   "cell_type": "code",
   "execution_count": 6,
   "metadata": {
    "_uuid": "3d7c9f9e5615f2fb4c7db1ffd02fcacfb3d377b5"
   },
   "outputs": [
    {
     "data": {
      "text/html": [
       "<style>\n",
       ".list-inline {list-style: none; margin:0; padding: 0}\n",
       ".list-inline>li {display: inline-block}\n",
       ".list-inline>li:not(:last-child)::after {content: \"\\00b7\"; padding: 0 .5ex}\n",
       "</style>\n",
       "<ol class=list-inline><li>'male'</li><li>'female'</li></ol>\n"
      ],
      "text/latex": [
       "\\begin{enumerate*}\n",
       "\\item 'male'\n",
       "\\item 'female'\n",
       "\\end{enumerate*}\n"
      ],
      "text/markdown": [
       "1. 'male'\n",
       "2. 'female'\n",
       "\n",
       "\n"
      ],
      "text/plain": [
       "[1] \"male\"   \"female\""
      ]
     },
     "metadata": {},
     "output_type": "display_data"
    }
   ],
   "source": [
    "gender_factor <- droplevels(gender_factor) # drop unused levels\n",
    "\n",
    "levels(gender_factor)"
   ]
  },
  {
   "cell_type": "markdown",
   "metadata": {
    "_uuid": "035b2979da4bd3e6c969c97dea15ed7d6ac490c2"
   },
   "source": [
    "In R, there exists another type of factor known as an \"ordered factor,\" specifically designed for handling ordinal data. Ordinal data refers to non-numeric information that possesses a natural ordering. For instance, a variable with levels like \"very low,\" \"low,\" \"medium,\" \"high,\" and \"very high\" is non-numeric but exhibits a clear order. To represent such data accurately, it can be encoded as an ordered factor.\n",
    "\n",
    "To create an ordered factor in R, you can utilize the `factor()` function with the additional argument `ordered=TRUE`, or alternatively, employ the `ordered()` function.\n",
    "\n",
    "_Important Note: When creating an ordered factor, it is crucial to specify the `levels` argument. The levels provided are used to define the ordering from the lowest to the highest category._"
   ]
  },
  {
   "cell_type": "code",
   "execution_count": 7,
   "metadata": {
    "_uuid": "165f535ac2b578b0f6e12344ef87b01f2c4a2a2a"
   },
   "outputs": [
    {
     "name": "stdout",
     "output_type": "stream",
     "text": [
      " [1] very low  low       medium    high      very high very low  low      \n",
      " [8] medium    high      very high very low  low       medium    high     \n",
      "[15] very high very low  low       medium    high      very high very low \n",
      "[22] low       medium    high      very high\n",
      "Levels: very low < low < medium < high < very high\n"
     ]
    }
   ],
   "source": [
    "dat <- rep(c(\"very low\", \"low\", \"medium\", \"high\", \"very high\"), 5)\n",
    "\n",
    "dat_factor <- factor(dat, \n",
    "                     levels=c(\"very low\", \"low\", \"medium\", \"high\", \"very high\"),\n",
    "                     ordered=TRUE)\n",
    "\n",
    "print(dat_factor)"
   ]
  },
  {
   "cell_type": "markdown",
   "metadata": {
    "_uuid": "11cafd20bf5d155f1b50ef0f5318c4c4fe71917a"
   },
   "source": [
    "While factors can be useful for storing categorical data during analysis, they usually not what you want if you need to clean, alter or otherwise process the data prior to analysis. Convert a factor to character using as.character()."
   ]
  },
  {
   "cell_type": "code",
   "execution_count": 8,
   "metadata": {
    "_uuid": "cb801620144afe67d814abf95841014c2424b2f2"
   },
   "outputs": [
    {
     "data": {
      "text/html": [
       "<style>\n",
       ".list-inline {list-style: none; margin:0; padding: 0}\n",
       ".list-inline>li {display: inline-block}\n",
       ".list-inline>li:not(:last-child)::after {content: \"\\00b7\"; padding: 0 .5ex}\n",
       "</style>\n",
       "<ol class=list-inline><li>'male'</li><li>'male'</li><li>'male'</li><li>'male'</li><li>'male'</li><li>'male'</li><li>'male'</li><li>'male'</li><li>'male'</li><li>'male'</li><li>'female'</li><li>'female'</li><li>'female'</li><li>'female'</li><li>'female'</li><li>'female'</li><li>'female'</li><li>'female'</li><li>'female'</li><li>'female'</li><li>'female'</li><li>'female'</li><li>'female'</li><li>'female'</li><li>'female'</li></ol>\n"
      ],
      "text/latex": [
       "\\begin{enumerate*}\n",
       "\\item 'male'\n",
       "\\item 'male'\n",
       "\\item 'male'\n",
       "\\item 'male'\n",
       "\\item 'male'\n",
       "\\item 'male'\n",
       "\\item 'male'\n",
       "\\item 'male'\n",
       "\\item 'male'\n",
       "\\item 'male'\n",
       "\\item 'female'\n",
       "\\item 'female'\n",
       "\\item 'female'\n",
       "\\item 'female'\n",
       "\\item 'female'\n",
       "\\item 'female'\n",
       "\\item 'female'\n",
       "\\item 'female'\n",
       "\\item 'female'\n",
       "\\item 'female'\n",
       "\\item 'female'\n",
       "\\item 'female'\n",
       "\\item 'female'\n",
       "\\item 'female'\n",
       "\\item 'female'\n",
       "\\end{enumerate*}\n"
      ],
      "text/markdown": [
       "1. 'male'\n",
       "2. 'male'\n",
       "3. 'male'\n",
       "4. 'male'\n",
       "5. 'male'\n",
       "6. 'male'\n",
       "7. 'male'\n",
       "8. 'male'\n",
       "9. 'male'\n",
       "10. 'male'\n",
       "11. 'female'\n",
       "12. 'female'\n",
       "13. 'female'\n",
       "14. 'female'\n",
       "15. 'female'\n",
       "16. 'female'\n",
       "17. 'female'\n",
       "18. 'female'\n",
       "19. 'female'\n",
       "20. 'female'\n",
       "21. 'female'\n",
       "22. 'female'\n",
       "23. 'female'\n",
       "24. 'female'\n",
       "25. 'female'\n",
       "\n",
       "\n"
      ],
      "text/plain": [
       " [1] \"male\"   \"male\"   \"male\"   \"male\"   \"male\"   \"male\"   \"male\"   \"male\"  \n",
       " [9] \"male\"   \"male\"   \"female\" \"female\" \"female\" \"female\" \"female\" \"female\"\n",
       "[17] \"female\" \"female\" \"female\" \"female\" \"female\" \"female\" \"female\" \"female\"\n",
       "[25] \"female\""
      ]
     },
     "metadata": {},
     "output_type": "display_data"
    }
   ],
   "source": [
    "as.character(gender_factor)"
   ]
  },
  {
   "cell_type": "markdown",
   "metadata": {
    "_uuid": "045c0c3c20072cce8711c215f8896e577ae1ecc2"
   },
   "source": [
    "If you try to convert a factor to numeric, the result will be a numeric vector corresponding to the integers assigned to each factor level."
   ]
  },
  {
   "cell_type": "code",
   "execution_count": 9,
   "metadata": {
    "_uuid": "175a85577be48eebf968abb3011797a239b1d63c"
   },
   "outputs": [
    {
     "data": {
      "text/html": [
       "<style>\n",
       ".list-inline {list-style: none; margin:0; padding: 0}\n",
       ".list-inline>li {display: inline-block}\n",
       ".list-inline>li:not(:last-child)::after {content: \"\\00b7\"; padding: 0 .5ex}\n",
       "</style>\n",
       "<ol class=list-inline><li>1</li><li>1</li><li>1</li><li>1</li><li>1</li><li>1</li><li>1</li><li>1</li><li>1</li><li>1</li><li>2</li><li>2</li><li>2</li><li>2</li><li>2</li><li>2</li><li>2</li><li>2</li><li>2</li><li>2</li><li>2</li><li>2</li><li>2</li><li>2</li><li>2</li></ol>\n"
      ],
      "text/latex": [
       "\\begin{enumerate*}\n",
       "\\item 1\n",
       "\\item 1\n",
       "\\item 1\n",
       "\\item 1\n",
       "\\item 1\n",
       "\\item 1\n",
       "\\item 1\n",
       "\\item 1\n",
       "\\item 1\n",
       "\\item 1\n",
       "\\item 2\n",
       "\\item 2\n",
       "\\item 2\n",
       "\\item 2\n",
       "\\item 2\n",
       "\\item 2\n",
       "\\item 2\n",
       "\\item 2\n",
       "\\item 2\n",
       "\\item 2\n",
       "\\item 2\n",
       "\\item 2\n",
       "\\item 2\n",
       "\\item 2\n",
       "\\item 2\n",
       "\\end{enumerate*}\n"
      ],
      "text/markdown": [
       "1. 1\n",
       "2. 1\n",
       "3. 1\n",
       "4. 1\n",
       "5. 1\n",
       "6. 1\n",
       "7. 1\n",
       "8. 1\n",
       "9. 1\n",
       "10. 1\n",
       "11. 2\n",
       "12. 2\n",
       "13. 2\n",
       "14. 2\n",
       "15. 2\n",
       "16. 2\n",
       "17. 2\n",
       "18. 2\n",
       "19. 2\n",
       "20. 2\n",
       "21. 2\n",
       "22. 2\n",
       "23. 2\n",
       "24. 2\n",
       "25. 2\n",
       "\n",
       "\n"
      ],
      "text/plain": [
       " [1] 1 1 1 1 1 1 1 1 1 1 2 2 2 2 2 2 2 2 2 2 2 2 2 2 2"
      ]
     },
     "metadata": {},
     "output_type": "display_data"
    }
   ],
   "source": [
    "as.numeric(gender_factor)"
   ]
  },
  {
   "cell_type": "markdown",
   "metadata": {
    "_uuid": "2868336a61ed652ca127e203862af74cec3c1099"
   },
   "source": [
    "If for some reason you have numeric data encoded as a factor, this might not be the desired behavior. To convert a factor with numeric levels to a numeric vector of the level values use the following construction."
   ]
  },
  {
   "cell_type": "code",
   "execution_count": 10,
   "metadata": {
    "_uuid": "02a438e99ea9604f399f81497264bdf529a04e0d"
   },
   "outputs": [
    {
     "data": {
      "text/html": [
       "<style>\n",
       ".list-inline {list-style: none; margin:0; padding: 0}\n",
       ".list-inline>li {display: inline-block}\n",
       ".list-inline>li:not(:last-child)::after {content: \"\\00b7\"; padding: 0 .5ex}\n",
       "</style>\n",
       "<ol class=list-inline><li>-1.3</li><li>-2.6</li><li>2.6</li><li>3.2</li><li>2.6</li><li>4.5</li><li>-1.3</li></ol>\n"
      ],
      "text/latex": [
       "\\begin{enumerate*}\n",
       "\\item -1.3\n",
       "\\item -2.6\n",
       "\\item 2.6\n",
       "\\item 3.2\n",
       "\\item 2.6\n",
       "\\item 4.5\n",
       "\\item -1.3\n",
       "\\end{enumerate*}\n"
      ],
      "text/markdown": [
       "1. -1.3\n",
       "2. -2.6\n",
       "3. 2.6\n",
       "4. 3.2\n",
       "5. 2.6\n",
       "6. 4.5\n",
       "7. -1.3\n",
       "\n",
       "\n"
      ],
      "text/plain": [
       "[1] -1.3 -2.6  2.6  3.2  2.6  4.5 -1.3"
      ]
     },
     "metadata": {},
     "output_type": "display_data"
    },
    {
     "data": {
      "text/html": [
       "<style>\n",
       ".list-inline {list-style: none; margin:0; padding: 0}\n",
       ".list-inline>li {display: inline-block}\n",
       ".list-inline>li:not(:last-child)::after {content: \"\\00b7\"; padding: 0 .5ex}\n",
       "</style>\n",
       "<ol class=list-inline><li>-1.3</li><li>-2.6</li><li>2.6</li><li>3.2</li><li>2.6</li><li>4.5</li><li>-1.3</li></ol>\n"
      ],
      "text/latex": [
       "\\begin{enumerate*}\n",
       "\\item -1.3\n",
       "\\item -2.6\n",
       "\\item 2.6\n",
       "\\item 3.2\n",
       "\\item 2.6\n",
       "\\item 4.5\n",
       "\\item -1.3\n",
       "\\end{enumerate*}\n"
      ],
      "text/markdown": [
       "1. -1.3\n",
       "2. -2.6\n",
       "3. 2.6\n",
       "4. 3.2\n",
       "5. 2.6\n",
       "6. 4.5\n",
       "7. -1.3\n",
       "\n",
       "\n"
      ],
      "text/plain": [
       "[1] -1.3 -2.6  2.6  3.2  2.6  4.5 -1.3"
      ]
     },
     "metadata": {},
     "output_type": "display_data"
    }
   ],
   "source": [
    "numeric_factor <- factor(c(-1.3, -2.6, 2.6, 3.2, 2.6, 4.5, -1.3))\n",
    "\n",
    "# This construction lets you extract the numbers\n",
    "as.numeric(levels(numeric_factor))[numeric_factor]\n",
    "\n",
    "# Converting to character first also works (but may run slower)\n",
    "as.numeric(as.character(numeric_factor))"
   ]
  },
  {
   "cell_type": "markdown",
   "metadata": {
    "_uuid": "a50bfe4e0e575686124c33bee5df42fc960e2706"
   },
   "source": [
    "If you'd like to add more values to an existing factor, you can't just use c() like you would when combining normal vectors. One way to add to a factor is to convert the factor to character, concatenate it with the new values, and then convert it back to factor."
   ]
  },
  {
   "cell_type": "code",
   "execution_count": 11,
   "metadata": {
    "_uuid": "8e9b10b5486e80abb572ed4b38a190d79b491f64"
   },
   "outputs": [
    {
     "data": {
      "text/html": [
       "<style>\n",
       ".dl-inline {width: auto; margin:0; padding: 0}\n",
       ".dl-inline>dt, .dl-inline>dd {float: none; width: auto; display: inline-block}\n",
       ".dl-inline>dt::after {content: \":\\0020\"; padding-right: .5ex}\n",
       ".dl-inline>dt:not(:first-of-type) {padding-left: .5ex}\n",
       "</style><dl class=dl-inline><dt>Prefer not to say</dt><dd>1</dd><dt>Unknown</dt><dd>2</dd><dt>female</dt><dd>15</dd><dt>male</dt><dd>10</dd></dl>\n"
      ],
      "text/latex": [
       "\\begin{description*}\n",
       "\\item[Prefer not to say] 1\n",
       "\\item[Unknown] 2\n",
       "\\item[female] 15\n",
       "\\item[male] 10\n",
       "\\end{description*}\n"
      ],
      "text/markdown": [
       "Prefer not to say\n",
       ":   1Unknown\n",
       ":   2female\n",
       ":   15male\n",
       ":   10\n",
       "\n"
      ],
      "text/plain": [
       "Prefer not to say           Unknown            female              male \n",
       "                1                 2                15                10 "
      ]
     },
     "metadata": {},
     "output_type": "display_data"
    }
   ],
   "source": [
    "# This adds more values to the gender_factor\n",
    "\n",
    "gender_factor <- as.factor(c(as.character(gender_factor), \n",
    "                \"Unknown\", \"Unknown\", \"Prefer not to say\"))\n",
    "\n",
    "summary(gender_factor)"
   ]
  },
  {
   "cell_type": "markdown",
   "metadata": {
    "_uuid": "56b21760f7e0e57a155a5701d75190d479149b02"
   },
   "source": [
    "# Factor Indexing"
   ]
  },
  {
   "cell_type": "markdown",
   "metadata": {
    "_uuid": "ba137f14695b696ea3e49f40491ec572ab03e0c3"
   },
   "source": [
    "Factor indexing is a data manipulation technique commonly used in statistical programming languages like R. A factor is a categorical data type that represents discrete values with a predefined set of levels or categories. Indexing a factor allows accessing specific subsets of data based on the categories or levels assigned to each element in the factor.\n",
    "\n",
    "For instance, if we have a factor variable called \"weather\" with levels \"sunny,\" \"cloudy,\" and \"rainy,\" factor indexing enables us to extract all the data corresponding to a particular weather condition efficiently. It provides a convenient way to filter, subset, and analyze data based on distinct categories, making it a powerful tool for data exploration and analysis tasks involving categorical variables.\n",
    "\n",
    "Since factors are essentially vectors with each value being an integer paired with a character that specifies the name of the level, factor indexing works the same as vector indexing."
   ]
  },
  {
   "cell_type": "code",
   "execution_count": 12,
   "metadata": {
    "_uuid": "ed11ea623abfe8ea9a59aa304b0279fb72b42e23"
   },
   "outputs": [
    {
     "data": {
      "text/html": [
       "male\n",
       "<details>\n",
       "\t<summary style=display:list-item;cursor:pointer>\n",
       "\t\t<strong>Levels</strong>:\n",
       "\t</summary>\n",
       "\t<style>\n",
       "\t.list-inline {list-style: none; margin:0; padding: 0}\n",
       "\t.list-inline>li {display: inline-block}\n",
       "\t.list-inline>li:not(:last-child)::after {content: \"\\00b7\"; padding: 0 .5ex}\n",
       "\t</style>\n",
       "\t<ol class=list-inline><li>'Prefer not to say'</li><li>'Unknown'</li><li>'female'</li><li>'male'</li></ol>\n",
       "</details>"
      ],
      "text/latex": [
       "male\n",
       "\\emph{Levels}: \\begin{enumerate*}\n",
       "\\item 'Prefer not to say'\n",
       "\\item 'Unknown'\n",
       "\\item 'female'\n",
       "\\item 'male'\n",
       "\\end{enumerate*}\n"
      ],
      "text/markdown": [
       "male\n",
       "**Levels**: 1. 'Prefer not to say'\n",
       "2. 'Unknown'\n",
       "3. 'female'\n",
       "4. 'male'\n",
       "\n",
       "\n"
      ],
      "text/plain": [
       "[1] male\n",
       "Levels: Prefer not to say Unknown female male"
      ]
     },
     "metadata": {},
     "output_type": "display_data"
    },
    {
     "data": {
      "text/html": [
       "<style>\n",
       ".list-inline {list-style: none; margin:0; padding: 0}\n",
       ".list-inline>li {display: inline-block}\n",
       ".list-inline>li:not(:last-child)::after {content: \"\\00b7\"; padding: 0 .5ex}\n",
       "</style>\n",
       "<ol class=list-inline><li>male</li><li>male</li><li>female</li><li>female</li><li>female</li><li>female</li><li>female</li></ol>\n",
       "\n",
       "<details>\n",
       "\t<summary style=display:list-item;cursor:pointer>\n",
       "\t\t<strong>Levels</strong>:\n",
       "\t</summary>\n",
       "\t<style>\n",
       "\t.list-inline {list-style: none; margin:0; padding: 0}\n",
       "\t.list-inline>li {display: inline-block}\n",
       "\t.list-inline>li:not(:last-child)::after {content: \"\\00b7\"; padding: 0 .5ex}\n",
       "\t</style>\n",
       "\t<ol class=list-inline><li>'Prefer not to say'</li><li>'Unknown'</li><li>'female'</li><li>'male'</li></ol>\n",
       "</details>"
      ],
      "text/latex": [
       "\\begin{enumerate*}\n",
       "\\item male\n",
       "\\item male\n",
       "\\item female\n",
       "\\item female\n",
       "\\item female\n",
       "\\item female\n",
       "\\item female\n",
       "\\end{enumerate*}\n",
       "\n",
       "\\emph{Levels}: \\begin{enumerate*}\n",
       "\\item 'Prefer not to say'\n",
       "\\item 'Unknown'\n",
       "\\item 'female'\n",
       "\\item 'male'\n",
       "\\end{enumerate*}\n"
      ],
      "text/markdown": [
       "1. male\n",
       "2. male\n",
       "3. female\n",
       "4. female\n",
       "5. female\n",
       "6. female\n",
       "7. female\n",
       "\n",
       "\n",
       "\n",
       "**Levels**: 1. 'Prefer not to say'\n",
       "2. 'Unknown'\n",
       "3. 'female'\n",
       "4. 'male'\n",
       "\n",
       "\n"
      ],
      "text/plain": [
       "[1] male   male   female female female female female\n",
       "Levels: Prefer not to say Unknown female male"
      ]
     },
     "metadata": {},
     "output_type": "display_data"
    },
    {
     "data": {
      "text/html": [
       "<style>\n",
       ".list-inline {list-style: none; margin:0; padding: 0}\n",
       ".list-inline>li {display: inline-block}\n",
       ".list-inline>li:not(:last-child)::after {content: \"\\00b7\"; padding: 0 .5ex}\n",
       "</style>\n",
       "<ol class=list-inline><li>male</li><li>male</li><li>female</li></ol>\n",
       "\n",
       "<details>\n",
       "\t<summary style=display:list-item;cursor:pointer>\n",
       "\t\t<strong>Levels</strong>:\n",
       "\t</summary>\n",
       "\t<style>\n",
       "\t.list-inline {list-style: none; margin:0; padding: 0}\n",
       "\t.list-inline>li {display: inline-block}\n",
       "\t.list-inline>li:not(:last-child)::after {content: \"\\00b7\"; padding: 0 .5ex}\n",
       "\t</style>\n",
       "\t<ol class=list-inline><li>'Prefer not to say'</li><li>'Unknown'</li><li>'female'</li><li>'male'</li></ol>\n",
       "</details>"
      ],
      "text/latex": [
       "\\begin{enumerate*}\n",
       "\\item male\n",
       "\\item male\n",
       "\\item female\n",
       "\\end{enumerate*}\n",
       "\n",
       "\\emph{Levels}: \\begin{enumerate*}\n",
       "\\item 'Prefer not to say'\n",
       "\\item 'Unknown'\n",
       "\\item 'female'\n",
       "\\item 'male'\n",
       "\\end{enumerate*}\n"
      ],
      "text/markdown": [
       "1. male\n",
       "2. male\n",
       "3. female\n",
       "\n",
       "\n",
       "\n",
       "**Levels**: 1. 'Prefer not to say'\n",
       "2. 'Unknown'\n",
       "3. 'female'\n",
       "4. 'male'\n",
       "\n",
       "\n"
      ],
      "text/plain": [
       "[1] male   male   female\n",
       "Levels: Prefer not to say Unknown female male"
      ]
     },
     "metadata": {},
     "output_type": "display_data"
    },
    {
     "data": {
      "text/html": [
       "<style>\n",
       ".list-inline {list-style: none; margin:0; padding: 0}\n",
       ".list-inline>li {display: inline-block}\n",
       ".list-inline>li:not(:last-child)::after {content: \"\\00b7\"; padding: 0 .5ex}\n",
       "</style>\n",
       "<ol class=list-inline><li>male</li><li>male</li><li>male</li><li>male</li><li>male</li><li>male</li><li>male</li><li>male</li><li>male</li><li>male</li></ol>\n",
       "\n",
       "<details>\n",
       "\t<summary style=display:list-item;cursor:pointer>\n",
       "\t\t<strong>Levels</strong>:\n",
       "\t</summary>\n",
       "\t<style>\n",
       "\t.list-inline {list-style: none; margin:0; padding: 0}\n",
       "\t.list-inline>li {display: inline-block}\n",
       "\t.list-inline>li:not(:last-child)::after {content: \"\\00b7\"; padding: 0 .5ex}\n",
       "\t</style>\n",
       "\t<ol class=list-inline><li>'Prefer not to say'</li><li>'Unknown'</li><li>'female'</li><li>'male'</li></ol>\n",
       "</details>"
      ],
      "text/latex": [
       "\\begin{enumerate*}\n",
       "\\item male\n",
       "\\item male\n",
       "\\item male\n",
       "\\item male\n",
       "\\item male\n",
       "\\item male\n",
       "\\item male\n",
       "\\item male\n",
       "\\item male\n",
       "\\item male\n",
       "\\end{enumerate*}\n",
       "\n",
       "\\emph{Levels}: \\begin{enumerate*}\n",
       "\\item 'Prefer not to say'\n",
       "\\item 'Unknown'\n",
       "\\item 'female'\n",
       "\\item 'male'\n",
       "\\end{enumerate*}\n"
      ],
      "text/markdown": [
       "1. male\n",
       "2. male\n",
       "3. male\n",
       "4. male\n",
       "5. male\n",
       "6. male\n",
       "7. male\n",
       "8. male\n",
       "9. male\n",
       "10. male\n",
       "\n",
       "\n",
       "\n",
       "**Levels**: 1. 'Prefer not to say'\n",
       "2. 'Unknown'\n",
       "3. 'female'\n",
       "4. 'male'\n",
       "\n",
       "\n"
      ],
      "text/plain": [
       " [1] male male male male male male male male male male\n",
       "Levels: Prefer not to say Unknown female male"
      ]
     },
     "metadata": {},
     "output_type": "display_data"
    }
   ],
   "source": [
    "gender_factor[2]                      # Get the second element\n",
    "gender_factor[9:15]                   # Get a slice of elements\n",
    "gender_factor[c(3,6,12)]              # Get a selection of specific elements\n",
    "gender_factor[gender_factor==\"male\"]  # Get all values where the level equals male"
   ]
  },
  {
   "cell_type": "markdown",
   "metadata": {
    "_uuid": "b24352abff8353228d9c4fb5847949aa00f6c278"
   },
   "source": [
    "# Factor Summary Functions"
   ]
  },
  {
   "cell_type": "markdown",
   "metadata": {},
   "source": [
    "Factor summary functions are statistical tools used to analyze and summarize categorical data represented as factors in R programming. In R, a factor is a data type used to store categorical data, such as group names, gender, or educational levels. Factor summary functions enable users to compute various statistics and insights specific to each category or level within the factor.\n",
    "\n",
    "These functions allow users to perform operations such as calculating the frequency or count of occurrences for each category, computing proportions or percentages, obtaining summary statistics like mean, median, and standard deviation for each group, and generating cross-tabulations to observe relationships between multiple factors.\n",
    "\n",
    "Factor summary functions are valuable for gaining a deeper understanding of the distribution and characteristics of categorical data, making them essential tools in data exploration and analysis tasks in R."
   ]
  },
  {
   "cell_type": "markdown",
   "metadata": {
    "_uuid": "11b2b93258af893a56816830e9e117d72047829c"
   },
   "source": [
    "In addition to levels(), factors support several other summary functions."
   ]
  },
  {
   "cell_type": "code",
   "execution_count": 14,
   "metadata": {
    "_uuid": "7fcb42b3df8d97371746dd0d65713af2484572e1"
   },
   "outputs": [
    {
     "data": {
      "text/html": [
       "<style>\n",
       ".dl-inline {width: auto; margin:0; padding: 0}\n",
       ".dl-inline>dt, .dl-inline>dd {float: none; width: auto; display: inline-block}\n",
       ".dl-inline>dt::after {content: \":\\0020\"; padding-right: .5ex}\n",
       ".dl-inline>dt:not(:first-of-type) {padding-left: .5ex}\n",
       "</style><dl class=dl-inline><dt>Prefer not to say</dt><dd>1</dd><dt>Unknown</dt><dd>2</dd><dt>female</dt><dd>15</dd><dt>male</dt><dd>10</dd></dl>\n"
      ],
      "text/latex": [
       "\\begin{description*}\n",
       "\\item[Prefer not to say] 1\n",
       "\\item[Unknown] 2\n",
       "\\item[female] 15\n",
       "\\item[male] 10\n",
       "\\end{description*}\n"
      ],
      "text/markdown": [
       "Prefer not to say\n",
       ":   1Unknown\n",
       ":   2female\n",
       ":   15male\n",
       ":   10\n",
       "\n"
      ],
      "text/plain": [
       "Prefer not to say           Unknown            female              male \n",
       "                1                 2                15                10 "
      ]
     },
     "metadata": {},
     "output_type": "display_data"
    }
   ],
   "source": [
    "summary(gender_factor)  # summary() returns counts for each level"
   ]
  },
  {
   "cell_type": "code",
   "execution_count": 15,
   "metadata": {
    "_uuid": "81b25aba7bc372f18778558ce78bf301f64718b9"
   },
   "outputs": [
    {
     "name": "stdout",
     "output_type": "stream",
     "text": [
      " Factor w/ 4 levels \"Prefer not to say\",..: 4 4 4 4 4 4 4 4 4 4 ...\n"
     ]
    }
   ],
   "source": [
    "str(gender_factor)     # str() shows the factor's stucture"
   ]
  },
  {
   "cell_type": "code",
   "execution_count": 16,
   "metadata": {
    "_uuid": "7446fe263a217a37c8877b190272da14de91df8e"
   },
   "outputs": [
    {
     "data": {
      "text/html": [
       "28"
      ],
      "text/latex": [
       "28"
      ],
      "text/markdown": [
       "28"
      ],
      "text/plain": [
       "[1] 28"
      ]
     },
     "metadata": {},
     "output_type": "display_data"
    }
   ],
   "source": [
    "length(gender_factor)  # Get the length of the factor"
   ]
  },
  {
   "cell_type": "code",
   "execution_count": 17,
   "metadata": {
    "_uuid": "88d3fcf46b5d0c5ef17169ca2e7a7b502fbbfbf3"
   },
   "outputs": [
    {
     "data": {
      "text/plain": [
       "gender_factor\n",
       "Prefer not to say           Unknown            female              male \n",
       "                1                 2                15                10 "
      ]
     },
     "metadata": {},
     "output_type": "display_data"
    }
   ],
   "source": [
    "table(gender_factor)   # table() creates a data table of counts"
   ]
  },
  {
   "cell_type": "markdown",
   "metadata": {
    "_uuid": "02bc62751e5dc89437f471150bf98796b9caa794"
   },
   "source": [
    "# Wrap Up"
   ]
  },
  {
   "cell_type": "markdown",
   "metadata": {
    "_uuid": "45762f0de6a78bf95763f3b8100bfdc11912995f"
   },
   "source": [
    "Factors and ordered factors are valuable in R because numerous statistical, predictive modeling, and graphing functions are designed to treat them as categorical variables. However, manipulating factors can be challenging, which is why it is recommended to work with regular atomic data, such as character vectors, during data cleaning and related tasks.\n",
    "\n",
    "When loading well-structured data into an R data frame, converting characters to factors can be advantageous. On the other hand, if you are dealing with messy data or data with an unknown structure, it might be better to keep text data in character format and then convert specific columns to factors at a later stage if needed."
   ]
  },
  {
   "cell_type": "markdown",
   "metadata": {
    "_uuid": "fe5062574a10cf5cb69021a70ab6f93e17d5732a"
   },
   "source": [
    "## Exercises\n",
    "\n",
    "To do the exercises, fill in and run the code boxes according to the exercise instructions."
   ]
  },
  {
   "cell_type": "markdown",
   "metadata": {
    "_uuid": "a1158418a5bd691da1378c34049d31dfd9b85f94"
   },
   "source": [
    "### Exercise #1\n",
    "Convert the saved vector below into a factor called \"language_factor.\""
   ]
  },
  {
   "cell_type": "code",
   "execution_count": 18,
   "metadata": {
    "_kg_hide-output": true,
    "_uuid": "fff1a2a0dac63895b39a0cae7f0543c38a3a65b2"
   },
   "outputs": [
    {
     "data": {
      "text/html": [
       "'Your Code Here!'"
      ],
      "text/latex": [
       "'Your Code Here!'"
      ],
      "text/markdown": [
       "'Your Code Here!'"
      ],
      "text/plain": [
       "[1] \"Your Code Here!\""
      ]
     },
     "metadata": {},
     "output_type": "display_data"
    }
   ],
   "source": [
    "language <- c(rep(\"python\",15),rep(\"R\",10),rep(\"SQL\",5))\n",
    "\n",
    "language_factor <- \"Your Code Here!\"\n",
    "language_factor"
   ]
  },
  {
   "cell_type": "markdown",
   "metadata": {
    "_uuid": "915483ee807b092e2eda52f068594383ba7b6b90"
   },
   "source": [
    "### Exercise #2\n",
    "Generate a summary of language_factor."
   ]
  },
  {
   "cell_type": "code",
   "execution_count": 19,
   "metadata": {
    "_kg_hide-output": true,
    "_uuid": "227db923fbed173b47e9f477ed2b57a1e2b50d97"
   },
   "outputs": [
    {
     "data": {
      "text/html": [
       "'Your Code Here!'"
      ],
      "text/latex": [
       "'Your Code Here!'"
      ],
      "text/markdown": [
       "'Your Code Here!'"
      ],
      "text/plain": [
       "[1] \"Your Code Here!\""
      ]
     },
     "metadata": {},
     "output_type": "display_data"
    }
   ],
   "source": [
    "\"Your Code Here!\""
   ]
  },
  {
   "cell_type": "markdown",
   "metadata": {
    "_uuid": "56f3469f0f92c59b3265893d99f2fa4603e84273"
   },
   "source": [
    "### Exercise #3\n",
    "Add add 3 instances of \"Julia\" to the language_factor and then create another summary. (Remember to add to a factor, you can convert it to character, use c() and then convert it back to a factor.)."
   ]
  },
  {
   "cell_type": "code",
   "execution_count": 20,
   "metadata": {
    "_kg_hide-output": true,
    "_uuid": "e61bc093042a8c19f4f176f2b06a58b463a7c160"
   },
   "outputs": [
    {
     "data": {
      "text/html": [
       "'Your Code Here!'"
      ],
      "text/latex": [
       "'Your Code Here!'"
      ],
      "text/markdown": [
       "'Your Code Here!'"
      ],
      "text/plain": [
       "[1] \"Your Code Here!\""
      ]
     },
     "metadata": {},
     "output_type": "display_data"
    }
   ],
   "source": [
    "\"Your Code Here!\""
   ]
  },
  {
   "cell_type": "markdown",
   "metadata": {
    "_uuid": "9e3106f3e7be8320dfbfd2019cddd434379aaf62"
   },
   "source": [
    "## Exercise Solutions"
   ]
  },
  {
   "cell_type": "code",
   "execution_count": 21,
   "metadata": {
    "_kg_hide-input": true,
    "_kg_hide-output": true,
    "_uuid": "4a858bf9202378f9ebd068f610cc084baaec0bc2"
   },
   "outputs": [
    {
     "data": {
      "text/html": [
       "<style>\n",
       ".list-inline {list-style: none; margin:0; padding: 0}\n",
       ".list-inline>li {display: inline-block}\n",
       ".list-inline>li:not(:last-child)::after {content: \"\\00b7\"; padding: 0 .5ex}\n",
       "</style>\n",
       "<ol class=list-inline><li>python</li><li>python</li><li>python</li><li>python</li><li>python</li><li>python</li><li>python</li><li>python</li><li>python</li><li>python</li><li>python</li><li>python</li><li>python</li><li>python</li><li>python</li><li>R</li><li>R</li><li>R</li><li>R</li><li>R</li><li>R</li><li>R</li><li>R</li><li>R</li><li>R</li><li>SQL</li><li>SQL</li><li>SQL</li><li>SQL</li><li>SQL</li></ol>\n",
       "\n",
       "<details>\n",
       "\t<summary style=display:list-item;cursor:pointer>\n",
       "\t\t<strong>Levels</strong>:\n",
       "\t</summary>\n",
       "\t<style>\n",
       "\t.list-inline {list-style: none; margin:0; padding: 0}\n",
       "\t.list-inline>li {display: inline-block}\n",
       "\t.list-inline>li:not(:last-child)::after {content: \"\\00b7\"; padding: 0 .5ex}\n",
       "\t</style>\n",
       "\t<ol class=list-inline><li>'R'</li><li>'SQL'</li><li>'python'</li></ol>\n",
       "</details>"
      ],
      "text/latex": [
       "\\begin{enumerate*}\n",
       "\\item python\n",
       "\\item python\n",
       "\\item python\n",
       "\\item python\n",
       "\\item python\n",
       "\\item python\n",
       "\\item python\n",
       "\\item python\n",
       "\\item python\n",
       "\\item python\n",
       "\\item python\n",
       "\\item python\n",
       "\\item python\n",
       "\\item python\n",
       "\\item python\n",
       "\\item R\n",
       "\\item R\n",
       "\\item R\n",
       "\\item R\n",
       "\\item R\n",
       "\\item R\n",
       "\\item R\n",
       "\\item R\n",
       "\\item R\n",
       "\\item R\n",
       "\\item SQL\n",
       "\\item SQL\n",
       "\\item SQL\n",
       "\\item SQL\n",
       "\\item SQL\n",
       "\\end{enumerate*}\n",
       "\n",
       "\\emph{Levels}: \\begin{enumerate*}\n",
       "\\item 'R'\n",
       "\\item 'SQL'\n",
       "\\item 'python'\n",
       "\\end{enumerate*}\n"
      ],
      "text/markdown": [
       "1. python\n",
       "2. python\n",
       "3. python\n",
       "4. python\n",
       "5. python\n",
       "6. python\n",
       "7. python\n",
       "8. python\n",
       "9. python\n",
       "10. python\n",
       "11. python\n",
       "12. python\n",
       "13. python\n",
       "14. python\n",
       "15. python\n",
       "16. R\n",
       "17. R\n",
       "18. R\n",
       "19. R\n",
       "20. R\n",
       "21. R\n",
       "22. R\n",
       "23. R\n",
       "24. R\n",
       "25. R\n",
       "26. SQL\n",
       "27. SQL\n",
       "28. SQL\n",
       "29. SQL\n",
       "30. SQL\n",
       "\n",
       "\n",
       "\n",
       "**Levels**: 1. 'R'\n",
       "2. 'SQL'\n",
       "3. 'python'\n",
       "\n",
       "\n"
      ],
      "text/plain": [
       " [1] python python python python python python python python python python\n",
       "[11] python python python python python R      R      R      R      R     \n",
       "[21] R      R      R      R      R      SQL    SQL    SQL    SQL    SQL   \n",
       "Levels: R SQL python"
      ]
     },
     "metadata": {},
     "output_type": "display_data"
    },
    {
     "data": {
      "text/html": [
       "<style>\n",
       ".dl-inline {width: auto; margin:0; padding: 0}\n",
       ".dl-inline>dt, .dl-inline>dd {float: none; width: auto; display: inline-block}\n",
       ".dl-inline>dt::after {content: \":\\0020\"; padding-right: .5ex}\n",
       ".dl-inline>dt:not(:first-of-type) {padding-left: .5ex}\n",
       "</style><dl class=dl-inline><dt>R</dt><dd>10</dd><dt>SQL</dt><dd>5</dd><dt>python</dt><dd>15</dd></dl>\n"
      ],
      "text/latex": [
       "\\begin{description*}\n",
       "\\item[R] 10\n",
       "\\item[SQL] 5\n",
       "\\item[python] 15\n",
       "\\end{description*}\n"
      ],
      "text/markdown": [
       "R\n",
       ":   10SQL\n",
       ":   5python\n",
       ":   15\n",
       "\n"
      ],
      "text/plain": [
       "     R    SQL python \n",
       "    10      5     15 "
      ]
     },
     "metadata": {},
     "output_type": "display_data"
    },
    {
     "data": {
      "text/html": [
       "<style>\n",
       ".dl-inline {width: auto; margin:0; padding: 0}\n",
       ".dl-inline>dt, .dl-inline>dd {float: none; width: auto; display: inline-block}\n",
       ".dl-inline>dt::after {content: \":\\0020\"; padding-right: .5ex}\n",
       ".dl-inline>dt:not(:first-of-type) {padding-left: .5ex}\n",
       "</style><dl class=dl-inline><dt>Julia</dt><dd>3</dd><dt>R</dt><dd>10</dd><dt>SQL</dt><dd>5</dd><dt>python</dt><dd>15</dd></dl>\n"
      ],
      "text/latex": [
       "\\begin{description*}\n",
       "\\item[Julia] 3\n",
       "\\item[R] 10\n",
       "\\item[SQL] 5\n",
       "\\item[python] 15\n",
       "\\end{description*}\n"
      ],
      "text/markdown": [
       "Julia\n",
       ":   3R\n",
       ":   10SQL\n",
       ":   5python\n",
       ":   15\n",
       "\n"
      ],
      "text/plain": [
       " Julia      R    SQL python \n",
       "     3     10      5     15 "
      ]
     },
     "metadata": {},
     "output_type": "display_data"
    }
   ],
   "source": [
    "# 1 \n",
    "\n",
    "language <- c(rep(\"python\",15),rep(\"R\",10),rep(\"SQL\",5))\n",
    "\n",
    "language_factor <- factor(language)\n",
    "language_factor\n",
    "\n",
    "# 2 \n",
    "\n",
    "summary(language_factor)\n",
    "\n",
    "# 3\n",
    "\n",
    "language_factor <- factor( c(as.character(language_factor), rep(\"Julia\",3)) )\n",
    "\n",
    "summary(language_factor)"
   ]
  }
 ],
 "metadata": {
  "kernelspec": {
   "display_name": "R",
   "language": "R",
   "name": "ir"
  },
  "language_info": {
   "codemirror_mode": "r",
   "file_extension": ".r",
   "mimetype": "text/x-r-source",
   "name": "R",
   "pygments_lexer": "r",
   "version": "4.2.3"
  }
 },
 "nbformat": 4,
 "nbformat_minor": 4
}
