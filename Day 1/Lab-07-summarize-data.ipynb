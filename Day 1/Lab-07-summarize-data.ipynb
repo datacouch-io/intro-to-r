{
 "cells": [
  {
   "cell_type": "markdown",
   "metadata": {
    "_cell_guid": "867cad27-c506-416f-be34-ce1d747153c4",
    "_uuid": "8d7230f9a43418336b7f66a12245aaf94a440034"
   },
   "source": [
    "## Load data into R\n",
    "\n",
    "Loading data into R refers to the process of importing external datasets into the R environment for analysis and manipulation. R provides various functions and packages to facilitate data import from a wide range of file formats, including CSV, Excel, text files, databases, and more.\n",
    "\n",
    "Once the data is loaded into R, it becomes accessible as objects (e.g., data frames, matrices) that can be used for statistical analysis, visualization, modeling, and other data-related tasks. Properly loading data is a crucial initial step in any data analysis project, as it enables researchers, data scientists, and analysts to explore, clean, and transform the data to derive meaningful insights and draw conclusions from the information it contains."
   ]
  },
  {
   "cell_type": "code",
   "execution_count": 1,
   "metadata": {
    "_cell_guid": "1f8b9646-80d1-49a1-8b4c-5eccf7fbfe1b",
    "_uuid": "400c19d49c96f13b53eb6a90bda6fa5c21f40fa3"
   },
   "outputs": [],
   "source": [
    "# Try!\n",
    "\n",
    "# call the \"tidyverse\" library using the library() function\n",
    "\n",
    "# read our data file into R and assign it to a variable called \"chocolateData\". \n",
    "# Remember that you can find out where the data is by expanding the \"Input Files\"\n",
    "# box above by clicking the + sign in the left corner.\n",
    "\n",
    "# remove the first row of the chocolateData data_frame using a negative index\n",
    "\n",
    "# check the first few rows of your data using the head() function to make sure it\n",
    "# looks alright"
   ]
  },
  {
   "cell_type": "code",
   "execution_count": 2,
   "metadata": {
    "_cell_guid": "fb2c4d0e-dce9-48cc-9ddc-4d9d09fbb652",
    "_uuid": "99c6c48c7b7abc87ccbeced0a26be7bf73883f2a",
    "collapsed": true,
    "jupyter": {
     "outputs_hidden": true
    },
    "scrolled": true
   },
   "outputs": [
    {
     "ename": "ERROR",
     "evalue": "Error in gsub(\"[[:space:]+]\", \"_\", names(chocolateData)): object 'chocolateData' not found\n",
     "output_type": "error",
     "traceback": [
      "Error in gsub(\"[[:space:]+]\", \"_\", names(chocolateData)): object 'chocolateData' not found\nTraceback:\n",
      "1. gsub(\"[[:space:]+]\", \"_\", names(chocolateData))"
     ]
    }
   ],
   "source": [
    "# let's get rid of the white spaces in the column names of this\n",
    "# dataset. This will make it possible for us to refer to columns by thier names, since\n",
    "# any white space in a name will mess R up.\n",
    "\n",
    "names(chocolateData) <- gsub(\"[[:space:]+]\", \"_\", names(chocolateData))\n",
    "str(chocolateData)"
   ]
  },
  {
   "cell_type": "markdown",
   "metadata": {
    "_cell_guid": "7f520705-436c-4bfa-896d-faa06d2e0c2f",
    "_uuid": "013f50033dd520e270b61595c187aa7b23d3ade6"
   },
   "source": [
    "## Data Cleaning"
   ]
  },
  {
   "cell_type": "markdown",
   "metadata": {
    "_cell_guid": "52f3936d-b721-4c2d-a926-066f7a509e02",
    "_uuid": "1273cfd468efff42c3c7ca88b026d36b36b632e8"
   },
   "source": [
    "Data cleaning is a crucial step in the data analysis process that involves identifying and correcting errors, inconsistencies, and inaccuracies in a dataset. In R, data cleaning is performed using various functions, packages, and techniques to ensure that the data is accurate, reliable, and ready for analysis.\n",
    "\n",
    "The process of data cleaning in R typically includes tasks such as:\n",
    "\n",
    "1.  **Missing Value Treatment:** Handling missing values by either imputing them with appropriate values or removing them from the dataset, depending on the nature of the analysis.\n",
    "    \n",
    "2.  **Outlier Detection and Treatment:** Identifying and addressing outliers, which are extreme values that can significantly affect statistical analysis and model performance.\n",
    "    \n",
    "3.  **Data Type Conversion:** Ensuring that variables are assigned the correct data types to prevent errors during analysis and to optimize memory usage.\n",
    "    \n",
    "4.  **Consistency Checks:** Verifying the consistency of data across different variables and identifying and resolving discrepancies.\n",
    "    \n",
    "5.  **Duplicate Data:** Detecting and removing duplicate records to avoid skewed analysis results.\n",
    "    \n",
    "6.  **Standardization and Formatting:** Converting data into a consistent format, such as changing dates to a standard format or converting text to lowercase.\n",
    "    \n",
    "7.  **Handling Categorical Data:** Encoding categorical variables into numerical representations to enable analysis with machine learning algorithms.\n",
    "    \n",
    "8.  **Data Transformation:** Applying transformations to variables, such as log transformations or scaling, to meet the assumptions of statistical models.\n",
    "    \n",
    "9.  **Data Integration:** Merging and combining datasets from multiple sources to create a unified dataset for analysis.\n",
    "    \n",
    "10.  **Data Validation:** Checking for errors and discrepancies in the data to ensure data accuracy and reliability.\n",
    "    \n",
    "\n",
    "R provides a wide range of packages, such as `dplyr`, `tidyr`, and `data.table`, that offer powerful functions for performing these data cleaning tasks efficiently. Data cleaning in R is essential for producing high-quality and reliable insights from data analysis and is a fundamental step before proceeding with further data exploration and modeling."
   ]
  },
  {
   "cell_type": "code",
   "execution_count": 3,
   "metadata": {
    "_cell_guid": "5c394b81-ca26-4652-99b9-92645e4febc9",
    "_uuid": "d3eca0d5daf078eb9b7346f450372def9aee7e03"
   },
   "outputs": [],
   "source": [
    "# Try!\n",
    "\n",
    "# Use the str() function to check the data type of the columns in chocolateData"
   ]
  },
  {
   "cell_type": "markdown",
   "metadata": {
    "_cell_guid": "0211d2ba-19ac-4c52-8e2d-cb96b48efb14",
    "_uuid": "2e029d6a7bfaaa1d69960b4845ea7e780364326a"
   },
   "source": [
    "This has a lot of output, but don't be scared! We'll work through it together. Your output should look something like this:\n",
    "\n",
    "![](https://image.ibb.co/eKYCK5/Screenshot_from_2017_08_29_16_09_09.png)\n",
    "\n",
    "The first row shows you the class of the object and its size. Like I mentioned in the last section, a data_frame is a special type of data.frame called a tibble, which is abbreviated here to tbl. You can see that this tibble is 1795 rows long and 9 columns wide.\n",
    "\n",
    "In R, the dollar sign ($) has a special meaning. It means that whatever comes directly after it is a column in a data_frame. You can use this to look at specific columns in a data_frame, like so:"
   ]
  },
  {
   "cell_type": "code",
   "execution_count": 4,
   "metadata": {
    "_cell_guid": "a8a356c5-4a0f-4241-bea7-aa3440df8e0f",
    "_uuid": "e264a5fedcecef6609f3c5328d30bf5db7987685"
   },
   "outputs": [
    {
     "ename": "ERROR",
     "evalue": "Error in head(chocolateData$Rating): object 'chocolateData' not found\n",
     "output_type": "error",
     "traceback": [
      "Error in head(chocolateData$Rating): object 'chocolateData' not found\nTraceback:\n",
      "1. head(chocolateData$Rating)"
     ]
    }
   ],
   "source": [
    "#Display the initial values from the \"Rating\" column in the \"chocolateData\" dataframe.\n",
    "head(chocolateData$Rating)"
   ]
  },
  {
   "cell_type": "markdown",
   "metadata": {
    "_cell_guid": "371b7590-5415-406b-b73b-7d2ad36a8d8f",
    "_uuid": "9eaec0d2790e4fca1a8014f16641dfe93f80e21a"
   },
   "source": [
    "After each dollar sign ($), the text specifies the column name for the respective data. By counting them, we observe a total of 9 columns, consistent with the information in the first row of the output.\n",
    "\n",
    "The data type of each column is indicated by the presence of \"chr\" after the colon (:) for all columns, indicating that they are of the character data type.\n",
    "\n",
    "While examining the first few observations in each column, it becomes evident that not all of them contain numerical values. It is desirable to have certain columns like REF, Review Date, and Rating to be in numeric format. Although we could manually convert each column using the as.numeric() function, the tidyverse provides a more convenient solution. The type_convert function, which is part of the tidyverse, analyzes the first 1000 rows of each column, makes an educated guess about the appropriate data type, and automatically converts the columns to their respective inferred data types. This simplifies the data type conversion process and improves efficiency."
   ]
  },
  {
   "cell_type": "code",
   "execution_count": 5,
   "metadata": {
    "_cell_guid": "be92ef3a-fd8a-4fbf-9394-0a6182495140",
    "_uuid": "33e4b4fef60219a671da65b042b36686a19886b8"
   },
   "outputs": [
    {
     "ename": "ERROR",
     "evalue": "Error in type_convert(chocolateData): could not find function \"type_convert\"\n",
     "output_type": "error",
     "traceback": [
      "Error in type_convert(chocolateData): could not find function \"type_convert\"\nTraceback:\n"
     ]
    }
   ],
   "source": [
    "# automatically convert the data types of our data_frame\n",
    "chocolateData <- type_convert(chocolateData)"
   ]
  },
  {
   "cell_type": "code",
   "execution_count": 6,
   "metadata": {
    "_cell_guid": "9e6ba6b0-8dcb-412d-a362-53863d6c407a",
    "_uuid": "2d99fffd8e53290a9393155b7d4db4ac376f542a"
   },
   "outputs": [],
   "source": [
    "# Try!\n",
    "\n",
    "# After converting the data, utilize the str() function to inspect its structure. \n",
    "# Take note of any observations you make. Are all the columns in the expected data type as you anticipated?"
   ]
  },
  {
   "cell_type": "markdown",
   "metadata": {
    "_cell_guid": "6ced3b22-ae74-4099-ab2b-eb562be752ea",
    "_uuid": "7fdbef9f263688d37756085f4242395e25a002f2"
   },
   "source": [
    "It appears that there is a lingering issue with the \"Cocoa Percent\" column. Currently, it is in a character format, but ideally, we would want it to be in numeric form to represent percentages. The problem likely stems from the presence of the percent symbol (%) in the data, which prevents it from being recognized as a numeric value. To address this, let's remove all the percent symbols from this dataset and reattempt the analysis."
   ]
  },
  {
   "cell_type": "code",
   "execution_count": 7,
   "metadata": {
    "_cell_guid": "f1994830-6dc2-4b8d-ab3a-4cdf9518a32f",
    "_uuid": "320a28421d1ba20ef0a40bff7a61a0caacfe95f9"
   },
   "outputs": [
    {
     "ename": "ERROR",
     "evalue": "Error in lapply(X = X, FUN = FUN, ...): object 'chocolateData' not found\n",
     "output_type": "error",
     "traceback": [
      "Error in lapply(X = X, FUN = FUN, ...): object 'chocolateData' not found\nTraceback:\n",
      "1. sapply(chocolateData$Cocoa_Percent, function(x) gsub(\"%\", \"\", \n .     x))",
      "2. lapply(X = X, FUN = FUN, ...)"
     ]
    }
   ],
   "source": [
    "# To eliminate all the percent signs in the fifth column, execute the following code:\n",
    "chocolateData$Cocoa_Percent <- sapply(chocolateData$Cocoa_Percent, function(x) gsub(\"%\", \"\", x))\n",
    "\n",
    "# Now, attempt the \"type_convert()\" function once more:\n",
    "chocolateData <- type_convert(chocolateData)\n",
    "\n",
    "# Verify the data structure to ensure that the fifth column is now properly represented as a percentage:\n",
    "str(chocolateData)"
   ]
  },
  {
   "cell_type": "markdown",
   "metadata": {
    "_cell_guid": "1941ef9c-6953-4bdd-a689-7171de395b6a",
    "_uuid": "3d853a2d31ea43345fc673ee36ddb5fc0a417020"
   },
   "source": [
    "Great! Everything appears to be in order. Now, we can commence our analysis! The process we've undertaken up to this point, reaching the stage where analysis is possible, is commonly referred to as \"data cleaning.\" Interestingly, data cleaning constitutes a significant portion of data analysis.\n",
    "\n",
    ">As the jest humorously implies: \"80 percent of data science involves preparing data, and the remaining 20 percent is spent complaining about preparing data.\""
   ]
  },
  {
   "cell_type": "markdown",
   "metadata": {
    "_cell_guid": "8e63b64a-6789-4bf5-b162-1b107c17adc3",
    "_uuid": "80c589d96190c4ccada9b3cd1b90a1c86de278eb"
   },
   "source": [
    "## Summarizing data"
   ]
  },
  {
   "cell_type": "markdown",
   "metadata": {
    "_cell_guid": "2fd1123b-d6bf-417f-9bb5-fd1f49a79c95",
    "_uuid": "3d8c944d2748823c2e102bb99cb01af84b640b13"
   },
   "source": [
    "Now, our data is now in R, and we have completed the data cleaning process. It's time to start summarizing the data, and in R, there are a couple of options to achieve this.\n",
    "\n",
    "R is known for its flexibility, offering multiple ways to accomplish the same task. Once you become familiar with the language, this flexibility becomes a valuable feature. However, I remember it being a bit frustrating when I was still learning.\n",
    "\n",
    "Let's explore two functions for data summarization: `summary()` from base R and `summarise_all()` from the Tidyverse package. We'll run both functions and compare their outputs.\n",
    "\n",
    "If you want to learn more about any function, you can check its documentation. In a kernel, you can access the documentation by running a cell with a question mark followed by the function name, without using parentheses. Remember, it's perfectly normal to look up information as professional programmers frequently do so. No one knows everything about every programming language, and seeking information is part of the learning process!"
   ]
  },
  {
   "cell_type": "code",
   "execution_count": 8,
   "metadata": {
    "_cell_guid": "83e782a5-87e4-4ff4-af23-80da792ecfe0",
    "_uuid": "fce0016f967765ee564b54abc3004af334879040"
   },
   "outputs": [],
   "source": [
    "# Execute this cell to gain further insights into the summary() function!\n",
    "?summary"
   ]
  },
  {
   "cell_type": "code",
   "execution_count": null,
   "metadata": {
    "_cell_guid": "f58dcc1d-aad1-435c-af23-bb6d461feab4",
    "_uuid": "603d98408ae4ea990d7aa06a146e5c73c82d12fa"
   },
   "outputs": [],
   "source": [
    "# Execute this cell to gain a better understanding of the `summarise_all()` function.\n",
    "\n",
    "?summarise_all"
   ]
  },
  {
   "cell_type": "code",
   "execution_count": 10,
   "metadata": {
    "_cell_guid": "c7278c90-91ba-4191-a5b3-76bbd6e04487",
    "_uuid": "27d3ae38a0b3630511d204f7db8bbbc5092d97e9",
    "collapsed": true,
    "jupyter": {
     "outputs_hidden": true
    }
   },
   "outputs": [
    {
     "ename": "ERROR",
     "evalue": "Error in summary(chocolateData): object 'chocolateData' not found\n",
     "output_type": "error",
     "traceback": [
      "Error in summary(chocolateData): object 'chocolateData' not found\nTraceback:\n",
      "1. summary(chocolateData)"
     ]
    }
   ],
   "source": [
    "#Summary using Base R:\n",
    "#To obtain a summary of the \"chocolateData\" dataset using Base R, you can simply use the \"summary\" function.\n",
    "summary(chocolateData)\n",
    "\n",
    "#Summary using Tidyverse (dplyr):\n",
    "#To achieve a summary with the Tidyverse (specifically dplyr) package, you'll utilize the \"summarise_all\" function. \n",
    "#For this example, We are calculating the average using the \"mean()\" function on the \"chocolateData\" dataset.\n",
    "summarise_all(chocolateData, funs(mean))\n"
   ]
  },
  {
   "cell_type": "code",
   "execution_count": 11,
   "metadata": {
    "_cell_guid": "2fe871ba-8ee1-4d29-b615-ca437108fe39",
    "_uuid": "41cbee4f118b347fa92586bbde279cc745a13603"
   },
   "outputs": [],
   "source": [
    "# Try!\n",
    "\n",
    "# To calculate the standard deviation of each numeric column, employ the summarise_all() function along with the sd() function."
   ]
  },
  {
   "cell_type": "markdown",
   "metadata": {
    "_cell_guid": "7efc54a2-e9d2-459e-aa28-b75800a4742d",
    "_uuid": "6a6603668ea4b0d48c74c9aea679acffb47b7fd2"
   },
   "source": [
    "## Summarizing a specific variable"
   ]
  },
  {
   "cell_type": "markdown",
   "metadata": {
    "_cell_guid": "491e3d58-7734-4180-b2bd-8c636c1339e5",
    "_uuid": "8f3c08ebfbfe1f1d71acaa330c0b743409c7ec85"
   },
   "source": [
    "\n",
    "In the previous sections, we explored functions that provided an overview of the entire dataset. However, often, our focus is on specific variables. With the help of the `summarise()` function and pipes, this becomes a straightforward task. Pipes, denoted by `%>%`, are a special operator within the Tidyverse package, which we loaded at the beginning. Attempting to use pipes without loading the package will result in an error.\n",
    "\n",
    "The pipe operator `%>%` takes the output from the right side and passes it as input to the operation on the left side.\n",
    "\n",
    "Let's demonstrate this with our chocolate dataset. We'll use the pipe to pass the dataset to the `summarise()` function. The `summarise()` function will return a data_frame with columns containing specific types of information we requested and assigned names. In this example, we'll obtain two columns: \"averageRating\" with the average of the \"Rating\" column and \"sdRating\" with the standard deviation of the \"Rating\" column."
   ]
  },
  {
   "cell_type": "code",
   "execution_count": 12,
   "metadata": {
    "_cell_guid": "caf7ddb8-30c5-4726-a6bc-1751a7f8a13f",
    "_uuid": "c05960bf031757661d09ff6b9a699e9860e400d4"
   },
   "outputs": [
    {
     "ename": "ERROR",
     "evalue": "Error in chocolateData %>% summarise(averageRating = mean(Rating), sdRating = sd(Rating)): could not find function \"%>%\"\n",
     "output_type": "error",
     "traceback": [
      "Error in chocolateData %>% summarise(averageRating = mean(Rating), sdRating = sd(Rating)): could not find function \"%>%\"\nTraceback:\n"
     ]
    }
   ],
   "source": [
    "# To obtain a data_frame containing the mean and standard deviation (SD) of the \"Rating\" column from the \"chocolateData\" dataset, \n",
    "#you can use the following code:\n",
    "\n",
    "chocolateData %>%\n",
    "    summarise(averageRating = mean(Rating),\n",
    "             sdRating = sd(Rating))\n",
    "\n",
    "# The \"result\" data_frame will contain the calculated average rating in the \"averageRating\" column and the standard deviation \n",
    "# in the \"sdRating\" column, extracted from the \"chocolateData\" dataset.\n"
   ]
  },
  {
   "cell_type": "markdown",
   "metadata": {
    "_cell_guid": "eaf42a2e-e68f-4352-81f5-5652903095c3",
    "_uuid": "ab166489b6f9726793e73b7fc880899ba76f4961"
   },
   "source": [
    "> ## Why are there line breaks after \"%>%\" and \"mean(Rating),\" in the code block above?\n",
    "\n",
    "> \n",
    "> Up until now, all the functions we've encountered have been written on a single line. However, as we delve into more functions and combine them, some lines of code can become quite lengthy. To enhance code readability, it's beneficial to break up these long lines. Ensuring that your code is easy to read is crucial, especially since you might be the one revisiting it in the future when you've forgotten the details. Making your future self's life a little easier is always a good idea!\n",
    ">\n",
    "> You can't break a line up just anywhere, though. Lines of code are like lines of text in a book: you can't just start wrap a line anywhere you want.\n",
    ">\n",
    ">> Th\n",
    ">>\n",
    ">>is is p\n",
    ">>\n",
    ">>retty hard t\n",
    ">>\n",
    ">> o read.\n",
    ">\n",
    ">When working with text, you can wrap lines between words or between syllables of words using a hyphen (-) to indicate continuation to the reader. In R, certain characters act as \"hyphens\" to inform the computer that the code continues on the next line. These characters include the comma (,), the pipe operator (%>%), and the plus sign (+), which we'll discuss later. When you split your code line directly after one of these characters, R knows to continue parsing the code on the next line.\n",
    "\n",
    ">To enhance code readability, it is advisable to indent any wrapped lines after the first one. Though not mandatory, this practice makes your code easier to understand. You can achieve indentation by either hitting TAB once or using four spaces. Both methods work well, and there are varying opinions online about which is better, but the choice ultimately depends on personal preference."
   ]
  },
  {
   "cell_type": "code",
   "execution_count": 13,
   "metadata": {
    "_cell_guid": "a419e5e2-d32d-4f9b-a7e3-ab303388acab",
    "_uuid": "9f559410ce5888c45d627d14bd6c4e481825b0ee"
   },
   "outputs": [
    {
     "ename": "ERROR",
     "evalue": "Error in parse(text = x, srcfile = src): <text>:14:7: unexpected numeric constant\n13: mean(c(5,6,2\n14:       5\n          ^\n",
     "output_type": "error",
     "traceback": [
      "Error in parse(text = x, srcfile = src): <text>:14:7: unexpected numeric constant\n13: mean(c(5,6,2\n14:       5\n          ^\nTraceback:\n"
     ]
    }
   ],
   "source": [
    "# this is fine! :)\n",
    "mean(c(5,6,25,16))\n",
    "\n",
    "# this is fine! :)\n",
    "mean(c(5,6,\n",
    "       25,16))\n",
    "\n",
    "# this won't break your code, but it's hard to read :(\n",
    "mean(c(5,6,\n",
    "25,16))\n",
    "\n",
    "# this will break your code :'(\n",
    "mean(c(5,6,2\n",
    "      5,16))"
   ]
  },
  {
   "cell_type": "code",
   "execution_count": 14,
   "metadata": {
    "_cell_guid": "2c5ba6af-4645-4d9d-9a59-ce4c67a82dd7",
    "_uuid": "cb3de78e8434e1bfa1168b2df68d0b7e69e19a37"
   },
   "outputs": [],
   "source": [
    "# try!\n",
    "\n",
    "# Could you apply the pipe (%>%) operator and the summarise() function to create a new dataframe containing \n",
    "# the average and standard deviation of the Cocoa_Percent column? \n",
    "# You have the flexibility to name the new columns as you prefer, \n",
    "#but it's essential to use clear and descriptive names for better understanding."
   ]
  },
  {
   "cell_type": "markdown",
   "metadata": {
    "_cell_guid": "a213b61f-2e03-47b8-9c1f-b69d7f6b714e",
    "_uuid": "f731784238476e5474ae129e860bf037e860123c"
   },
   "source": [
    "## Summarize a specific variable by group"
   ]
  },
  {
   "cell_type": "markdown",
   "metadata": {
    "_cell_guid": "e691bd6d-163f-4395-b77a-dd98bd3faed0",
    "_uuid": "0adbbbb91fadc1e389a32ac13b37b34ea4cfc556"
   },
   "source": [
    "At first glance, performing calculations such as mean and standard deviation using this approach might appear somewhat trivial. However, the true power of this technique becomes evident when we examine the same variable across different groups.\n",
    "\n",
    "To achieve this, we utilize a useful function called group_by(). By piping a dataset into the group_by() function and specifying a particular column's name, the function groups together all the rows with identical values in that column. Subsequently, when we pass this data into the summarise() function, it provides the requested values separately for each group. The process can be illustrated as follows:"
   ]
  },
  {
   "cell_type": "code",
   "execution_count": 15,
   "metadata": {
    "_cell_guid": "e8df8de7-7a38-48d5-b032-e7d5c0860939",
    "_uuid": "9ccb1d25051915b774e9351b8ff9b76156053e4e",
    "collapsed": true,
    "jupyter": {
     "outputs_hidden": true
    }
   },
   "outputs": [
    {
     "ename": "ERROR",
     "evalue": "Error in chocolateData %>% group_by(Review_Date) %>% summarise(averageRating = mean(Rating), : could not find function \"%>%\"\n",
     "output_type": "error",
     "traceback": [
      "Error in chocolateData %>% group_by(Review_Date) %>% summarise(averageRating = mean(Rating), : could not find function \"%>%\"\nTraceback:\n"
     ]
    }
   ],
   "source": [
    "# \"Calculate and provide the mean and standard deviation of ratings based on the year in which the ratings were given.\"\n",
    "\n",
    "chocolateData %>%\n",
    "    group_by(Review_Date) %>%\n",
    "    summarise(averageRating = mean(Rating),\n",
    "             sdRating = sd(Rating))"
   ]
  },
  {
   "cell_type": "code",
   "execution_count": 16,
   "metadata": {
    "_cell_guid": "97d3046a-a25a-416d-8250-781b32bfa0ae",
    "_uuid": "e70ab542d83262785ba0b7a70cbd4e2135ebea94"
   },
   "outputs": [],
   "source": [
    "# Try!\n",
    "\n",
    "# Could you provide a data_frame that includes the average and standard deviation of \n",
    "# Cocoa_Percent based on the year the reviews were written?"
   ]
  },
  {
   "cell_type": "markdown",
   "metadata": {
    "_cell_guid": "d9178109-2442-4427-b3ed-913694a8ff99",
    "_uuid": "27a0c1e956dba16f53dcecd8ac2235120aeccf26"
   },
   "source": [
    "This approach provides a highly effective method to initiate data comprehension. For instance, it appears that chocolate bar ratings may show a slight upward trend over the years. In the mid-2000s, the ratings hovered around 3.0, while currently, they are closer to 3.3.\n",
    "\n",
    "To gain a more comprehensive insight, I am eager to visualize this data through graphs. By doing so, I can ascertain whether there has been a consistent change over time. Let's proceed to the final part of this tutorial: graphing!"
   ]
  }
 ],
 "metadata": {
  "kernelspec": {
   "display_name": "R",
   "language": "R",
   "name": "ir"
  },
  "language_info": {
   "codemirror_mode": "r",
   "file_extension": ".r",
   "mimetype": "text/x-r-source",
   "name": "R",
   "pygments_lexer": "r",
   "version": "4.2.3"
  }
 },
 "nbformat": 4,
 "nbformat_minor": 4
}
