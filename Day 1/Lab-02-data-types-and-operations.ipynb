{
 "cells": [
  {
   "cell_type": "markdown",
   "metadata": {
    "papermill": {
     "duration": 0.058473,
     "end_time": "2020-10-12T07:13:22.068169",
     "exception": false,
     "start_time": "2020-10-12T07:13:22.009696",
     "status": "completed"
    },
    "tags": []
   },
   "source": [
    "# **Data Types and Operations**\n",
    "\n",
    "In R, data types and operations are fundamental concepts that define how data is represented and manipulated. Data types determine the nature of variables and dictate the operations that can be performed on them. R supports various data types, including:\n",
    "\n",
    "1.  **Numeric:** Represents real or decimal numbers, both integers and floating-point values. Numeric data allows for arithmetic operations like addition, subtraction, multiplication, and division. \n",
    "\n",
    "2.  **Character:** Consists of text data enclosed in single or double quotes. Character data is used to store textual information and perform operations like concatenation (combining strings).\n",
    "    \n",
    "3.  **Logical:** Holds Boolean values (`TRUE` or `FALSE`) and is utilized for logical operations such as AND, OR, and NOT.\n",
    "    \n",
    "4.  **Integer:** Represents whole numbers (no decimal point). It is a sub-type of the numeric data type and provides additional optimization for handling large datasets.\n",
    "    \n",
    "5.  **Complex:** Stores complex numbers in the form of `real + imaginary` parts. Complex data types enable mathematical operations involving complex arithmetic.\n",
    "    \n",
    "6.  **Factor:** Used for categorical data with predefined levels. Factors facilitate data analysis with qualitative variables.\n",
    "    \n",
    "7.  **Date and Time:** R supports specific data types to handle dates and times, allowing for date arithmetic and manipulation.\n",
    "    \n",
    "\n",
    "**In R, operators are used to perform various operations on data. Common types of operators in R include:**\n",
    "\n",
    "1.  **Arithmetic Operators:** Perform mathematical computations like addition (`+`), subtraction (`-`), multiplication (`*`), division (`/`), and exponentiation (`^`).\n",
    "    \n",
    "2.  **Relational Operators:** Compare values and return logical results (`TRUE` or `FALSE`). Examples include equality (`==`), inequality (`!=`), greater than (`>`), less than (`<`), etc.\n",
    "    \n",
    "3.  **Logical Operators:** Combine logical expressions. Common logical operators are AND (`&`), OR (`|`), and NOT (`!`).\n",
    "    \n",
    "4.  **Assignment Operator:** Used to assign values to variables. The assignment operator in R is `<-` or `=`.\n",
    "    \n",
    "5.  **Membership Operator:** Checks if an element belongs to a set. It is represented by `%in%`.\n",
    "    \n",
    "6.  **Special Operators:** R also has other specialized operators for specific tasks, such as indexing (`[]`) to access elements from vectors and matrices.\n",
    "    \n",
    "\n",
    "Understanding data types and operations is crucial in R programming as it forms the foundation for data manipulation, analysis, and visualization tasks.\n",
    "\n",
    "\n",
    "## Topics to be covered :\n",
    "- Assignment Operation\n",
    "- Data Types\n",
    "- Vectors\n",
    "- Lists\n",
    "- Matrices\n",
    "- Factors\n",
    "- Data Frames\n",
    "- Missing Values"
   ]
  },
  {
   "cell_type": "markdown",
   "metadata": {},
   "source": [
    "# Assignment Operation\n",
    "\n",
    "In R there are 2 assignment operators \"<-\" and \"=\", you can use either of these\n",
    "\n",
    "- Assigning Integer values to Variables x and y\n",
    "- Variables are sort of Containers to hold value"
   ]
  },
  {
   "cell_type": "markdown",
   "metadata": {},
   "source": [
    "\n",
    "In R, the assignment operation is a fundamental concept that allows you to assign values to variables. It is denoted by the `<-` symbol or the `=` symbol. The assignment operation is used to store data or the results of computations in named objects (variables), making it easy to reference and manipulate the data throughout the R script.\n",
    "\n",
    "**Syntax:**\n",
    "\n",
    "```\n",
    "`variable_name  <-  value`\n",
    "```\n",
    "or\n",
    "```\n",
    "`variable_name  =  value`\n",
    "```\n",
    "\n",
    "**Description:**\n",
    "\n",
    "-   **Variable Name:** Choose a valid name for the variable, adhering to R's naming rules. Variable names can consist of letters, numbers, periods, and underscores but should start with a letter or a period followed by a letter.\n",
    "    \n",
    "-   **Assignment Operator:** Use either `<-` or `=` to perform the assignment operation. Both symbols have the same effect, but `<-` is more commonly used in R to assign values to variables.\n",
    "    \n",
    "-   **Value:** The value to be assigned to the variable. It can be a numeric value, character, logical value (`TRUE` or `FALSE`), vector, matrix, or any other data type supported by R."
   ]
  },
  {
   "cell_type": "code",
   "execution_count": 1,
   "metadata": {
    "papermill": {
     "duration": 0.22767,
     "end_time": "2020-10-12T07:13:22.470994",
     "exception": false,
     "start_time": "2020-10-12T07:13:22.243324",
     "status": "completed"
    },
    "tags": []
   },
   "outputs": [
    {
     "name": "stdout",
     "output_type": "stream",
     "text": [
      "[1] 5\n",
      "[1] 8\n"
     ]
    }
   ],
   "source": [
    "x <- 5     # After executing it, x will contain 5\n",
    "y = 8      # After executing it, y will contain 5\n",
    "print(x)   # print function Extracts the value from Variable(container) and displays it on Console\n",
    "print(y)   # print function Extracts the value from Variable(container) and displays it on Console"
   ]
  },
  {
   "cell_type": "markdown",
   "metadata": {
    "papermill": {
     "duration": 0.057677,
     "end_time": "2020-10-12T07:13:22.699200",
     "exception": false,
     "start_time": "2020-10-12T07:13:22.641523",
     "status": "completed"
    },
    "tags": []
   },
   "source": [
    "# R – Data Types"
   ]
  },
  {
   "cell_type": "markdown",
   "metadata": {
    "papermill": {
     "duration": 0.056606,
     "end_time": "2020-10-12T07:13:22.926688",
     "exception": false,
     "start_time": "2020-10-12T07:13:22.870082",
     "status": "completed"
    },
    "tags": []
   },
   "source": [
    "Each variable in R has an associated data type. Each data type requires different amounts of memory and has some specific operations which can be performed over it.\n",
    "\n",
    "| BASIC DATA TYPES |                        VALUES                       |\n",
    "|:----------------:|:---------------------------------------------------:|\n",
    "| Numeric          | Set of all real numbers                             |\n",
    "| Integer          | Set of all integers, Z                              |\n",
    "| Logical          | TRUE and FALSE                                      |\n",
    "| Complex          | Set of complex numbers                              |\n",
    "| Character        | “a”, “b”, “c”, …, “@”, “#”, “$”, …., “1”, “2”, …etc |\n",
    "\n"
   ]
  },
  {
   "cell_type": "markdown",
   "metadata": {
    "papermill": {
     "duration": 0.056664,
     "end_time": "2020-10-12T07:13:23.039898",
     "exception": false,
     "start_time": "2020-10-12T07:13:22.983234",
     "status": "completed"
    },
    "tags": []
   },
   "source": [
    "## 1. Numeric Datatype\n",
    "Decimal values are called numerics in R. It is the default data type for numbers in R. If you assign a decimal value to a variable x as follows, x will be of numeric type."
   ]
  },
  {
   "cell_type": "code",
   "execution_count": 2,
   "metadata": {
    "papermill": {
     "duration": 0.110696,
     "end_time": "2020-10-12T07:13:23.207089",
     "exception": false,
     "start_time": "2020-10-12T07:13:23.096393",
     "status": "completed"
    },
    "tags": []
   },
   "outputs": [
    {
     "name": "stdout",
     "output_type": "stream",
     "text": [
      "[1] \"numeric\"\n",
      "[1] \"double\"\n"
     ]
    }
   ],
   "source": [
    "# Assign a decimal value to x \n",
    "x = 5.6 \n",
    "  \n",
    "# print the class name of variable \n",
    "print(class(x))       # class funtion returns the Class type it belongs to\n",
    "  \n",
    "# print the type of variable \n",
    "print(typeof(x))      # class funtion returns the Type of the Variable"
   ]
  },
  {
   "cell_type": "markdown",
   "metadata": {
    "papermill": {
     "duration": 0.057534,
     "end_time": "2020-10-12T07:13:23.323347",
     "exception": false,
     "start_time": "2020-10-12T07:13:23.265813",
     "status": "completed"
    },
    "tags": []
   },
   "source": [
    "When R stores a number in a variable, it converts the number into a “double” value or a decimal type with at least two decimal places. This means that a value such as “5” here, is stored as 5.00 with a type of double and a class of numeric."
   ]
  },
  {
   "cell_type": "code",
   "execution_count": 3,
   "metadata": {
    "papermill": {
     "duration": 0.085605,
     "end_time": "2020-10-12T07:13:23.466947",
     "exception": false,
     "start_time": "2020-10-12T07:13:23.381342",
     "status": "completed"
    },
    "tags": []
   },
   "outputs": [
    {
     "name": "stdout",
     "output_type": "stream",
     "text": [
      "[1] \"integer\"\n",
      "[1] \"integer\"\n"
     ]
    }
   ],
   "source": [
    "z = as.integer(11)    # now z will hold 5 as integer\n",
    "h = 9L                # by specifying \"L\" without space indicates that take it as Integer\n",
    "\n",
    "print(typeof(z))      # class funtion returns the Type of the Variable\n",
    "print(typeof(h))      # class funtion returns the Type of the Variable"
   ]
  },
  {
   "cell_type": "code",
   "execution_count": 4,
   "metadata": {
    "papermill": {
     "duration": 0.08846,
     "end_time": "2020-10-12T07:13:23.614533",
     "exception": false,
     "start_time": "2020-10-12T07:13:23.526073",
     "status": "completed"
    },
    "tags": []
   },
   "outputs": [
    {
     "name": "stdout",
     "output_type": "stream",
     "text": [
      "[1] \"numeric\"\n",
      "[1] \"double\"\n"
     ]
    }
   ],
   "source": [
    "# There is also a special number Inf which represents infinity\n",
    "I = Inf\n",
    "\n",
    "# print the class name of variable \n",
    "print(class(I))       # class funtion returns the Class type it belongs to\n",
    "  \n",
    "# print the type of variable \n",
    "print(typeof(I))      # class funtion returns the Type of the Variable"
   ]
  },
  {
   "cell_type": "markdown",
   "metadata": {
    "papermill": {
     "duration": 0.061156,
     "end_time": "2020-10-12T07:13:23.736223",
     "exception": false,
     "start_time": "2020-10-12T07:13:23.675067",
     "status": "completed"
    },
    "tags": []
   },
   "source": [
    "## 2.Logical Datatype\n",
    "R has logical data types that take either a value of true or false. A logical value is often created via a comparison between variables."
   ]
  },
  {
   "cell_type": "code",
   "execution_count": 5,
   "metadata": {
    "papermill": {
     "duration": 0.089056,
     "end_time": "2020-10-12T07:13:23.885129",
     "exception": false,
     "start_time": "2020-10-12T07:13:23.796073",
     "status": "completed"
    },
    "tags": []
   },
   "outputs": [
    {
     "name": "stdout",
     "output_type": "stream",
     "text": [
      "[1] FALSE\n",
      "[1] \"logical\"\n",
      "[1] \"logical\"\n"
     ]
    }
   ],
   "source": [
    "# Comparing two values \n",
    "s = x > y \n",
    "  \n",
    "# print the logical value \n",
    "print(s) \n",
    "  \n",
    "# print the class name of s\n",
    "print(class(s))     # class funtion returns the Class type it belongs to\n",
    "  \n",
    "# print the type of s\n",
    "print(typeof(s))    # class funtion returns the Type of the Variable"
   ]
  },
  {
   "cell_type": "markdown",
   "metadata": {
    "papermill": {
     "duration": 0.061114,
     "end_time": "2020-10-12T07:13:24.008200",
     "exception": false,
     "start_time": "2020-10-12T07:13:23.947086",
     "status": "completed"
    },
    "tags": []
   },
   "source": [
    "## 3. Complex Datatype\n",
    "R supports complex data types which are set of all the complex numbers. The complex data type is to store numbers with an imaginary component."
   ]
  },
  {
   "cell_type": "code",
   "execution_count": 6,
   "metadata": {
    "papermill": {
     "duration": 0.085634,
     "end_time": "2020-10-12T07:13:24.155003",
     "exception": false,
     "start_time": "2020-10-12T07:13:24.069369",
     "status": "completed"
    },
    "tags": []
   },
   "outputs": [
    {
     "name": "stdout",
     "output_type": "stream",
     "text": [
      "[1] \"complex\"\n",
      "[1] \"complex\"\n"
     ]
    }
   ],
   "source": [
    "# Comparing two values \n",
    "c = 4 + 3i \n",
    "  \n",
    "\n",
    "# print the class name of s\n",
    "print(class(c))     # class funtion returns the Class type it belongs to\n",
    "  \n",
    "# print the type of s\n",
    "print(typeof(c))    # class funtion returns the Type of the Variable"
   ]
  },
  {
   "cell_type": "markdown",
   "metadata": {
    "papermill": {
     "duration": 0.06345,
     "end_time": "2020-10-12T07:13:24.281324",
     "exception": false,
     "start_time": "2020-10-12T07:13:24.217874",
     "status": "completed"
    },
    "tags": []
   },
   "source": [
    "## 4. Character Datatype\n",
    "it takes all the AlphaNumeric and Special Characters"
   ]
  },
  {
   "cell_type": "code",
   "execution_count": 7,
   "metadata": {
    "papermill": {
     "duration": 0.099379,
     "end_time": "2020-10-12T07:13:24.443173",
     "exception": false,
     "start_time": "2020-10-12T07:13:24.343794",
     "status": "completed"
    },
    "tags": []
   },
   "outputs": [
    {
     "name": "stdout",
     "output_type": "stream",
     "text": [
      "[1] \"character\"\n",
      "[1] \"character\"\n",
      "[1] \"character\"\n",
      "[1] \"character\"\n"
     ]
    }
   ],
   "source": [
    "# Assigning character to variable a and b\n",
    "a = \"Data\"\n",
    "b = \"userdata@gmail.com\"\n",
    "\n",
    "# print the class name of a, b\n",
    "print(class(a))     # class funtion returns the Class type it belongs to\n",
    "print(class(b))     # class funtion returns the Class type it belongs to\n",
    "  \n",
    "# print the type of a, b\n",
    "print(typeof(a))    # class funtion returns the Type of the Variable\n",
    "print(typeof(b))    # class funtion returns the Type of the Variable"
   ]
  },
  {
   "attachments": {
    "image.png": {
     "image/png": "[encoded data removed]"
    }
   },
   "cell_type": "markdown",
   "metadata": {
    "papermill": {
     "duration": 0.064067,
     "end_time": "2020-10-12T07:13:24.697939",
     "exception": false,
     "start_time": "2020-10-12T07:13:24.633872",
     "status": "completed"
    },
    "tags": []
   },
   "source": [
    "# Vectors\n",
    "Vectors are a sequence of elements belonging to the same data type. \n",
    "A list in R, however, comprises of elements, vectors, variables or lists which may belong to different data types.\n",
    "![image.png](attachment:image.png)"
   ]
  },
  {
   "cell_type": "markdown",
   "metadata": {
    "papermill": {
     "duration": 0.063327,
     "end_time": "2020-10-12T07:13:24.825331",
     "exception": false,
     "start_time": "2020-10-12T07:13:24.762004",
     "status": "completed"
    },
    "tags": []
   },
   "source": [
    "## 1. Creating Vector"
   ]
  },
  {
   "cell_type": "markdown",
   "metadata": {},
   "source": [
    "In R, a vector is a fundamental data structure that represents a collection of elements of the same data type. It allows you to store and manipulate data efficiently. Creating vectors in R is a straightforward process, and there are multiple methods to do so.\n",
    "\n",
    "**Using c() function:** The most common way to create a vector in R is by using the `c()` function, which stands for \"combine\" or \"concatenate.\" This function takes individual elements separated by commas and combines them into a vector. For example:\n",
    "\n",
    "    # Creating a numeric vector  \n",
    "    numeric_vector  <-  c(10,  20,  30,  40,  50)  \n",
    "    # Creating a character vector  \n",
    "    character_vector  <-  c(\"apple\",  \"banana\",  \"orange\")`"
   ]
  },
  {
   "cell_type": "code",
   "execution_count": null,
   "metadata": {},
   "outputs": [],
   "source": []
  },
  {
   "cell_type": "code",
   "execution_count": 8,
   "metadata": {
    "papermill": {
     "duration": 0.117507,
     "end_time": "2020-10-12T07:13:25.006186",
     "exception": false,
     "start_time": "2020-10-12T07:13:24.888679",
     "status": "completed"
    },
    "tags": []
   },
   "outputs": [
    {
     "name": "stdout",
     "output_type": "stream",
     "text": [
      "[1] \"integer\"\n",
      "[1] \"numeric\"\n",
      "[1] \"logical\"\n",
      "[1] \"logical\"\n",
      "[1] \"character\"\n",
      "[1] \"integer\"\n",
      "[1] \"complex\"\n"
     ]
    }
   ],
   "source": [
    "# Creating a Vector\n",
    "\n",
    "k <- c(8L, 9L)         ## Integer\n",
    "m <- c(0.5, 0.6)       ## numeric\n",
    "n <- c(TRUE, FALSE)    ## logical\n",
    "o <- c(T, F)           ## logical\n",
    "p <- c(\"a\", \"b\", \"c\")  ## character\n",
    "q <- 9:29              ## integer\n",
    "r <- c(1+0i, 2+4i)     ## complex\n",
    "\n",
    "print(class(k))\n",
    "print(class(m))\n",
    "print(class(n))\n",
    "print(class(o))\n",
    "print(class(p))\n",
    "print(class(q))\n",
    "print(class(r))"
   ]
  },
  {
   "cell_type": "markdown",
   "metadata": {
    "papermill": {
     "duration": 0.066565,
     "end_time": "2020-10-12T07:13:25.139263",
     "exception": false,
     "start_time": "2020-10-12T07:13:25.072698",
     "status": "completed"
    },
    "tags": []
   },
   "source": [
    "There are different ways of creating vectors. Generally, we use ‘c’ to combine different elements together."
   ]
  },
  {
   "cell_type": "code",
   "execution_count": 9,
   "metadata": {
    "papermill": {
     "duration": 0.099917,
     "end_time": "2020-10-12T07:13:25.305926",
     "exception": false,
     "start_time": "2020-10-12T07:13:25.206009",
     "status": "completed"
    },
    "tags": []
   },
   "outputs": [
    {
     "name": "stdout",
     "output_type": "stream",
     "text": [
      "using c function 61 4 21 67 89 2 \n",
      "using seq() function 1 3.25 5.5 7.75 10 \n",
      "using colon 2 3 4 5 6 7"
     ]
    }
   ],
   "source": [
    "# R program to create Vectors \n",
    "  \n",
    "# we can use the c function \n",
    "# to combine the values as a vector. \n",
    "# By default the type will be double \n",
    "X <- c(61, 4, 21, 67, 89, 2) \n",
    "cat('using c function', X, '\\n') \n",
    "  \n",
    "# seq() function for creating \n",
    "# a sequence of continuous values. \n",
    "# length.out defines the length of vector. \n",
    "Y <- seq(1, 10, length.out = 5)  \n",
    "cat('using seq() function', Y, '\\n')  \n",
    "  \n",
    "# use':' to create a vector  \n",
    "# of continuous values. \n",
    "Z <- 2:7\n",
    "cat('using colon', Z) "
   ]
  },
  {
   "cell_type": "markdown",
   "metadata": {
    "papermill": {
     "duration": 0.069854,
     "end_time": "2020-10-12T07:13:25.446025",
     "exception": false,
     "start_time": "2020-10-12T07:13:25.376171",
     "status": "completed"
    },
    "tags": []
   },
   "source": [
    "## 2. Accessing vector elements\n",
    "Accessing elements in a vector is the process of performing operation on an individual element of a vector. There are many ways through which we can access the elements of the vector. The most common is using the ‘[]’, symbol.\n",
    "\n",
    "**Note:** Vectors in R are 1 based indexing unlike the normal C, python, etc format."
   ]
  },
  {
   "cell_type": "code",
   "execution_count": 10,
   "metadata": {
    "papermill": {
     "duration": 0.102985,
     "end_time": "2020-10-12T07:13:25.617219",
     "exception": false,
     "start_time": "2020-10-12T07:13:25.514234",
     "status": "completed"
    },
    "tags": []
   },
   "outputs": [
    {
     "name": "stdout",
     "output_type": "stream",
     "text": [
      "Using Subscript operator 5 \n",
      "Using combine() function 1 4 \n",
      "Using Logical indexing 5"
     ]
    }
   ],
   "source": [
    "# R program to access elements of a Vector \n",
    "  \n",
    "# accessing elements with an index number. \n",
    "X <- c(2, 5, 18, 1, 12) \n",
    "cat('Using Subscript operator', X[2], '\\n') \n",
    "  \n",
    "# by passing a range of values \n",
    "# inside the vector index. \n",
    "Y <- c(4, 8, 2, 1, 17) \n",
    "cat('Using combine() function', Y[c(4, 1)], '\\n') \n",
    "  \n",
    "# using logical expressions \n",
    "Z <- c(5, 2, 1, 4, 4, 3) \n",
    "cat('Using Logical indexing', Z[Z>4]) "
   ]
  },
  {
   "cell_type": "markdown",
   "metadata": {
    "papermill": {
     "duration": 0.071285,
     "end_time": "2020-10-12T07:13:25.758448",
     "exception": false,
     "start_time": "2020-10-12T07:13:25.687163",
     "status": "completed"
    },
    "tags": []
   },
   "source": [
    "## 3. Modifying a vector\n",
    "Modification of a Vector is the process of applying some operation on an individual element of a vector to change its value in the vector. There are different ways through which we can modify a vector:"
   ]
  },
  {
   "cell_type": "code",
   "execution_count": 11,
   "metadata": {
    "papermill": {
     "duration": 0.105437,
     "end_time": "2020-10-12T07:13:25.933181",
     "exception": false,
     "start_time": "2020-10-12T07:13:25.827744",
     "status": "completed"
    },
    "tags": []
   },
   "outputs": [
    {
     "name": "stdout",
     "output_type": "stream",
     "text": [
      "subscript operator 2 9 1 7 8 2 \n",
      "Logical indexing 2 0 1 0 0 2 \n",
      "combine() function 1 0 2"
     ]
    }
   ],
   "source": [
    "# R program to modify elements of a Vector \n",
    "  \n",
    "# Creating a vector \n",
    "X <- c(2, 7, 9, 7, 8, 2) \n",
    "  \n",
    "# modify a specific element \n",
    "X[3] <- 1\n",
    "X[2] <-9\n",
    "cat('subscript operator', X, '\\n') \n",
    "  \n",
    "# Modify using different logics. \n",
    "X[X>5] <- 0\n",
    "cat('Logical indexing', X, '\\n') \n",
    "  \n",
    "# Modify by specifying  \n",
    "# the position or elements. \n",
    "X <- X[c(3, 2, 1)] \n",
    "cat('combine() function', X) "
   ]
  },
  {
   "cell_type": "markdown",
   "metadata": {
    "papermill": {
     "duration": 0.070988,
     "end_time": "2020-10-12T07:13:26.075153",
     "exception": false,
     "start_time": "2020-10-12T07:13:26.004165",
     "status": "completed"
    },
    "tags": []
   },
   "source": [
    "## 4. Deleting a vector\n",
    "Deletion of a Vector is the process of deleting all of the elements of the vector. This can be done by assigning it to a NULL value."
   ]
  },
  {
   "cell_type": "code",
   "execution_count": 12,
   "metadata": {
    "papermill": {
     "duration": 0.095909,
     "end_time": "2020-10-12T07:13:26.241961",
     "exception": false,
     "start_time": "2020-10-12T07:13:26.146052",
     "status": "completed"
    },
    "tags": []
   },
   "outputs": [
    {
     "name": "stdout",
     "output_type": "stream",
     "text": [
      "Output vector"
     ]
    }
   ],
   "source": [
    "\n",
    "# R program to delete a Vector \n",
    "  \n",
    "# Creating a Vector \n",
    "M <- c(8, 10, 2, 5) \n",
    "  \n",
    "# set NULL to the vector \n",
    "M <- NULL  \n",
    "cat('Output vector', M) "
   ]
  },
  {
   "cell_type": "markdown",
   "metadata": {
    "papermill": {
     "duration": 0.072186,
     "end_time": "2020-10-12T07:13:26.385468",
     "exception": false,
     "start_time": "2020-10-12T07:13:26.313282",
     "status": "completed"
    },
    "tags": []
   },
   "source": [
    "## 5. Mixing Objects\n",
    "What about the following?"
   ]
  },
  {
   "cell_type": "code",
   "execution_count": 13,
   "metadata": {
    "papermill": {
     "duration": 0.104706,
     "end_time": "2020-10-12T07:13:26.560998",
     "exception": false,
     "start_time": "2020-10-12T07:13:26.456292",
     "status": "completed"
    },
    "tags": []
   },
   "outputs": [
    {
     "name": "stdout",
     "output_type": "stream",
     "text": [
      "[1] \"1.7\" \"a\"  \n",
      "[1] 1 2\n",
      "[1] \"a\"    \"TRUE\"\n"
     ]
    }
   ],
   "source": [
    "d <- c(1.7, \"a\")    ## character --> \"1.7\" is going to converted to Character\n",
    "e <- c(TRUE, 2)     ## numeric   --> \"TRUE\" will be converted to Numeric, as we know True=1 and False=0\n",
    "f <- c(\"a\", TRUE)   ## character --> \"TRUE\" will be converted to Charater as String \"TRUE\"\n",
    "\n",
    "print(d)\n",
    "print(e)\n",
    "print(f)"
   ]
  },
  {
   "cell_type": "markdown",
   "metadata": {
    "papermill": {
     "duration": 0.073141,
     "end_time": "2020-10-12T07:13:26.707130",
     "exception": false,
     "start_time": "2020-10-12T07:13:26.633989",
     "status": "completed"
    },
    "tags": []
   },
   "source": [
    "When different objects are mixed in a vector, coercion occurs so that every element in the vector is\n",
    "of the same class."
   ]
  },
  {
   "cell_type": "markdown",
   "metadata": {
    "papermill": {
     "duration": 0.073025,
     "end_time": "2020-10-12T07:13:26.885323",
     "exception": false,
     "start_time": "2020-10-12T07:13:26.812298",
     "status": "completed"
    },
    "tags": []
   },
   "source": [
    "## 6. Explicit Coercion\n",
    "Objects can be explicitly coerced from one class to another using the as.* functions, if available."
   ]
  },
  {
   "cell_type": "code",
   "execution_count": 14,
   "metadata": {
    "papermill": {
     "duration": 0.106401,
     "end_time": "2020-10-12T07:13:27.064472",
     "exception": false,
     "start_time": "2020-10-12T07:13:26.958071",
     "status": "completed"
    },
    "tags": []
   },
   "outputs": [
    {
     "name": "stdout",
     "output_type": "stream",
     "text": [
      "[1] \"integer\"\n",
      "[1] 0 1 2 3 4 5 6\n",
      "[1] FALSE  TRUE  TRUE  TRUE  TRUE  TRUE  TRUE\n",
      "[1] \"0\" \"1\" \"2\" \"3\" \"4\" \"5\" \"6\"\n"
     ]
    }
   ],
   "source": [
    "x <- 0:6\n",
    "print(class(x))          # Will print -> \"integer\"\n",
    "\n",
    "print( as.numeric(x) )   # will print -> 0 1 2 3 4 5 6\n",
    "\n",
    "print( as.logical(x) )   # will print -> FALSE TRUE TRUE TRUE TRUE TRUE TRUE\n",
    "\n",
    "print( as.character(x) ) # will print -> \"0\" \"1\" \"2\" \"3\" \"4\" \"5\" \"6\""
   ]
  },
  {
   "cell_type": "markdown",
   "metadata": {
    "papermill": {
     "duration": 0.074479,
     "end_time": "2020-10-12T07:13:27.213653",
     "exception": false,
     "start_time": "2020-10-12T07:13:27.139174",
     "status": "completed"
    },
    "tags": []
   },
   "source": [
    "Nonsensical coercion results in NAs."
   ]
  },
  {
   "cell_type": "code",
   "execution_count": 15,
   "metadata": {
    "papermill": {
     "duration": 0.108189,
     "end_time": "2020-10-12T07:13:27.397122",
     "exception": false,
     "start_time": "2020-10-12T07:13:27.288933",
     "status": "completed"
    },
    "tags": []
   },
   "outputs": [
    {
     "name": "stderr",
     "output_type": "stream",
     "text": [
      "Warning message in print(as.numeric(x)):\n",
      "“NAs introduced by coercion”\n"
     ]
    },
    {
     "name": "stdout",
     "output_type": "stream",
     "text": [
      "[1] NA NA NA\n",
      "[1] NA NA NA\n"
     ]
    },
    {
     "name": "stderr",
     "output_type": "stream",
     "text": [
      "Warning message in print(as.complex(x)):\n",
      "“NAs introduced by coercion”\n"
     ]
    },
    {
     "name": "stdout",
     "output_type": "stream",
     "text": [
      "[1] NA NA NA\n"
     ]
    }
   ],
   "source": [
    "x <- c(\"a\", \"b\", \"c\")\n",
    "\n",
    "print( as.numeric(x) )    # NA NA NA\n",
    "                          # Warning message:\n",
    "                          # NAs introduced by coercion\n",
    "\n",
    "print( as.logical(x) )    # NA NA NA\n",
    "\n",
    "print( as.complex(x) )    # NA NA NA\n",
    "                          # Warning message:\n",
    "                          # NAs introduced by coercion"
   ]
  },
  {
   "cell_type": "markdown",
   "metadata": {
    "papermill": {
     "duration": 0.076727,
     "end_time": "2020-10-12T07:13:27.708266",
     "exception": false,
     "start_time": "2020-10-12T07:13:27.631539",
     "status": "completed"
    },
    "tags": []
   },
   "source": [
    "# Lists\n",
    "Lists are a special type of vector that can contain elements of different classes. Lists are a very\n",
    "important data type in R and you should get to know them well.  \n",
    "A list in R is a generic object consisting of an ordered collection of objects. Lists are one-dimensional, heterogeneous data structures. The list can be a list of vectors, a list of matrices, a list of characters and a list of functions, and so on."
   ]
  },
  {
   "cell_type": "code",
   "execution_count": 16,
   "metadata": {
    "papermill": {
     "duration": 0.097087,
     "end_time": "2020-10-12T07:13:27.883797",
     "exception": false,
     "start_time": "2020-10-12T07:13:27.786710",
     "status": "completed"
    },
    "tags": []
   },
   "outputs": [
    {
     "name": "stdout",
     "output_type": "stream",
     "text": [
      "[[1]]\n",
      "[1] 1\n",
      "\n",
      "[[2]]\n",
      "[1] \"a\"\n",
      "\n",
      "[[3]]\n",
      "[1] TRUE\n",
      "\n",
      "[[4]]\n",
      "[1] 1+4i\n",
      "\n"
     ]
    }
   ],
   "source": [
    "g <- list(1, \"a\", TRUE, 1 + 4i)\n",
    "print(g)    # when auto printed"
   ]
  },
  {
   "cell_type": "markdown",
   "metadata": {
    "papermill": {
     "duration": 0.076439,
     "end_time": "2020-10-12T07:13:28.037538",
     "exception": false,
     "start_time": "2020-10-12T07:13:27.961099",
     "status": "completed"
    },
    "tags": []
   },
   "source": [
    "## 1. Access components by names\n",
    "All the components of a list can be named and we can use those names to access the components of the list using the dollar command."
   ]
  },
  {
   "cell_type": "code",
   "execution_count": 17,
   "metadata": {
    "papermill": {
     "duration": 0.120146,
     "end_time": "2020-10-12T07:13:28.234933",
     "exception": false,
     "start_time": "2020-10-12T07:13:28.114787",
     "status": "completed"
    },
    "tags": []
   },
   "outputs": [
    {
     "name": "stdout",
     "output_type": "stream",
     "text": [
      "$ID\n",
      "[1] 1 2 3 4\n",
      "\n",
      "$Names\n",
      "[1] \"Debi\"    \"Sandeep\" \"Subham\"  \"Shiba\"  \n",
      "\n",
      "$`Total Staff`\n",
      "[1] 4\n",
      "\n",
      "Acessing name components using $ command\n",
      "[1] \"Debi\"    \"Sandeep\" \"Subham\"  \"Shiba\"  \n",
      "Acessing ID components using $ command\n",
      "[1] 1 2 3 4\n"
     ]
    }
   ],
   "source": [
    "# R program to access \n",
    "# components of a list \n",
    "  \n",
    "# Creating a list by naming all its components \n",
    "empId = c(1, 2, 3, 4) \n",
    "empName = c(\"Debi\", \"Sandeep\", \"Subham\", \"Shiba\") \n",
    "numberOfEmp = 4\n",
    "\n",
    "empList = list( \n",
    "  \"ID\" = empId, \n",
    "  \"Names\" = empName, \n",
    "  \"Total Staff\" = numberOfEmp \n",
    "  )\n",
    "\n",
    "print(empList) \n",
    "  \n",
    "# Accessin components by names \n",
    "cat(\"Acessing name components using $ command\\n\") \n",
    "print(empList$Names)\n",
    "\n",
    "cat(\"Acessing ID components using $ command\\n\") \n",
    "print(empList$ID)"
   ]
  },
  {
   "cell_type": "markdown",
   "metadata": {
    "papermill": {
     "duration": 0.079299,
     "end_time": "2020-10-12T07:13:28.393060",
     "exception": false,
     "start_time": "2020-10-12T07:13:28.313761",
     "status": "completed"
    },
    "tags": []
   },
   "source": [
    "## 2. Access components by indices\n",
    "We can also access the components of the list using indices.  \n",
    "To access the top-level components of a list we have to use a double slicing operator “[[ ]]” which is two square brackets and if we want to access the lower or inner level components of a list we have to use another square bracket “[ ]” along with the double slicing operator “[[ ]]“."
   ]
  },
  {
   "cell_type": "code",
   "execution_count": 18,
   "metadata": {
    "papermill": {
     "duration": 0.115724,
     "end_time": "2020-10-12T07:13:28.588113",
     "exception": false,
     "start_time": "2020-10-12T07:13:28.472389",
     "status": "completed"
    },
    "tags": []
   },
   "outputs": [
    {
     "name": "stdout",
     "output_type": "stream",
     "text": [
      "Accessing name components using indices\n",
      "[1] \"Debi\"    \"Sandeep\" \"Subham\"  \"Shiba\"  \n",
      "Accessing Sandeep from name using indices\n",
      "[1] \"Sandeep\"\n",
      "Accessing 4 from ID using indices\n",
      "[1] 4\n"
     ]
    }
   ],
   "source": [
    "# Accessing a top level components by indices \n",
    "cat(\"Accessing name components using indices\\n\") \n",
    "print(empList[[2]]) \n",
    "  \n",
    "# Accessing a inner level components by indices \n",
    "cat(\"Accessing Sandeep from name using indices\\n\") \n",
    "print(empList[[2]][2]) \n",
    "  \n",
    "# Accessing another inner level components by indices \n",
    "cat(\"Accessing 4 from ID using indices\\n\") \n",
    "print(empList[[1]][4]) "
   ]
  },
  {
   "cell_type": "markdown",
   "metadata": {
    "papermill": {
     "duration": 0.082673,
     "end_time": "2020-10-12T07:13:28.752692",
     "exception": false,
     "start_time": "2020-10-12T07:13:28.670019",
     "status": "completed"
    },
    "tags": []
   },
   "source": [
    "## 3. Modifying components of a list\n",
    "A list can also be modified by accessing the components and replacing them with the ones which you want."
   ]
  },
  {
   "cell_type": "code",
   "execution_count": 19,
   "metadata": {
    "papermill": {
     "duration": 0.109045,
     "end_time": "2020-10-12T07:13:28.942953",
     "exception": false,
     "start_time": "2020-10-12T07:13:28.833908",
     "status": "completed"
    },
    "tags": []
   },
   "outputs": [
    {
     "name": "stdout",
     "output_type": "stream",
     "text": [
      "After modified the list\n",
      "$ID\n",
      "[1] 1 2 3 4 5\n",
      "\n",
      "$Names\n",
      "[1] \"Debi\"    \"Sandeep\" \"Subham\"  \"Shiba\"   \"Kamala\" \n",
      "\n",
      "$`Total Staff`\n",
      "[1] 5\n",
      "\n"
     ]
    }
   ],
   "source": [
    "# Modifying the top-level component \n",
    "empList$`Total Staff` = 5\n",
    "  \n",
    "# Modifying inner level componet \n",
    "empList[[1]][5] = 5\n",
    "empList[[2]][5] = \"Kamala\"\n",
    "  \n",
    "cat(\"After modified the list\\n\") \n",
    "print(empList) "
   ]
  },
  {
   "cell_type": "markdown",
   "metadata": {
    "papermill": {
     "duration": 0.081781,
     "end_time": "2020-10-12T07:13:29.107599",
     "exception": false,
     "start_time": "2020-10-12T07:13:29.025818",
     "status": "completed"
    },
    "tags": []
   },
   "source": [
    "## 4. Deleting components of a list\n",
    "To delete components of a list, first of all, we need to access those components and then insert a negative sign before those components. It indicates that we had to delete that component.\n",
    "\n",
    "Use **\"-\"** (Negetive Sign) to indicate to delete it"
   ]
  },
  {
   "cell_type": "code",
   "execution_count": 20,
   "metadata": {
    "papermill": {
     "duration": 0.117721,
     "end_time": "2020-10-12T07:13:29.307150",
     "exception": false,
     "start_time": "2020-10-12T07:13:29.189429",
     "status": "completed"
    },
    "tags": []
   },
   "outputs": [
    {
     "name": "stdout",
     "output_type": "stream",
     "text": [
      "After Deleting Total staff components\n",
      "$ID\n",
      "[1] 1 2 3 4 5\n",
      "\n",
      "$Names\n",
      "[1] \"Debi\"    \"Sandeep\" \"Subham\"  \"Shiba\"   \"Kamala\" \n",
      "\n",
      "After Deleting sandeep from name\n",
      "[1] \"Debi\"   \"Subham\" \"Shiba\"  \"Kamala\"\n"
     ]
    }
   ],
   "source": [
    "# Deleting a top level components \n",
    "cat(\"After Deleting Total staff components\\n\") \n",
    "print(empList[-3])           # 3rd component will get deleted which is \"Total Staff\"\n",
    "  \n",
    "# Deleting a inner level components \n",
    "cat(\"After Deleting sandeep from name\\n\") \n",
    "print(empList[[2]][-2])      "
   ]
  },
  {
   "cell_type": "markdown",
   "metadata": {
    "papermill": {
     "duration": 0.083478,
     "end_time": "2020-10-12T07:13:29.646987",
     "exception": false,
     "start_time": "2020-10-12T07:13:29.563509",
     "status": "completed"
    },
    "tags": []
   },
   "source": [
    "# Matrices\n",
    "Matrices are vectors with a dimension attribute. The dimension attribute is itself an integer vector of\n",
    "length 2 (nrow, ncol)"
   ]
  },
  {
   "cell_type": "code",
   "execution_count": 21,
   "metadata": {
    "papermill": {
     "duration": 0.123012,
     "end_time": "2020-10-12T07:13:29.857186",
     "exception": false,
     "start_time": "2020-10-12T07:13:29.734174",
     "status": "completed"
    },
    "tags": []
   },
   "outputs": [
    {
     "name": "stdout",
     "output_type": "stream",
     "text": [
      "     [,1] [,2] [,3]\n",
      "[1,]   NA   NA   NA\n",
      "[2,]   NA   NA   NA\n",
      "\n",
      "[1] 2 3\n",
      "\n",
      "$dim\n",
      "[1] 2 3\n",
      "\n"
     ]
    }
   ],
   "source": [
    "m <- matrix(nrow = 2, ncol = 3)\n",
    "print(m)\n",
    "cat(\"\\n\")\n",
    "\n",
    "print(dim(m))\n",
    "cat(\"\\n\")\n",
    "\n",
    "print(attributes(m))"
   ]
  },
  {
   "cell_type": "markdown",
   "metadata": {
    "papermill": {
     "duration": 0.086014,
     "end_time": "2020-10-12T07:13:30.030254",
     "exception": false,
     "start_time": "2020-10-12T07:13:29.944240",
     "status": "completed"
    },
    "tags": []
   },
   "source": [
    "Matrices are constructed column-wise, so entries can be thought of starting in the “upper left” corner\n",
    "and running down the columns.\n",
    "- The argument byrow indicates that the matrix is filled by the rows. If we want the matrix to be filled by the columns, we just place byrow = FALSE"
   ]
  },
  {
   "cell_type": "code",
   "execution_count": 22,
   "metadata": {
    "papermill": {
     "duration": 0.115356,
     "end_time": "2020-10-12T07:13:30.231242",
     "exception": false,
     "start_time": "2020-10-12T07:13:30.115886",
     "status": "completed"
    },
    "tags": []
   },
   "outputs": [
    {
     "name": "stdout",
     "output_type": "stream",
     "text": [
      "     [,1] [,2] [,3]\n",
      "[1,]    1    3    5\n",
      "[2,]    2    4    6\n",
      "\n",
      "     [,1] [,2] [,3]\n",
      "[1,]    1    2    3\n",
      "[2,]    4    5    6\n"
     ]
    }
   ],
   "source": [
    "m <- matrix(1:6, nrow = 2, ncol = 3, byrow=FALSE)\n",
    "print(m)\n",
    "cat(\"\\n\")\n",
    "\n",
    "# if want to fill by row\n",
    "n <- matrix(1:6, nrow = 2, ncol = 3, byrow=TRUE)\n",
    "print(n)"
   ]
  },
  {
   "cell_type": "markdown",
   "metadata": {
    "papermill": {
     "duration": 0.105123,
     "end_time": "2020-10-12T07:13:30.423525",
     "exception": false,
     "start_time": "2020-10-12T07:13:30.318402",
     "status": "completed"
    },
    "tags": []
   },
   "source": [
    "## 1. cbind-ing and rbind-ing\n",
    "Matrices can be created by column-binding or row-binding with cbind() and rbind()."
   ]
  },
  {
   "cell_type": "code",
   "execution_count": 23,
   "metadata": {
    "papermill": {
     "duration": 0.115519,
     "end_time": "2020-10-12T07:13:30.646434",
     "exception": false,
     "start_time": "2020-10-12T07:13:30.530915",
     "status": "completed"
    },
    "tags": []
   },
   "outputs": [
    {
     "name": "stdout",
     "output_type": "stream",
     "text": [
      "     x  y\n",
      "[1,] 1 10\n",
      "[2,] 2 11\n",
      "[3,] 3 12\n",
      "\n",
      "  [,1] [,2] [,3]\n",
      "x    1    2    3\n",
      "y   10   11   12\n"
     ]
    }
   ],
   "source": [
    "x <- 1:3\n",
    "y <- 10:12\n",
    "\n",
    "print(cbind(x, y))\n",
    "cat(\"\\n\")\n",
    "print(rbind(x, y))"
   ]
  },
  {
   "cell_type": "markdown",
   "metadata": {
    "papermill": {
     "duration": 0.088765,
     "end_time": "2020-10-12T07:13:30.833674",
     "exception": false,
     "start_time": "2020-10-12T07:13:30.744909",
     "status": "completed"
    },
    "tags": []
   },
   "source": [
    "## 2. Accessing columns:"
   ]
  },
  {
   "cell_type": "code",
   "execution_count": 24,
   "metadata": {
    "papermill": {
     "duration": 0.126148,
     "end_time": "2020-10-12T07:13:31.048836",
     "exception": false,
     "start_time": "2020-10-12T07:13:30.922688",
     "status": "completed"
    },
    "tags": []
   },
   "outputs": [
    {
     "name": "stdout",
     "output_type": "stream",
     "text": [
      "The 3x3 matrix:\n",
      "     [,1] [,2] [,3]\n",
      "[1,]    1    2    3\n",
      "[2,]    4    5    6\n",
      "[3,]    7    8    9\n",
      "\n",
      "Accessing first and second column\n",
      "     [,1] [,2]\n",
      "[1,]    1    2\n",
      "[2,]    4    5\n",
      "[3,]    7    8\n"
     ]
    }
   ],
   "source": [
    "# R program to illustrate \n",
    "# access columns in metrics \n",
    "  \n",
    "# Create a 3x3 matrix \n",
    "A = matrix( \n",
    "  c(1, 2, 3, 4, 5, 6, 7, 8, 9),  \n",
    "  nrow = 3,              \n",
    "  ncol = 3,              \n",
    "  byrow = TRUE           \n",
    ") \n",
    "cat(\"The 3x3 matrix:\\n\") \n",
    "print(A) \n",
    "  \n",
    "# Accessing first and second column \n",
    "cat(\"\\nAccessing first and second column\\n\") \n",
    "print(A[, 1:2]) "
   ]
  },
  {
   "cell_type": "markdown",
   "metadata": {
    "papermill": {
     "duration": 0.090123,
     "end_time": "2020-10-12T07:13:31.228674",
     "exception": false,
     "start_time": "2020-10-12T07:13:31.138551",
     "status": "completed"
    },
    "tags": []
   },
   "source": [
    "## 3. Accessing elements of a matrix:"
   ]
  },
  {
   "cell_type": "code",
   "execution_count": 25,
   "metadata": {
    "papermill": {
     "duration": 0.114948,
     "end_time": "2020-10-12T07:13:31.435426",
     "exception": false,
     "start_time": "2020-10-12T07:13:31.320478",
     "status": "completed"
    },
    "tags": []
   },
   "outputs": [
    {
     "name": "stdout",
     "output_type": "stream",
     "text": [
      "[1] 2\n",
      "[1] 6\n"
     ]
    }
   ],
   "source": [
    "# Accessing 2 \n",
    "print(A[1, 2]) \n",
    "  \n",
    "# Accessing 6 \n",
    "print(A[2, 3]) "
   ]
  },
  {
   "cell_type": "markdown",
   "metadata": {
    "papermill": {
     "duration": 0.092088,
     "end_time": "2020-10-12T07:13:31.619462",
     "exception": false,
     "start_time": "2020-10-12T07:13:31.527374",
     "status": "completed"
    },
    "tags": []
   },
   "source": [
    "## 4. Accessing Submatrices:\n",
    "\n",
    "We can access submatrix in a matrix using the colon(:) operator."
   ]
  },
  {
   "cell_type": "code",
   "execution_count": 26,
   "metadata": {
    "papermill": {
     "duration": 0.113347,
     "end_time": "2020-10-12T07:13:31.823949",
     "exception": false,
     "start_time": "2020-10-12T07:13:31.710602",
     "status": "completed"
    },
    "tags": []
   },
   "outputs": [
    {
     "name": "stdout",
     "output_type": "stream",
     "text": [
      "Accessing the first three rows and the first two columns\n",
      "     [,1] [,2]\n",
      "[1,]    1    2\n",
      "[2,]    4    5\n",
      "[3,]    7    8\n"
     ]
    }
   ],
   "source": [
    "cat(\"Accessing the first three rows and the first two columns\\n\") \n",
    "print(A[1:3, 1:2]) "
   ]
  },
  {
   "cell_type": "markdown",
   "metadata": {
    "papermill": {
     "duration": 0.092433,
     "end_time": "2020-10-12T07:13:32.008482",
     "exception": false,
     "start_time": "2020-10-12T07:13:31.916049",
     "status": "completed"
    },
    "tags": []
   },
   "source": [
    "## 5. Deleting rows and columns of a Matrix\n",
    "To delete a row or a column, first of all, you need to access that row or column and then insert a negative sign before that row or column. It indicates that you had to delete that row or column."
   ]
  },
  {
   "cell_type": "code",
   "execution_count": 27,
   "metadata": {
    "papermill": {
     "duration": 0.119519,
     "end_time": "2020-10-12T07:13:32.220159",
     "exception": false,
     "start_time": "2020-10-12T07:13:32.100640",
     "status": "completed"
    },
    "tags": []
   },
   "outputs": [
    {
     "name": "stdout",
     "output_type": "stream",
     "text": [
      "After deleted the 2nd row\n",
      "     [,1] [,2] [,3]\n",
      "[1,]    1    2    3\n",
      "[2,]    7    8    9\n"
     ]
    }
   ],
   "source": [
    "# 2nd-row deletion \n",
    "A = A[-2, ] \n",
    "  \n",
    "cat(\"After deleted the 2nd row\\n\") \n",
    "print(A) "
   ]
  },
  {
   "cell_type": "code",
   "execution_count": 28,
   "metadata": {
    "papermill": {
     "duration": 0.123712,
     "end_time": "2020-10-12T07:13:32.439073",
     "exception": false,
     "start_time": "2020-10-12T07:13:32.315361",
     "status": "completed"
    },
    "tags": []
   },
   "outputs": [
    {
     "name": "stdout",
     "output_type": "stream",
     "text": [
      "After deleted the 2nd column\n",
      "     [,1] [,2]\n",
      "[1,]    1    3\n",
      "[2,]    7    9\n"
     ]
    }
   ],
   "source": [
    "# 2nd-row deletion \n",
    "A = A[, -2] \n",
    "  \n",
    "cat(\"After deleted the 2nd column\\n\") \n",
    "print(A) "
   ]
  },
  {
   "cell_type": "markdown",
   "metadata": {
    "papermill": {
     "duration": 0.095233,
     "end_time": "2020-10-12T07:13:32.815951",
     "exception": false,
     "start_time": "2020-10-12T07:13:32.720718",
     "status": "completed"
    },
    "tags": []
   },
   "source": [
    "# Factors\n",
    "Factors are used to represent categorical data. Factors can be unordered or ordered. One can think\n",
    "of a factor as an integer vector where each integer has a label. \n",
    "\n",
    "The factors are the variable in R, which takes the categorical variable and stores data in levels. The primary use of this function can be seen in data analysis and specifically in statistical analysis. Also, it helps to reduce data redundancy and to save a lot of space in the memory.\n",
    "\n",
    "**Note:** \n",
    "- A categorical variable is those variables that take values based on the labels or names. For example, the blood type of a human can be A, B, AB, or O.\n",
    "- A data field such as marital status may contain only values from single, married, separated, divorced, or widowed."
   ]
  },
  {
   "cell_type": "code",
   "execution_count": 29,
   "metadata": {
    "papermill": {
     "duration": 0.125177,
     "end_time": "2020-10-12T07:13:33.034703",
     "exception": false,
     "start_time": "2020-10-12T07:13:32.909526",
     "status": "completed"
    },
    "tags": []
   },
   "outputs": [
    {
     "name": "stdout",
     "output_type": "stream",
     "text": [
      "[1] Male   Female Female Male   Female\n",
      "Levels: Female Male\n",
      "\n",
      "[1] 2 1 1 2 1\n",
      "attr(,\"levels\")\n",
      "[1] \"Female\" \"Male\"  \n"
     ]
    }
   ],
   "source": [
    "gender <- c(\"Male\",\"Female\",\"Female\",\"Male\",\"Female\")\n",
    "gender<- factor(gender)\n",
    "\n",
    "print(gender)\n",
    "cat(\"\\n\")\n",
    "\n",
    "print(unclass(gender))"
   ]
  },
  {
   "cell_type": "markdown",
   "metadata": {
    "papermill": {
     "duration": 0.096216,
     "end_time": "2020-10-12T07:13:33.225692",
     "exception": false,
     "start_time": "2020-10-12T07:13:33.129476",
     "status": "completed"
    },
    "tags": []
   },
   "source": [
    "as we saw \"Female\" is stored as '1' and \"Male\" is stored as'2'  \n",
    "\n",
    "## 1. The order of the levels can be set using the levels argument to factor()   \n",
    "This can be important in linear modelling because the first level is used as the baseline level."
   ]
  },
  {
   "cell_type": "code",
   "execution_count": 30,
   "metadata": {
    "papermill": {
     "duration": 0.118966,
     "end_time": "2020-10-12T07:13:33.440310",
     "exception": false,
     "start_time": "2020-10-12T07:13:33.321344",
     "status": "completed"
    },
    "tags": []
   },
   "outputs": [
    {
     "name": "stdout",
     "output_type": "stream",
     "text": [
      "[1] 1 2 2 1 2\n",
      "attr(,\"levels\")\n",
      "[1] \"Male\"   \"Female\"\n"
     ]
    }
   ],
   "source": [
    "gender <- c(\"Male\",\"Female\",\"Female\",\"Male\",\"Female\")\n",
    "gender<- factor(gender,\n",
    "                levels = c(\"Male\", \"Female\"))\n",
    "\n",
    "print(unclass(gender))"
   ]
  },
  {
   "cell_type": "markdown",
   "metadata": {
    "papermill": {
     "duration": 0.095652,
     "end_time": "2020-10-12T07:13:33.632428",
     "exception": false,
     "start_time": "2020-10-12T07:13:33.536776",
     "status": "completed"
    },
    "tags": []
   },
   "source": [
    "## 2. Renaming a Factor levels\n",
    "Let's change the name of the vector values in the input by specifying the regular use of 'levels' as the first argument with values \"Male\" and \"Female\" and the expected changed vector values using 'labels' as the second argument with \"Gen_Male\" and \"Gen_Female\" respectively."
   ]
  },
  {
   "cell_type": "code",
   "execution_count": 31,
   "metadata": {
    "papermill": {
     "duration": 0.116568,
     "end_time": "2020-10-12T07:13:33.845454",
     "exception": false,
     "start_time": "2020-10-12T07:13:33.728886",
     "status": "completed"
    },
    "tags": []
   },
   "outputs": [
    {
     "name": "stdout",
     "output_type": "stream",
     "text": [
      "[1] Gen_Male   Gen_Female Gen_Female Gen_Male   Gen_Female\n",
      "Levels: Gen_Male Gen_Female\n"
     ]
    }
   ],
   "source": [
    "renamed_gender = factor(gender,levels = c(\"Male\",\"Female\"),labels = c(\"Gen_Male\",\"Gen_Female\"))\n",
    "print(renamed_gender)"
   ]
  },
  {
   "cell_type": "markdown",
   "metadata": {
    "papermill": {
     "duration": 0.096143,
     "end_time": "2020-10-12T07:13:34.037419",
     "exception": false,
     "start_time": "2020-10-12T07:13:33.941276",
     "status": "completed"
    },
    "tags": []
   },
   "source": [
    "The above code gives the output where the name is changed for \"Male\" to \"Gen_Male\" and \"Female\" to \"Gen_Female\"."
   ]
  },
  {
   "cell_type": "markdown",
   "metadata": {
    "papermill": {
     "duration": 0.097061,
     "end_time": "2020-10-12T07:13:34.229908",
     "exception": false,
     "start_time": "2020-10-12T07:13:34.132847",
     "status": "completed"
    },
    "tags": []
   },
   "source": [
    "## 3. Ordering a Categorical Variable  \n",
    "Let's look at a different example when dealing with ordinal categorical values where ordered matters. For instance, for the size of a pant, there might be a size which is considered as Large as \"L\", Extra Large as \"XL\" and Extra extra Large as \"XXL\" is arranged in ascending order.  \n",
    "\n",
    "The code below contains the collection of vector input of characters \"L\", \"XL\" and \"XXL\" and stored to 'pant'.  \n",
    "'pant.factor' is the variable which has parameter containing levels arranged in ascending order as 'levels = c(\"L\", \"XL\", \"XXL\")' and finally 'ordered = TRUE', which makes the sorting possible according to your need."
   ]
  },
  {
   "cell_type": "code",
   "execution_count": 32,
   "metadata": {
    "papermill": {
     "duration": 0.154778,
     "end_time": "2020-10-12T07:13:34.481284",
     "exception": false,
     "start_time": "2020-10-12T07:13:34.326506",
     "status": "completed"
    },
    "tags": []
   },
   "outputs": [
    {
     "name": "stdout",
     "output_type": "stream",
     "text": [
      "[1] XL  L   XL  XXL L   XL \n",
      "Levels: L < XL < XXL\n",
      "\n",
      "[1] \"is XL > L\"\n",
      "[1] TRUE\n"
     ]
    }
   ],
   "source": [
    "pant <- c(\"XL\",\"L\",\"XL\",\"XXL\",\"L\",\"XL\")\n",
    "pant.factor <- factor(pant, ordered = TRUE, levels = c(\"L\",\"XL\",\"XXL\"))\n",
    "\n",
    "print(pant.factor)\n",
    "cat(\"\\n\")\n",
    "\n",
    "print(\"is XL > L\")\n",
    "print( pant.factor[1] > pant.factor[2] )"
   ]
  },
  {
   "cell_type": "markdown",
   "metadata": {
    "papermill": {
     "duration": 0.097173,
     "end_time": "2020-10-12T07:13:34.872184",
     "exception": false,
     "start_time": "2020-10-12T07:13:34.775011",
     "status": "completed"
    },
    "tags": []
   },
   "source": [
    "# 7. Data Frames\n",
    "Data frames can also be taught as mattresses where each column of a matrix can be of the different data types. DataFrame are made up of three principal components, the data, rows, and columns.  \n",
    "<img src=\"https://media.geeksforgeeks.org/wp-content/uploads/20200414224825/f115.png\" width=\"500\" height=\"500\">\n",
    "\n",
    "Data frames are used to store tabular data:\n",
    "- They are represented as a special type of list where every element of the list has to have the same length\n",
    "- Each element of the list can be thought of as a column and the length of each element of the list is the number of rows\n",
    "- Unlike matrices, data frames can store different classes of objects in each column (just like lists); matrices must have every element be the same class\n",
    "- Data frames also have a special attribute called **row.names**\n",
    "- Data frames are usually created by calling **read.table()** or **read.csv()**\n",
    "- Can be converted to a matrix by calling **data.matrix()**"
   ]
  },
  {
   "cell_type": "markdown",
   "metadata": {
    "papermill": {
     "duration": 0.096999,
     "end_time": "2020-10-12T07:13:35.066153",
     "exception": false,
     "start_time": "2020-10-12T07:13:34.969154",
     "status": "completed"
    },
    "tags": []
   },
   "source": [
    "# 1. Creating a data frame using Vectors\n",
    "To create a data frame we use the data.frame() function in R. To create a data frame use data.frame() command and then pass each of the vectors you have created as arguments to the function."
   ]
  },
  {
   "cell_type": "code",
   "execution_count": 33,
   "metadata": {
    "papermill": {
     "duration": 0.131148,
     "end_time": "2020-10-12T07:13:35.294487",
     "exception": false,
     "start_time": "2020-10-12T07:13:35.163339",
     "status": "completed"
    },
    "tags": []
   },
   "outputs": [
    {
     "name": "stdout",
     "output_type": "stream",
     "text": [
      "   Name Language Age\n",
      "1 Amiya        R  22\n",
      "2   Raj   Python  25\n",
      "3 Asish     Java  45\n"
     ]
    }
   ],
   "source": [
    "# A vector which is a character vector \n",
    "Name = c(\"Amiya\", \"Raj\", \"Asish\") \n",
    "  \n",
    "# A vector which is a character vector \n",
    "Language = c(\"R\", \"Python\", \"Java\") \n",
    "  \n",
    "# A vector which is a numeric vector \n",
    "Age = c(22, 25, 45) \n",
    "\n",
    "df = data.frame(Name, Language, Age) \n",
    "  \n",
    "print(df) "
   ]
  },
  {
   "cell_type": "markdown",
   "metadata": {
    "papermill": {
     "duration": 0.099643,
     "end_time": "2020-10-12T07:13:35.494492",
     "exception": false,
     "start_time": "2020-10-12T07:13:35.394849",
     "status": "completed"
    },
    "tags": []
   },
   "source": [
    "## 2. Accessing rows and columns\n",
    "Syntax:\n",
    "```R\n",
    "df[val1, val2]\n",
    "\n",
    "df = dataframe object\n",
    "val1 = rows of a data frame\n",
    "val2 = columns of a data frame\n",
    "```"
   ]
  },
  {
   "cell_type": "code",
   "execution_count": 34,
   "metadata": {
    "papermill": {
     "duration": 0.128715,
     "end_time": "2020-10-12T07:13:35.722217",
     "exception": false,
     "start_time": "2020-10-12T07:13:35.593502",
     "status": "completed"
    },
    "tags": []
   },
   "outputs": [
    {
     "name": "stdout",
     "output_type": "stream",
     "text": [
      "Accessing first and second row\n",
      "   Name Language Age\n",
      "1 Amiya        R  22\n",
      "2   Raj   Python  25\n",
      "\n",
      "Accessing first and second row\n",
      "  Language Age\n",
      "1        R  22\n",
      "2   Python  25\n",
      "3     Java  45\n"
     ]
    }
   ],
   "source": [
    "# Accessing first and second row \n",
    "cat(\"Accessing first and second row\\n\") \n",
    "print(df[1:2, ]) \n",
    "\n",
    "# Accessing second and third column \n",
    "cat(\"\\nAccessing first and second row\\n\") \n",
    "print(df[,2:3]) "
   ]
  },
  {
   "cell_type": "markdown",
   "metadata": {
    "papermill": {
     "duration": 0.099936,
     "end_time": "2020-10-12T07:13:35.923422",
     "exception": false,
     "start_time": "2020-10-12T07:13:35.823486",
     "status": "completed"
    },
    "tags": []
   },
   "source": [
    "## 3. Selecting the subset of the DataFrame\n",
    "A subset of a DataFrame can also be created based on certain conditions with the help of following syntax.\n",
    "```R\n",
    "newDF = subset(df, conditions)\n",
    "\n",
    "df = Original dataframe\n",
    "conditions = Certain conditions\n",
    "```"
   ]
  },
  {
   "cell_type": "code",
   "execution_count": 35,
   "metadata": {
    "papermill": {
     "duration": 0.138525,
     "end_time": "2020-10-12T07:13:36.161420",
     "exception": false,
     "start_time": "2020-10-12T07:13:36.022895",
     "status": "completed"
    },
    "tags": []
   },
   "outputs": [
    {
     "name": "stdout",
     "output_type": "stream",
     "text": [
      "After Selecting the subset of the data frame\n",
      "   Name Language Age\n",
      "1 Amiya        R  22\n",
      "3 Asish     Java  45\n",
      "\n",
      "After Selecting the subset of the data frame\n",
      "   Name Language Age\n",
      "1 Amiya        R  22\n",
      "2   Raj   Python  25\n"
     ]
    }
   ],
   "source": [
    "newDf = subset(df, Name ==\"Amiya\"|Age>30) \n",
    "  \n",
    "cat(\"After Selecting the subset of the data frame\\n\") \n",
    "print(newDf) \n",
    "\n",
    "\n",
    "newDf2 = subset(df, Age<30) \n",
    "  \n",
    "cat(\"\\nAfter Selecting the subset of the data frame\\n\") \n",
    "print(newDf2) "
   ]
  },
  {
   "cell_type": "markdown",
   "metadata": {
    "papermill": {
     "duration": 0.101644,
     "end_time": "2020-10-12T07:13:36.367280",
     "exception": false,
     "start_time": "2020-10-12T07:13:36.265636",
     "status": "completed"
    },
    "tags": []
   },
   "source": [
    "## 4. Editing DataFrames\n",
    "In R, DataFrames can be edited in two ways:\n",
    "Editing data frames by direct assignments: Much like the list in R you can edit the data frames by a direct assignment."
   ]
  },
  {
   "cell_type": "code",
   "execution_count": 36,
   "metadata": {
    "papermill": {
     "duration": 0.12853,
     "end_time": "2020-10-12T07:13:36.598324",
     "exception": false,
     "start_time": "2020-10-12T07:13:36.469794",
     "status": "completed"
    },
    "tags": []
   },
   "outputs": [
    {
     "name": "stdout",
     "output_type": "stream",
     "text": [
      "After edited the dataframe\n",
      "   Name Language Age\n",
      "1 Amiya        R  22\n",
      "2   Raj   Python  25\n",
      "3 Asish     Java  30\n"
     ]
    }
   ],
   "source": [
    "# Editing dataframes by direct assignments \n",
    "# [[3]] accesing the top level components  \n",
    "# Here Age in this case \n",
    "# [[3]][3] accessing inner level componets  \n",
    "# Here Age of Asish in this case \n",
    "df[[3]][3] = 30\n",
    "  \n",
    "cat(\"After edited the dataframe\\n\") \n",
    "print(df) "
   ]
  },
  {
   "cell_type": "markdown",
   "metadata": {
    "papermill": {
     "duration": 0.107905,
     "end_time": "2020-10-12T07:13:36.809755",
     "exception": false,
     "start_time": "2020-10-12T07:13:36.701850",
     "status": "completed"
    },
    "tags": []
   },
   "source": [
    "## 5. Adding extra columns\n",
    "We can add extra column using the command cbind(). The syntax for this is given below,\n",
    "```\n",
    "newDF = cbind(df, the entries for the new column you have to add )\n",
    "df = Original data frame\n",
    "```"
   ]
  },
  {
   "cell_type": "code",
   "execution_count": 37,
   "metadata": {
    "papermill": {
     "duration": 0.147426,
     "end_time": "2020-10-12T07:13:37.074422",
     "exception": false,
     "start_time": "2020-10-12T07:13:36.926996",
     "status": "completed"
    },
    "tags": []
   },
   "outputs": [
    {
     "name": "stdout",
     "output_type": "stream",
     "text": [
      "After Added a column\n",
      "   Name Language Age Rank\n",
      "1 Amiya        R  22    3\n",
      "2   Raj   Python  25    5\n",
      "3 Asish     Java  30    1\n"
     ]
    }
   ],
   "source": [
    "# Add a new column using cbind() \n",
    "newDf = cbind(df, Rank=c(3, 5, 1)) \n",
    "  \n",
    "cat(\"After Added a column\\n\") \n",
    "print(newDf) "
   ]
  },
  {
   "cell_type": "markdown",
   "metadata": {
    "papermill": {
     "duration": 0.104619,
     "end_time": "2020-10-12T07:13:37.285869",
     "exception": false,
     "start_time": "2020-10-12T07:13:37.181250",
     "status": "completed"
    },
    "tags": []
   },
   "source": [
    "## 6. Deleting rows and columns from a data frame\n",
    "To delete a row or a column, first of all, you need to access that row or column and then insert a negative sign before that row or column. It indicates that you had to delete that row or column.\n",
    "\n",
    "Syntax:\n",
    "```\n",
    "newDF = df[-rowNo, -colNo]\n",
    "\n",
    "df = original data frame\n",
    "```"
   ]
  },
  {
   "cell_type": "code",
   "execution_count": 38,
   "metadata": {
    "papermill": {
     "duration": 0.141379,
     "end_time": "2020-10-12T07:13:37.533467",
     "exception": false,
     "start_time": "2020-10-12T07:13:37.392088",
     "status": "completed"
    },
    "tags": []
   },
   "outputs": [
    {
     "name": "stdout",
     "output_type": "stream",
     "text": [
      "After Deleted the 3rd row and 2nd column\n",
      "   Name Age\n",
      "1 Amiya  22\n",
      "2   Raj  25\n"
     ]
    }
   ],
   "source": [
    "# delete the third row and the second column \n",
    "newDF = df[-3, -2] \n",
    "  \n",
    "cat(\"After Deleted the 3rd row and 2nd column\\n\") \n",
    "print(newDF) "
   ]
  },
  {
   "cell_type": "markdown",
   "metadata": {
    "papermill": {
     "duration": 0.104052,
     "end_time": "2020-10-12T07:13:37.957803",
     "exception": false,
     "start_time": "2020-10-12T07:13:37.853751",
     "status": "completed"
    },
    "tags": []
   },
   "source": [
    "# Missing Values\n",
    "Missing values are denoted by NA or NaN for undefined mathematical operations.\n",
    "- **is.na()** is used to test objects if they are **NA**\n",
    "- **is.nan()** is used to test for **NaN**\n",
    "- **NA** values have a class also, so there are integer **NA**, character **NA**, etc.\n",
    "- A **NaN** value is also **NA** but the converse is not true"
   ]
  },
  {
   "cell_type": "code",
   "execution_count": 39,
   "metadata": {
    "papermill": {
     "duration": 0.144277,
     "end_time": "2020-10-12T07:13:38.206077",
     "exception": false,
     "start_time": "2020-10-12T07:13:38.061800",
     "status": "completed"
    },
    "tags": []
   },
   "outputs": [
    {
     "name": "stdout",
     "output_type": "stream",
     "text": [
      "[1] \"integer\"\n",
      "[1] \"double\"\n",
      "[1] \"character\"\n",
      "[1] \"logical\"\n"
     ]
    }
   ],
   "source": [
    "m = c(2L, NA)\n",
    "print(typeof(m))  # integer\n",
    "\n",
    "n = c(4, NA)\n",
    "print(typeof(n))  # double\n",
    "\n",
    "o = c(\"h\", NA)\n",
    "print(typeof(o))  # character\n",
    "\n",
    "p = c(TRUE, NA)\n",
    "print(typeof(p))  # logical"
   ]
  },
  {
   "cell_type": "code",
   "execution_count": 40,
   "metadata": {
    "papermill": {
     "duration": 0.140241,
     "end_time": "2020-10-12T07:13:38.452186",
     "exception": false,
     "start_time": "2020-10-12T07:13:38.311945",
     "status": "completed"
    },
    "tags": []
   },
   "outputs": [
    {
     "name": "stdout",
     "output_type": "stream",
     "text": [
      "[1] FALSE FALSE  TRUE FALSE FALSE\n",
      "[1] FALSE FALSE FALSE FALSE FALSE\n",
      "[1] FALSE FALSE  TRUE  TRUE FALSE\n",
      "[1] FALSE FALSE  TRUE FALSE FALSE\n"
     ]
    }
   ],
   "source": [
    "i <- c(1, 2, NA, 10, 3)\n",
    "print(is.na(i))              # Returns a Logical vector: FALSE FALSE TRUE FALSE FALSE\n",
    "print(is.nan(i))             # Returns a Logical vector: FALSE FALSE FALSE FALSE FALSE\n",
    "\n",
    "\n",
    "j <- c(1, 2, NaN, NA, 4)\n",
    "print(is.na(j))              # Returns a Logical vector: FALSE FALSE TRUE FALSE FALSE\n",
    "print(is.nan(j))             # Returns a Logical vector: FALSE FALSE FALSE FALSE FALSE"
   ]
  }
 ],
 "metadata": {
  "kernelspec": {
   "display_name": "R",
   "language": "R",
   "name": "ir"
  },
  "language_info": {
   "codemirror_mode": "r",
   "file_extension": ".r",
   "mimetype": "text/x-r-source",
   "name": "R",
   "pygments_lexer": "r",
   "version": "4.2.3"
  },
  "papermill": {
   "duration": 21.013692,
   "end_time": "2020-10-12T07:13:39.797790",
   "environment_variables": {},
   "exception": null,
   "input_path": "__notebook__.ipynb",
   "output_path": "__notebook__.ipynb",
   "parameters": {},
   "start_time": "2020-10-12T07:13:18.784098",
   "version": "2.1.3"
  }
 },
 "nbformat": 4,
 "nbformat_minor": 4
}
