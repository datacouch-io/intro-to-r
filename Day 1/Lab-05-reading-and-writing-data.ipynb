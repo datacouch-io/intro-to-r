{
 "cells": [
  {
   "cell_type": "markdown",
   "metadata": {
    "_execution_state": "idle",
    "_uuid": "6b27cb0f04aa50f19a3c38337bf88b305364a46c"
   },
   "source": [
    "# R | Reading and Writing Data"
   ]
  },
  {
   "cell_type": "markdown",
   "metadata": {
    "_uuid": "4d398fc1cdab0835e4eab20c78f721a0d22233cc"
   },
   "source": [
    "\n",
    "In R, reading and writing data is a fundamental task for data analysis and manipulation. Reading data refers to the process of importing data from various file formats, databases, or online sources into R for further analysis. R provides several functions and packages to read data from CSV files, Excel spreadsheets, databases, JSON files, and more.\n",
    "\n",
    "On the other hand, writing data involves exporting data from R to different formats or databases for storage or sharing with others. R allows users to save data in formats like CSV, Excel, R binary formats, or write directly to databases.\n",
    "\n",
    "The ability to efficiently read and write data in R is crucial for handling datasets of various sizes and sources, enabling data scientists and analysts to perform data-driven tasks effectively. Moreover, understanding these operations is essential for data preprocessing and preparation before applying statistical analysis, machine learning, or data visualization techniques in R."
   ]
  },
  {
   "cell_type": "markdown",
   "metadata": {
    "_uuid": "c0ab09074c07755d5d14181422190357d56495c5"
   },
   "source": [
    "# R Working Directory and File Paths"
   ]
  },
  {
   "cell_type": "markdown",
   "metadata": {
    "_uuid": "234e96a71a62e388dbf652599825d60b1737ac55"
   },
   "source": [
    "Before we can jump in and starting loading data, we need to learn a little bit about R's working directory and file paths. When you run R, it starts in a default location in your computer's file system called the working directory. You can check your working directory with the getwd() function."
   ]
  },
  {
   "cell_type": "code",
   "execution_count": 10,
   "metadata": {
    "_uuid": "40ac6c77de368247c8af394d248557e77bfbe470"
   },
   "outputs": [
    {
     "data": {
      "text/html": [
       "'/'"
      ],
      "text/latex": [
       "'/'"
      ],
      "text/markdown": [
       "'/'"
      ],
      "text/plain": [
       "[1] \"/\""
      ]
     },
     "metadata": {},
     "output_type": "display_data"
    }
   ],
   "source": [
    "getwd()"
   ]
  },
  {
   "cell_type": "markdown",
   "metadata": {
    "_uuid": "dd387629b7c597eef2f79243a74fd346346a3df4"
   },
   "source": [
    "In R, the working directory refers to the default location on your computer where R will look for files and where it will save files unless otherwise specified. When you start an R session, the working directory is automatically set to a specific folder, which can vary depending on your R environment or configuration.\n",
    "\n",
    "You can change your working directory by supplying a new file path in quotes to the `setwd()`."
   ]
  },
  {
   "cell_type": "code",
   "execution_count": 15,
   "metadata": {
    "_uuid": "5a61a7b8319f16fcea30cd08646fe3031cc17918"
   },
   "outputs": [
    {
     "data": {
      "text/html": [
       "'/Users/hadez/Documents/Training_material'"
      ],
      "text/latex": [
       "'/Users/hadez/Documents/Training\\_material'"
      ],
      "text/markdown": [
       "'/Users/hadez/Documents/Training_material'"
      ],
      "text/plain": [
       "[1] \"/Users/hadez/Documents/Training_material\""
      ]
     },
     "metadata": {},
     "output_type": "display_data"
    }
   ],
   "source": [
    "setwd('/Users/hadez/Documents/Training_material/') # Set a new working directory\n",
    "\n",
    "getwd()           # Check the working directory again"
   ]
  },
  {
   "cell_type": "markdown",
   "metadata": {
    "_uuid": "1fbdf03d5cf71b853f4588b412730900b022118c"
   },
   "source": [
    "R provides functions to handle file paths in a platform-independent way, so your code can work seamlessly across different operating systems. The `file.path()` function is commonly used to concatenate directories and file names into a valid path, ensuring compatibility across Windows, macOS, and Linux.\n",
    "\n",
    "Overall, understanding the concept of the working directory and file paths is crucial when working with files in R, as it allows you to effectively manage file input and output operations and ensures the proper organization and access of data within your scripts and projects.\n",
    "\n",
    "\n",
    "Example of using the `file.path()` function in R:\n",
    "\n",
    "    # Sample file path components  \n",
    "    folder_name  <-  \"data\"  \n",
    "    file_name  <-\"sample_data.csv\"  \n",
    "    \n",
    "    # Using file.path() to construct the file \n",
    "    pathfull_path  <-  file.path(folder_name,  file_name)  \n",
    "    \n",
    "    # Display the full file path  \n",
    "    print(full_path)`\n",
    "\n",
    "In this example, we have two variables: `folder_name` and `file_name`, representing the folder name and the file name, respectively. The `file.path()` function is used to combine these components into a full file path, considering the appropriate platform-specific separator for slashes (i.e., backslashes on Windows and forward slashes on other operating systems).\n",
    "\n",
    "When you run this code on Windows, the output will show the file path with double backslashes (\\), and on other operating systems, it will display the file path with forward slashes (/).\n",
    "\n",
    "For example, if the folder name is \"data\" and the file name is \"sample_data.csv,\" the output on Windows will be:\n",
    "\n",
    "`\"data\\\\sample_data.csv\"`\n",
    "\n",
    "And on other operating systems like macOS or Linux, it will be:\n",
    "\n",
    "`\"data/sample_data.csv\"`\n",
    "\n",
    "Using `file.path()` ensures that you handle file paths in a platform-independent manner, making your code more portable across different operating systems.\n"
   ]
  },
  {
   "cell_type": "code",
   "execution_count": 18,
   "metadata": {
    "_uuid": "38f958d09409b208162b6e1050e4968982a07114"
   },
   "outputs": [
    {
     "data": {
      "text/html": [
       "'/Users/hadez/Documents/Training_material/R/data'"
      ],
      "text/latex": [
       "'/Users/hadez/Documents/Training\\_material/R/data'"
      ],
      "text/markdown": [
       "'/Users/hadez/Documents/Training_material/R/data'"
      ],
      "text/plain": [
       "[1] \"/Users/hadez/Documents/Training_material/R/data\""
      ]
     },
     "metadata": {},
     "output_type": "display_data"
    }
   ],
   "source": [
    "my_path <- file.path(\"R\", \"data\")  # Construct path\n",
    "\n",
    "setwd(my_path)                  # Set the working directory to the path\n",
    "\n",
    "getwd()                         # Check the working directory again"
   ]
  },
  {
   "cell_type": "markdown",
   "metadata": {
    "_uuid": "5a836af96fa689e8d1f284c2ba43754cb937a06c"
   },
   "source": [
    "If you are working in a local R environment in R Studio, you can also change the working directory under the \"Session\" dropdown menu. Under session select \"Set working directory\", \"Choose Directory\", navigate to the folder you want to set as your working directory and click \"Select folder.\"\n",
    "\n",
    "You can list the files and folders in the current working directory using the `list.files()` function."
   ]
  },
  {
   "cell_type": "code",
   "execution_count": 22,
   "metadata": {
    "_uuid": "392865a16d2c93eff52fcb64d36d42619350e0ee"
   },
   "outputs": [
    {
     "data": {
      "text/html": [
       "'train.csv'"
      ],
      "text/latex": [
       "'train.csv'"
      ],
      "text/markdown": [
       "'train.csv'"
      ],
      "text/plain": [
       "[1] \"train.csv\""
      ]
     },
     "metadata": {},
     "output_type": "display_data"
    }
   ],
   "source": [
    "list.files(\"../data\")"
   ]
  },
  {
   "cell_type": "markdown",
   "metadata": {
    "_uuid": "40a1bae54783e17d9cc6b113953f215da2af2b05"
   },
   "source": [
    "*Note: For file paths, \"..\" means look one folder up from the current folder.\""
   ]
  },
  {
   "cell_type": "code",
   "execution_count": 23,
   "metadata": {
    "_uuid": "bb2b87c86d7cc7bf8691a6bc02777b67060d39c2"
   },
   "outputs": [
    {
     "data": {
      "text/html": [
       "<style>\n",
       ".list-inline {list-style: none; margin:0; padding: 0}\n",
       ".list-inline>li {display: inline-block}\n",
       ".list-inline>li:not(:last-child)::after {content: \"\\00b7\"; padding: 0 .5ex}\n",
       "</style>\n",
       "<ol class=list-inline><li>'Lab-01-getting-started-in-r.ipynb'</li><li>'Lab-02-data-types-and-operations.ipynb'</li><li>'Lab-03-dataframes.ipynb'</li><li>'Lab-04-factors.ipynb'</li><li>'Lab-05-reading-and-writing-data.ipynb'</li><li>'Untitled.ipynb'</li><li>'Untitled1.ipynb'</li><li>'Untitled2.ipynb'</li><li>'Untitled3.ipynb'</li><li>'control-flow.ipynb'</li><li>'data'</li><li>'functions.ipynb'</li><li>'intro-to-r-part-13-exploring-and-preparing-data.ipynb'</li><li>'load-data-into-r.ipynb'</li></ol>\n"
      ],
      "text/latex": [
       "\\begin{enumerate*}\n",
       "\\item 'Lab-01-getting-started-in-r.ipynb'\n",
       "\\item 'Lab-02-data-types-and-operations.ipynb'\n",
       "\\item 'Lab-03-dataframes.ipynb'\n",
       "\\item 'Lab-04-factors.ipynb'\n",
       "\\item 'Lab-05-reading-and-writing-data.ipynb'\n",
       "\\item 'Untitled.ipynb'\n",
       "\\item 'Untitled1.ipynb'\n",
       "\\item 'Untitled2.ipynb'\n",
       "\\item 'Untitled3.ipynb'\n",
       "\\item 'control-flow.ipynb'\n",
       "\\item 'data'\n",
       "\\item 'functions.ipynb'\n",
       "\\item 'intro-to-r-part-13-exploring-and-preparing-data.ipynb'\n",
       "\\item 'load-data-into-r.ipynb'\n",
       "\\end{enumerate*}\n"
      ],
      "text/markdown": [
       "1. 'Lab-01-getting-started-in-r.ipynb'\n",
       "2. 'Lab-02-data-types-and-operations.ipynb'\n",
       "3. 'Lab-03-dataframes.ipynb'\n",
       "4. 'Lab-04-factors.ipynb'\n",
       "5. 'Lab-05-reading-and-writing-data.ipynb'\n",
       "6. 'Untitled.ipynb'\n",
       "7. 'Untitled1.ipynb'\n",
       "8. 'Untitled2.ipynb'\n",
       "9. 'Untitled3.ipynb'\n",
       "10. 'control-flow.ipynb'\n",
       "11. 'data'\n",
       "12. 'functions.ipynb'\n",
       "13. 'intro-to-r-part-13-exploring-and-preparing-data.ipynb'\n",
       "14. 'load-data-into-r.ipynb'\n",
       "\n",
       "\n"
      ],
      "text/plain": [
       " [1] \"Lab-01-getting-started-in-r.ipynb\"                    \n",
       " [2] \"Lab-02-data-types-and-operations.ipynb\"               \n",
       " [3] \"Lab-03-dataframes.ipynb\"                              \n",
       " [4] \"Lab-04-factors.ipynb\"                                 \n",
       " [5] \"Lab-05-reading-and-writing-data.ipynb\"                \n",
       " [6] \"Untitled.ipynb\"                                       \n",
       " [7] \"Untitled1.ipynb\"                                      \n",
       " [8] \"Untitled2.ipynb\"                                      \n",
       " [9] \"Untitled3.ipynb\"                                      \n",
       "[10] \"control-flow.ipynb\"                                   \n",
       "[11] \"data\"                                                 \n",
       "[12] \"functions.ipynb\"                                      \n",
       "[13] \"intro-to-r-part-13-exploring-and-preparing-data.ipynb\"\n",
       "[14] \"load-data-into-r.ipynb\"                               "
      ]
     },
     "metadata": {},
     "output_type": "display_data"
    }
   ],
   "source": [
    "list.files(\"..\")"
   ]
  },
  {
   "cell_type": "markdown",
   "metadata": {
    "_uuid": "a8c01480c6695930caf323288c2df7eb7690c7a2"
   },
   "source": [
    "# Read CSV and TSV Files"
   ]
  },
  {
   "cell_type": "markdown",
   "metadata": {
    "_uuid": "7d3b8484a24b2fada7ee31a262168190617f9d60"
   },
   "source": [
    "Data is commonly stored in simple text files consisting of values delimited (separated) by a special character. For instance, CSV files use commas as the delimiter and tab separated value files (TSV) use tabs as the delimiter.\n",
    "\n",
    "You can use the read.csv() function to read CSV files into R. This kernel is connected to the Titanic disaster data set, so we will use read.csv() to read it into our R session."
   ]
  },
  {
   "cell_type": "code",
   "execution_count": 24,
   "metadata": {
    "_uuid": "6cf3659aeb70554f331a4f5c0478efe6651ad809"
   },
   "outputs": [
    {
     "data": {
      "text/html": [
       "<table class=\"dataframe\">\n",
       "<caption>A data.frame: 6 × 12</caption>\n",
       "<thead>\n",
       "\t<tr><th></th><th scope=col>PassengerId</th><th scope=col>Survived</th><th scope=col>Pclass</th><th scope=col>Name</th><th scope=col>Sex</th><th scope=col>Age</th><th scope=col>SibSp</th><th scope=col>Parch</th><th scope=col>Ticket</th><th scope=col>Fare</th><th scope=col>Cabin</th><th scope=col>Embarked</th></tr>\n",
       "\t<tr><th></th><th scope=col>&lt;int&gt;</th><th scope=col>&lt;int&gt;</th><th scope=col>&lt;int&gt;</th><th scope=col>&lt;chr&gt;</th><th scope=col>&lt;chr&gt;</th><th scope=col>&lt;dbl&gt;</th><th scope=col>&lt;int&gt;</th><th scope=col>&lt;int&gt;</th><th scope=col>&lt;chr&gt;</th><th scope=col>&lt;dbl&gt;</th><th scope=col>&lt;chr&gt;</th><th scope=col>&lt;chr&gt;</th></tr>\n",
       "</thead>\n",
       "<tbody>\n",
       "\t<tr><th scope=row>1</th><td>1</td><td>0</td><td>3</td><td>Braund, Mr. Owen Harris                            </td><td>male  </td><td>22</td><td>1</td><td>0</td><td>A/5 21171       </td><td> 7.2500</td><td>    </td><td>S</td></tr>\n",
       "\t<tr><th scope=row>2</th><td>2</td><td>1</td><td>1</td><td>Cumings, Mrs. John Bradley (Florence Briggs Thayer)</td><td>female</td><td>38</td><td>1</td><td>0</td><td>PC 17599        </td><td>71.2833</td><td>C85 </td><td>C</td></tr>\n",
       "\t<tr><th scope=row>3</th><td>3</td><td>1</td><td>3</td><td>Heikkinen, Miss. Laina                             </td><td>female</td><td>26</td><td>0</td><td>0</td><td>STON/O2. 3101282</td><td> 7.9250</td><td>    </td><td>S</td></tr>\n",
       "\t<tr><th scope=row>4</th><td>4</td><td>1</td><td>1</td><td>Futrelle, Mrs. Jacques Heath (Lily May Peel)       </td><td>female</td><td>35</td><td>1</td><td>0</td><td>113803          </td><td>53.1000</td><td>C123</td><td>S</td></tr>\n",
       "\t<tr><th scope=row>5</th><td>5</td><td>0</td><td>3</td><td>Allen, Mr. William Henry                           </td><td>male  </td><td>35</td><td>0</td><td>0</td><td>373450          </td><td> 8.0500</td><td>    </td><td>S</td></tr>\n",
       "\t<tr><th scope=row>6</th><td>6</td><td>0</td><td>3</td><td>Moran, Mr. James                                   </td><td>male  </td><td>NA</td><td>0</td><td>0</td><td>330877          </td><td> 8.4583</td><td>    </td><td>Q</td></tr>\n",
       "</tbody>\n",
       "</table>\n"
      ],
      "text/latex": [
       "A data.frame: 6 × 12\n",
       "\\begin{tabular}{r|llllllllllll}\n",
       "  & PassengerId & Survived & Pclass & Name & Sex & Age & SibSp & Parch & Ticket & Fare & Cabin & Embarked\\\\\n",
       "  & <int> & <int> & <int> & <chr> & <chr> & <dbl> & <int> & <int> & <chr> & <dbl> & <chr> & <chr>\\\\\n",
       "\\hline\n",
       "\t1 & 1 & 0 & 3 & Braund, Mr. Owen Harris                             & male   & 22 & 1 & 0 & A/5 21171        &  7.2500 &      & S\\\\\n",
       "\t2 & 2 & 1 & 1 & Cumings, Mrs. John Bradley (Florence Briggs Thayer) & female & 38 & 1 & 0 & PC 17599         & 71.2833 & C85  & C\\\\\n",
       "\t3 & 3 & 1 & 3 & Heikkinen, Miss. Laina                              & female & 26 & 0 & 0 & STON/O2. 3101282 &  7.9250 &      & S\\\\\n",
       "\t4 & 4 & 1 & 1 & Futrelle, Mrs. Jacques Heath (Lily May Peel)        & female & 35 & 1 & 0 & 113803           & 53.1000 & C123 & S\\\\\n",
       "\t5 & 5 & 0 & 3 & Allen, Mr. William Henry                            & male   & 35 & 0 & 0 & 373450           &  8.0500 &      & S\\\\\n",
       "\t6 & 6 & 0 & 3 & Moran, Mr. James                                    & male   & NA & 0 & 0 & 330877           &  8.4583 &      & Q\\\\\n",
       "\\end{tabular}\n"
      ],
      "text/markdown": [
       "\n",
       "A data.frame: 6 × 12\n",
       "\n",
       "| <!--/--> | PassengerId &lt;int&gt; | Survived &lt;int&gt; | Pclass &lt;int&gt; | Name &lt;chr&gt; | Sex &lt;chr&gt; | Age &lt;dbl&gt; | SibSp &lt;int&gt; | Parch &lt;int&gt; | Ticket &lt;chr&gt; | Fare &lt;dbl&gt; | Cabin &lt;chr&gt; | Embarked &lt;chr&gt; |\n",
       "|---|---|---|---|---|---|---|---|---|---|---|---|---|\n",
       "| 1 | 1 | 0 | 3 | Braund, Mr. Owen Harris                             | male   | 22 | 1 | 0 | A/5 21171        |  7.2500 | <!----> | S |\n",
       "| 2 | 2 | 1 | 1 | Cumings, Mrs. John Bradley (Florence Briggs Thayer) | female | 38 | 1 | 0 | PC 17599         | 71.2833 | C85  | C |\n",
       "| 3 | 3 | 1 | 3 | Heikkinen, Miss. Laina                              | female | 26 | 0 | 0 | STON/O2. 3101282 |  7.9250 | <!----> | S |\n",
       "| 4 | 4 | 1 | 1 | Futrelle, Mrs. Jacques Heath (Lily May Peel)        | female | 35 | 1 | 0 | 113803           | 53.1000 | C123 | S |\n",
       "| 5 | 5 | 0 | 3 | Allen, Mr. William Henry                            | male   | 35 | 0 | 0 | 373450           |  8.0500 | <!----> | S |\n",
       "| 6 | 6 | 0 | 3 | Moran, Mr. James                                    | male   | NA | 0 | 0 | 330877           |  8.4583 | <!----> | Q |\n",
       "\n"
      ],
      "text/plain": [
       "  PassengerId Survived Pclass\n",
       "1 1           0        3     \n",
       "2 2           1        1     \n",
       "3 3           1        3     \n",
       "4 4           1        1     \n",
       "5 5           0        3     \n",
       "6 6           0        3     \n",
       "  Name                                                Sex    Age SibSp Parch\n",
       "1 Braund, Mr. Owen Harris                             male   22  1     0    \n",
       "2 Cumings, Mrs. John Bradley (Florence Briggs Thayer) female 38  1     0    \n",
       "3 Heikkinen, Miss. Laina                              female 26  0     0    \n",
       "4 Futrelle, Mrs. Jacques Heath (Lily May Peel)        female 35  1     0    \n",
       "5 Allen, Mr. William Henry                            male   35  0     0    \n",
       "6 Moran, Mr. James                                    male   NA  0     0    \n",
       "  Ticket           Fare    Cabin Embarked\n",
       "1 A/5 21171         7.2500       S       \n",
       "2 PC 17599         71.2833 C85   C       \n",
       "3 STON/O2. 3101282  7.9250       S       \n",
       "4 113803           53.1000 C123  S       \n",
       "5 373450            8.0500       S       \n",
       "6 330877            8.4583       Q       "
      ]
     },
     "metadata": {},
     "output_type": "display_data"
    }
   ],
   "source": [
    "# Load the titanic data\n",
    "titanic <- read.csv(\"../data/titanic/train.csv\")\n",
    "\n",
    "head(titanic)"
   ]
  },
  {
   "cell_type": "markdown",
   "metadata": {
    "_uuid": "0f6b9f8592885c38d4a89dfdbb5e72065d020700"
   },
   "source": [
    "As we can see from the head output, we successfully loaded the Titanic data set. Data loaded into R via read.csv() becomes data frame.\n",
    "\n",
    "To load tab separated values, include the sep argument and set it to the tab character \"\\t\"."
   ]
  },
  {
   "cell_type": "code",
   "execution_count": 25,
   "metadata": {
    "_uuid": "186527376624f4efc55485a8d3253e66770c0298"
   },
   "outputs": [
    {
     "data": {
      "text/html": [
       "<table class=\"dataframe\">\n",
       "<caption>A data.frame: 6 × 1</caption>\n",
       "<thead>\n",
       "\t<tr><th></th><th scope=col>PassengerId.Survived.Pclass.Name.Sex.Age.SibSp.Parch.Ticket.Fare.Cabin.Embarked</th></tr>\n",
       "\t<tr><th></th><th scope=col>&lt;chr&gt;</th></tr>\n",
       "</thead>\n",
       "<tbody>\n",
       "\t<tr><th scope=row>1</th><td>1,0,3,Braund, Mr. Owen Harris,male,22,1,0,A/5 21171,7.25,,S                                   </td></tr>\n",
       "\t<tr><th scope=row>2</th><td>2,1,1,Cumings, Mrs. John Bradley (Florence Briggs Thayer),female,38,1,0,PC 17599,71.2833,C85,C</td></tr>\n",
       "\t<tr><th scope=row>3</th><td>3,1,3,Heikkinen, Miss. Laina,female,26,0,0,STON/O2. 3101282,7.925,,S                          </td></tr>\n",
       "\t<tr><th scope=row>4</th><td>4,1,1,Futrelle, Mrs. Jacques Heath (Lily May Peel),female,35,1,0,113803,53.1,C123,S           </td></tr>\n",
       "\t<tr><th scope=row>5</th><td>5,0,3,Allen, Mr. William Henry,male,35,0,0,373450,8.05,,S                                     </td></tr>\n",
       "\t<tr><th scope=row>6</th><td>6,0,3,Moran, Mr. James,male,,0,0,330877,8.4583,,Q                                             </td></tr>\n",
       "</tbody>\n",
       "</table>\n"
      ],
      "text/latex": [
       "A data.frame: 6 × 1\n",
       "\\begin{tabular}{r|l}\n",
       "  & PassengerId.Survived.Pclass.Name.Sex.Age.SibSp.Parch.Ticket.Fare.Cabin.Embarked\\\\\n",
       "  & <chr>\\\\\n",
       "\\hline\n",
       "\t1 & 1,0,3,Braund, Mr. Owen Harris,male,22,1,0,A/5 21171,7.25,,S                                   \\\\\n",
       "\t2 & 2,1,1,Cumings, Mrs. John Bradley (Florence Briggs Thayer),female,38,1,0,PC 17599,71.2833,C85,C\\\\\n",
       "\t3 & 3,1,3,Heikkinen, Miss. Laina,female,26,0,0,STON/O2. 3101282,7.925,,S                          \\\\\n",
       "\t4 & 4,1,1,Futrelle, Mrs. Jacques Heath (Lily May Peel),female,35,1,0,113803,53.1,C123,S           \\\\\n",
       "\t5 & 5,0,3,Allen, Mr. William Henry,male,35,0,0,373450,8.05,,S                                     \\\\\n",
       "\t6 & 6,0,3,Moran, Mr. James,male,,0,0,330877,8.4583,,Q                                             \\\\\n",
       "\\end{tabular}\n"
      ],
      "text/markdown": [
       "\n",
       "A data.frame: 6 × 1\n",
       "\n",
       "| <!--/--> | PassengerId.Survived.Pclass.Name.Sex.Age.SibSp.Parch.Ticket.Fare.Cabin.Embarked &lt;chr&gt; |\n",
       "|---|---|\n",
       "| 1 | 1,0,3,Braund, Mr. Owen Harris,male,22,1,0,A/5 21171,7.25,,S                                    |\n",
       "| 2 | 2,1,1,Cumings, Mrs. John Bradley (Florence Briggs Thayer),female,38,1,0,PC 17599,71.2833,C85,C |\n",
       "| 3 | 3,1,3,Heikkinen, Miss. Laina,female,26,0,0,STON/O2. 3101282,7.925,,S                           |\n",
       "| 4 | 4,1,1,Futrelle, Mrs. Jacques Heath (Lily May Peel),female,35,1,0,113803,53.1,C123,S            |\n",
       "| 5 | 5,0,3,Allen, Mr. William Henry,male,35,0,0,373450,8.05,,S                                      |\n",
       "| 6 | 6,0,3,Moran, Mr. James,male,,0,0,330877,8.4583,,Q                                              |\n",
       "\n"
      ],
      "text/plain": [
       "  PassengerId.Survived.Pclass.Name.Sex.Age.SibSp.Parch.Ticket.Fare.Cabin.Embarked               \n",
       "1 1,0,3,Braund, Mr. Owen Harris,male,22,1,0,A/5 21171,7.25,,S                                   \n",
       "2 2,1,1,Cumings, Mrs. John Bradley (Florence Briggs Thayer),female,38,1,0,PC 17599,71.2833,C85,C\n",
       "3 3,1,3,Heikkinen, Miss. Laina,female,26,0,0,STON/O2. 3101282,7.925,,S                          \n",
       "4 4,1,1,Futrelle, Mrs. Jacques Heath (Lily May Peel),female,35,1,0,113803,53.1,C123,S           \n",
       "5 5,0,3,Allen, Mr. William Henry,male,35,0,0,373450,8.05,,S                                     \n",
       "6 6,0,3,Moran, Mr. James,male,,0,0,330877,8.4583,,Q                                             "
      ]
     },
     "metadata": {},
     "output_type": "display_data"
    }
   ],
   "source": [
    "# This line would load the titanic data if were stored as tab separated values\n",
    "titanic <- read.csv(\"../data/titanic/train.csv\", sep=\"\\t\")\n",
    "\n",
    "# Since the file is actually separated by commas\n",
    "# Separating by tabs will result in undesired behavoir\n",
    "head(titanic)"
   ]
  },
  {
   "cell_type": "markdown",
   "metadata": {
    "_uuid": "004d5d2e057601b56d6d73ed6bb71c298cea9857"
   },
   "source": [
    "\n",
    "The provided example demonstrates the potential issues that can arise when using incorrect parsing tools or options while loading data.\n",
    "\n",
    "It is important to understand that the `read.csv()` function is a specialized version of the more general data reading function, `read.table()`. In essence, `read.csv()` modifies certain arguments of `read.table()` to suitably read CSV and TSV files. However, `read.table()` offers a plethora of additional arguments that can influence the data reading process. Unfortunately, covering all these arguments in detail here is impractical. Nevertheless, you can always refer to the function documentation using `?read.table` or `help(read.table)` for comprehensive information on these arguments."
   ]
  },
  {
   "cell_type": "markdown",
   "metadata": {
    "_uuid": "0a38631103b0e428a60bbb132c20bb3a8dd90a09"
   },
   "source": [
    "# Reading Excel Files"
   ]
  },
  {
   "cell_type": "markdown",
   "metadata": {
    "_uuid": "8065a7d24586761fffdf61bd37f15a9e1866e2fd"
   },
   "source": [
    "\n",
    "Microsoft Excel is a widely used spreadsheet program in businesses, which stores data in its own file format with extensions .xls or .xlsx.\n",
    "\n",
    "To import Excel data into R, a straightforward approach is to open the Excel workbook, save the data in CSV format or as a tab-delimited text file, and then utilize the `read.csv()` function in R to load the data.\n",
    "\n",
    "Alternatively, if you wish to directly read data from .xls or .xlsx files into R, you will need to use an R package. Packages in R are extensions that expand the functionality of the base R software. The \"readxl\" package is specifically designed for reading Excel files. To install it, you can use the `install.packages()` function, and you will be prompted to select a web mirror (choose one close to your location).\n",
    "\n",
    "Please be aware that some packages may have dependencies that need to be installed first before you can use them effectively."
   ]
  },
  {
   "cell_type": "code",
   "execution_count": 34,
   "metadata": {},
   "outputs": [
    {
     "name": "stderr",
     "output_type": "stream",
     "text": [
      "also installing the dependencies ‘rematch’, ‘magrittr’, ‘pkgconfig’, ‘hms’, ‘prettyunits’, ‘R6’, ‘cellranger’, ‘tibble’, ‘cpp11’, ‘progress’\n",
      "\n",
      "\n",
      "Warning message in install.packages(c(\"rJava\", \"xlsxjars\", \"xlsx\", \"readxl\")):\n",
      "“installation of package ‘rJava’ had non-zero exit status”\n",
      "Warning message in install.packages(c(\"rJava\", \"xlsxjars\", \"xlsx\", \"readxl\")):\n",
      "“installation of package ‘xlsxjars’ had non-zero exit status”\n",
      "Warning message in install.packages(c(\"rJava\", \"xlsxjars\", \"xlsx\", \"readxl\")):\n",
      "“installation of package ‘xlsx’ had non-zero exit status”\n",
      "Updating HTML index of packages in '.Library'\n",
      "\n",
      "Making 'packages.html' ...\n",
      " done\n",
      "\n"
     ]
    }
   ],
   "source": [
    "install.packages(c(\"rJava\", \"xlsxjars\", \"xlsx\", \"readxl\"))"
   ]
  },
  {
   "cell_type": "code",
   "execution_count": 35,
   "metadata": {
    "_uuid": "57400b8c87a0d752b1d45d0e9bb1581842ca8a9a"
   },
   "outputs": [],
   "source": [
    "# Load the readxl package\n",
    "library(\"readxl\")"
   ]
  },
  {
   "cell_type": "markdown",
   "metadata": {
    "_uuid": "1fbd8437a83c65f2b1a440d0ee8cf1c35346d79a"
   },
   "source": [
    "With our new package in hand, we can use its `read.xlsx()` function to read Excel files directly. You may have noticed earlier that the input folder contained a directory called \"draft2015\"."
   ]
  },
  {
   "cell_type": "code",
   "execution_count": 36,
   "metadata": {
    "_uuid": "0062f7cd50e13be4a0e93c642ef0ca80a212a6c5"
   },
   "outputs": [
    {
     "data": {
      "text/html": [
       "<table class=\"dataframe\">\n",
       "<caption>A tibble: 10 × 7</caption>\n",
       "<thead>\n",
       "\t<tr><th scope=col>Player</th><th scope=col>Draft_Express</th><th scope=col>CBS</th><th scope=col>CBS_2</th><th scope=col>CBS_3</th><th scope=col>BleacherReport</th><th scope=col>SI</th></tr>\n",
       "\t<tr><th scope=col>&lt;chr&gt;</th><th scope=col>&lt;dbl&gt;</th><th scope=col>&lt;dbl&gt;</th><th scope=col>&lt;dbl&gt;</th><th scope=col>&lt;dbl&gt;</th><th scope=col>&lt;dbl&gt;</th><th scope=col>&lt;dbl&gt;</th></tr>\n",
       "</thead>\n",
       "<tbody>\n",
       "\t<tr><td>Karl-Anthony Towns </td><td> 1</td><td> 1</td><td> 1</td><td> 1</td><td> 1</td><td> 1</td></tr>\n",
       "\t<tr><td>Jahlil Okafor      </td><td> 2</td><td> 2</td><td> 2</td><td> 2</td><td> 2</td><td> 2</td></tr>\n",
       "\t<tr><td>Emmanuel Mudiay    </td><td> 7</td><td> 6</td><td> 6</td><td> 6</td><td> 7</td><td> 6</td></tr>\n",
       "\t<tr><td>D'Angelo Russell   </td><td> 3</td><td> 3</td><td> 4</td><td> 4</td><td> 3</td><td> 3</td></tr>\n",
       "\t<tr><td>Kristaps Porzingis </td><td> 6</td><td> 5</td><td> 3</td><td> 3</td><td> 4</td><td> 4</td></tr>\n",
       "\t<tr><td>Mario Hezonja      </td><td> 4</td><td> 7</td><td> 8</td><td> 7</td><td> 6</td><td> 7</td></tr>\n",
       "\t<tr><td>Justise Winslow    </td><td> 5</td><td> 4</td><td> 5</td><td> 5</td><td> 5</td><td> 5</td></tr>\n",
       "\t<tr><td>Willie Cauley-Stein</td><td>13</td><td> 9</td><td> 7</td><td>11</td><td> 9</td><td>11</td></tr>\n",
       "\t<tr><td>Stanley Johnson    </td><td> 8</td><td> 8</td><td>12</td><td> 8</td><td> 8</td><td>10</td></tr>\n",
       "\t<tr><td>Myles Turner       </td><td>12</td><td>10</td><td>13</td><td>12</td><td>11</td><td>12</td></tr>\n",
       "</tbody>\n",
       "</table>\n"
      ],
      "text/latex": [
       "A tibble: 10 × 7\n",
       "\\begin{tabular}{lllllll}\n",
       " Player & Draft\\_Express & CBS & CBS\\_2 & CBS\\_3 & BleacherReport & SI\\\\\n",
       " <chr> & <dbl> & <dbl> & <dbl> & <dbl> & <dbl> & <dbl>\\\\\n",
       "\\hline\n",
       "\t Karl-Anthony Towns  &  1 &  1 &  1 &  1 &  1 &  1\\\\\n",
       "\t Jahlil Okafor       &  2 &  2 &  2 &  2 &  2 &  2\\\\\n",
       "\t Emmanuel Mudiay     &  7 &  6 &  6 &  6 &  7 &  6\\\\\n",
       "\t D'Angelo Russell    &  3 &  3 &  4 &  4 &  3 &  3\\\\\n",
       "\t Kristaps Porzingis  &  6 &  5 &  3 &  3 &  4 &  4\\\\\n",
       "\t Mario Hezonja       &  4 &  7 &  8 &  7 &  6 &  7\\\\\n",
       "\t Justise Winslow     &  5 &  4 &  5 &  5 &  5 &  5\\\\\n",
       "\t Willie Cauley-Stein & 13 &  9 &  7 & 11 &  9 & 11\\\\\n",
       "\t Stanley Johnson     &  8 &  8 & 12 &  8 &  8 & 10\\\\\n",
       "\t Myles Turner        & 12 & 10 & 13 & 12 & 11 & 12\\\\\n",
       "\\end{tabular}\n"
      ],
      "text/markdown": [
       "\n",
       "A tibble: 10 × 7\n",
       "\n",
       "| Player &lt;chr&gt; | Draft_Express &lt;dbl&gt; | CBS &lt;dbl&gt; | CBS_2 &lt;dbl&gt; | CBS_3 &lt;dbl&gt; | BleacherReport &lt;dbl&gt; | SI &lt;dbl&gt; |\n",
       "|---|---|---|---|---|---|---|\n",
       "| Karl-Anthony Towns  |  1 |  1 |  1 |  1 |  1 |  1 |\n",
       "| Jahlil Okafor       |  2 |  2 |  2 |  2 |  2 |  2 |\n",
       "| Emmanuel Mudiay     |  7 |  6 |  6 |  6 |  7 |  6 |\n",
       "| D'Angelo Russell    |  3 |  3 |  4 |  4 |  3 |  3 |\n",
       "| Kristaps Porzingis  |  6 |  5 |  3 |  3 |  4 |  4 |\n",
       "| Mario Hezonja       |  4 |  7 |  8 |  7 |  6 |  7 |\n",
       "| Justise Winslow     |  5 |  4 |  5 |  5 |  5 |  5 |\n",
       "| Willie Cauley-Stein | 13 |  9 |  7 | 11 |  9 | 11 |\n",
       "| Stanley Johnson     |  8 |  8 | 12 |  8 |  8 | 10 |\n",
       "| Myles Turner        | 12 | 10 | 13 | 12 | 11 | 12 |\n",
       "\n"
      ],
      "text/plain": [
       "   Player              Draft_Express CBS CBS_2 CBS_3 BleacherReport SI\n",
       "1  Karl-Anthony Towns   1             1   1     1     1              1\n",
       "2  Jahlil Okafor        2             2   2     2     2              2\n",
       "3  Emmanuel Mudiay      7             6   6     6     7              6\n",
       "4  D'Angelo Russell     3             3   4     4     3              3\n",
       "5  Kristaps Porzingis   6             5   3     3     4              4\n",
       "6  Mario Hezonja        4             7   8     7     6              7\n",
       "7  Justise Winslow      5             4   5     5     5              5\n",
       "8  Willie Cauley-Stein 13             9   7    11     9             11\n",
       "9  Stanley Johnson      8             8  12     8     8             10\n",
       "10 Myles Turner        12            10  13    12    11             12"
      ]
     },
     "metadata": {},
     "output_type": "display_data"
    }
   ],
   "source": [
    "draft <- read_excel(\"../data/draft-15.xlsx\",  # File to read\n",
    "                   1)          # Worksheet within the excel file to read\n",
    "\n",
    "head(draft, 10)"
   ]
  },
  {
   "cell_type": "markdown",
   "metadata": {
    "_uuid": "9b3663b93e0bd4e057740808d204119c24512a46"
   },
   "source": [
    "## Reading Web Data"
   ]
  },
  {
   "cell_type": "markdown",
   "metadata": {
    "_uuid": "5308b5e7e0a1519c985e743b2b7e5b00fa47afde"
   },
   "source": [
    "In R, accessing data from the internet opens up a vast array of information for analysis. To begin data analysis, you can obtain web data and load it into R. Websites often offer data downloads in formats like CSV, TSV, or Excel files.\n",
    "\n",
    "The straightforward approach to using web data in R involves downloading the data to your local drive in CSV, TSV, or Excel format, then utilizing the appropriate functions discussed earlier to load the data into R. Alternatively, you can directly supply a URL to functions like read.csv() or read.table() to read data from the web. However, web data might not always be well-formatted, so some data cleaning, such as removing unnecessary titles or images, may be necessary before using it in R. Additionally, large datasets may be compressed as .zip files, requiring decompression before loading into R.\n",
    "\n",
    "For those working in a local environment, another option for reading web data and tabular data is using the clipboard. Simply highlight the data to copy, use the copy function as usual, and then utilize the read.csv() or read.table() function with the \"clipboard\" argument as the data source. This approach provides a convenient way to work with tabular data directly from the web."
   ]
  },
  {
   "cell_type": "markdown",
   "metadata": {
    "_uuid": "d15b1cb4449dc111967e982e71270ca3b2de1d33"
   },
   "source": [
    "## Writing Data To CSV"
   ]
  },
  {
   "cell_type": "markdown",
   "metadata": {
    "_uuid": "272f18693f978f7e1e601a7e897f111e66f6af6f"
   },
   "source": [
    "In the course of cleaning data, data analysis and predictive modeling, you'll likely end up generating new data. You can write data in an R data frame to CSV using the write.csv() function."
   ]
  },
  {
   "cell_type": "code",
   "execution_count": 37,
   "metadata": {
    "_uuid": "b3bd97aa83a48914c6993c3cb3dc58ce70d882c5"
   },
   "outputs": [],
   "source": [
    "write.csv(draft,                 # Name of variable assigned to the data       \n",
    "         \"draft-15-saved.csv\",   # Name of the file to create to store the data\n",
    "          row.names = FALSE)     # Whether to include row names in the file"
   ]
  },
  {
   "cell_type": "markdown",
   "metadata": {
    "_uuid": "471ee5699938f558047bc5e351cc4e3b4115f127"
   },
   "source": [
    "Data is written to your current working directory. It's a good idea to save data after long, computationally expensive operations so that you don't lose progress or results."
   ]
  },
  {
   "cell_type": "markdown",
   "metadata": {
    "_uuid": "91e99ae7dc013251af948975782bd63181472341"
   },
   "source": [
    "# Other R Packages for Reading and Writing Data"
   ]
  },
  {
   "cell_type": "markdown",
   "metadata": {
    "_uuid": "4dc312e5ed2ac4b5f42b7ff00a3cff158dde08c0"
   },
   "source": [
    "We've covered the basics of reading and writing data with base R, but you should be aware that the default data reading and writing functions in R tend to be slow. This is not a problem for small data sets, but it can be a problem when reading or writing files with sizes of many megabytes or gigabytes. One alternative to read.csv() is the read_csv() function available in the readr package. The readr package attemps to make data reading easier and faster than base R and to correct points of contention such as loading strings as factors by default (read_csv() does not convert strings to factors)."
   ]
  },
  {
   "cell_type": "code",
   "execution_count": 39,
   "metadata": {},
   "outputs": [
    {
     "name": "stderr",
     "output_type": "stream",
     "text": [
      "also installing the dependencies ‘bit’, ‘bit64’, ‘tidyselect’, ‘withr’, ‘clipr’, ‘vroom’, ‘tzdb’\n",
      "\n",
      "\n",
      "Updating HTML index of packages in '.Library'\n",
      "\n",
      "Making 'packages.html' ...\n",
      " done\n",
      "\n"
     ]
    }
   ],
   "source": [
    "install.packages(c(\"readr\"))"
   ]
  },
  {
   "cell_type": "code",
   "execution_count": 40,
   "metadata": {
    "_uuid": "4b111929e803f2ca2ef68cce443717692df261f2"
   },
   "outputs": [
    {
     "name": "stderr",
     "output_type": "stream",
     "text": [
      "\u001b[1mRows: \u001b[22m\u001b[34m891\u001b[39m \u001b[1mColumns: \u001b[22m\u001b[34m12\u001b[39m\n",
      "\u001b[36m──\u001b[39m \u001b[1mColumn specification\u001b[22m \u001b[36m────────────────────────────────────────────────────────\u001b[39m\n",
      "\u001b[1mDelimiter:\u001b[22m \",\"\n",
      "\u001b[31mchr\u001b[39m (5): Name, Sex, Ticket, Cabin, Embarked\n",
      "\u001b[32mdbl\u001b[39m (7): PassengerId, Survived, Pclass, Age, SibSp, Parch, Fare\n",
      "\n",
      "\u001b[36mℹ\u001b[39m Use `spec()` to retrieve the full column specification for this data.\n",
      "\u001b[36mℹ\u001b[39m Specify the column types or set `show_col_types = FALSE` to quiet this message.\n"
     ]
    },
    {
     "data": {
      "text/html": [
       "<table class=\"dataframe\">\n",
       "<caption>A tibble: 6 × 12</caption>\n",
       "<thead>\n",
       "\t<tr><th scope=col>PassengerId</th><th scope=col>Survived</th><th scope=col>Pclass</th><th scope=col>Name</th><th scope=col>Sex</th><th scope=col>Age</th><th scope=col>SibSp</th><th scope=col>Parch</th><th scope=col>Ticket</th><th scope=col>Fare</th><th scope=col>Cabin</th><th scope=col>Embarked</th></tr>\n",
       "\t<tr><th scope=col>&lt;dbl&gt;</th><th scope=col>&lt;dbl&gt;</th><th scope=col>&lt;dbl&gt;</th><th scope=col>&lt;chr&gt;</th><th scope=col>&lt;chr&gt;</th><th scope=col>&lt;dbl&gt;</th><th scope=col>&lt;dbl&gt;</th><th scope=col>&lt;dbl&gt;</th><th scope=col>&lt;chr&gt;</th><th scope=col>&lt;dbl&gt;</th><th scope=col>&lt;chr&gt;</th><th scope=col>&lt;chr&gt;</th></tr>\n",
       "</thead>\n",
       "<tbody>\n",
       "\t<tr><td>1</td><td>0</td><td>3</td><td>Braund, Mr. Owen Harris                            </td><td>male  </td><td>22</td><td>1</td><td>0</td><td>A/5 21171       </td><td> 7.2500</td><td>NA  </td><td>S</td></tr>\n",
       "\t<tr><td>2</td><td>1</td><td>1</td><td>Cumings, Mrs. John Bradley (Florence Briggs Thayer)</td><td>female</td><td>38</td><td>1</td><td>0</td><td>PC 17599        </td><td>71.2833</td><td>C85 </td><td>C</td></tr>\n",
       "\t<tr><td>3</td><td>1</td><td>3</td><td>Heikkinen, Miss. Laina                             </td><td>female</td><td>26</td><td>0</td><td>0</td><td>STON/O2. 3101282</td><td> 7.9250</td><td>NA  </td><td>S</td></tr>\n",
       "\t<tr><td>4</td><td>1</td><td>1</td><td>Futrelle, Mrs. Jacques Heath (Lily May Peel)       </td><td>female</td><td>35</td><td>1</td><td>0</td><td>113803          </td><td>53.1000</td><td>C123</td><td>S</td></tr>\n",
       "\t<tr><td>5</td><td>0</td><td>3</td><td>Allen, Mr. William Henry                           </td><td>male  </td><td>35</td><td>0</td><td>0</td><td>373450          </td><td> 8.0500</td><td>NA  </td><td>S</td></tr>\n",
       "\t<tr><td>6</td><td>0</td><td>3</td><td>Moran, Mr. James                                   </td><td>male  </td><td>NA</td><td>0</td><td>0</td><td>330877          </td><td> 8.4583</td><td>NA  </td><td>Q</td></tr>\n",
       "</tbody>\n",
       "</table>\n"
      ],
      "text/latex": [
       "A tibble: 6 × 12\n",
       "\\begin{tabular}{llllllllllll}\n",
       " PassengerId & Survived & Pclass & Name & Sex & Age & SibSp & Parch & Ticket & Fare & Cabin & Embarked\\\\\n",
       " <dbl> & <dbl> & <dbl> & <chr> & <chr> & <dbl> & <dbl> & <dbl> & <chr> & <dbl> & <chr> & <chr>\\\\\n",
       "\\hline\n",
       "\t 1 & 0 & 3 & Braund, Mr. Owen Harris                             & male   & 22 & 1 & 0 & A/5 21171        &  7.2500 & NA   & S\\\\\n",
       "\t 2 & 1 & 1 & Cumings, Mrs. John Bradley (Florence Briggs Thayer) & female & 38 & 1 & 0 & PC 17599         & 71.2833 & C85  & C\\\\\n",
       "\t 3 & 1 & 3 & Heikkinen, Miss. Laina                              & female & 26 & 0 & 0 & STON/O2. 3101282 &  7.9250 & NA   & S\\\\\n",
       "\t 4 & 1 & 1 & Futrelle, Mrs. Jacques Heath (Lily May Peel)        & female & 35 & 1 & 0 & 113803           & 53.1000 & C123 & S\\\\\n",
       "\t 5 & 0 & 3 & Allen, Mr. William Henry                            & male   & 35 & 0 & 0 & 373450           &  8.0500 & NA   & S\\\\\n",
       "\t 6 & 0 & 3 & Moran, Mr. James                                    & male   & NA & 0 & 0 & 330877           &  8.4583 & NA   & Q\\\\\n",
       "\\end{tabular}\n"
      ],
      "text/markdown": [
       "\n",
       "A tibble: 6 × 12\n",
       "\n",
       "| PassengerId &lt;dbl&gt; | Survived &lt;dbl&gt; | Pclass &lt;dbl&gt; | Name &lt;chr&gt; | Sex &lt;chr&gt; | Age &lt;dbl&gt; | SibSp &lt;dbl&gt; | Parch &lt;dbl&gt; | Ticket &lt;chr&gt; | Fare &lt;dbl&gt; | Cabin &lt;chr&gt; | Embarked &lt;chr&gt; |\n",
       "|---|---|---|---|---|---|---|---|---|---|---|---|\n",
       "| 1 | 0 | 3 | Braund, Mr. Owen Harris                             | male   | 22 | 1 | 0 | A/5 21171        |  7.2500 | NA   | S |\n",
       "| 2 | 1 | 1 | Cumings, Mrs. John Bradley (Florence Briggs Thayer) | female | 38 | 1 | 0 | PC 17599         | 71.2833 | C85  | C |\n",
       "| 3 | 1 | 3 | Heikkinen, Miss. Laina                              | female | 26 | 0 | 0 | STON/O2. 3101282 |  7.9250 | NA   | S |\n",
       "| 4 | 1 | 1 | Futrelle, Mrs. Jacques Heath (Lily May Peel)        | female | 35 | 1 | 0 | 113803           | 53.1000 | C123 | S |\n",
       "| 5 | 0 | 3 | Allen, Mr. William Henry                            | male   | 35 | 0 | 0 | 373450           |  8.0500 | NA   | S |\n",
       "| 6 | 0 | 3 | Moran, Mr. James                                    | male   | NA | 0 | 0 | 330877           |  8.4583 | NA   | Q |\n",
       "\n"
      ],
      "text/plain": [
       "  PassengerId Survived Pclass\n",
       "1 1           0        3     \n",
       "2 2           1        1     \n",
       "3 3           1        3     \n",
       "4 4           1        1     \n",
       "5 5           0        3     \n",
       "6 6           0        3     \n",
       "  Name                                                Sex    Age SibSp Parch\n",
       "1 Braund, Mr. Owen Harris                             male   22  1     0    \n",
       "2 Cumings, Mrs. John Bradley (Florence Briggs Thayer) female 38  1     0    \n",
       "3 Heikkinen, Miss. Laina                              female 26  0     0    \n",
       "4 Futrelle, Mrs. Jacques Heath (Lily May Peel)        female 35  1     0    \n",
       "5 Allen, Mr. William Henry                            male   35  0     0    \n",
       "6 Moran, Mr. James                                    male   NA  0     0    \n",
       "  Ticket           Fare    Cabin Embarked\n",
       "1 A/5 21171         7.2500 NA    S       \n",
       "2 PC 17599         71.2833 C85   C       \n",
       "3 STON/O2. 3101282  7.9250 NA    S       \n",
       "4 113803           53.1000 C123  S       \n",
       "5 373450            8.0500 NA    S       \n",
       "6 330877            8.4583 NA    Q       "
      ]
     },
     "metadata": {},
     "output_type": "display_data"
    }
   ],
   "source": [
    "# Load readr\n",
    "library(readr)\n",
    "\n",
    "# Read the titanic data\n",
    "titanic_fast <- read_csv(\"../data/train.csv\")\n",
    "head(titanic_fast)"
   ]
  },
  {
   "cell_type": "markdown",
   "metadata": {
    "_uuid": "6e8ad9214e25860c04cc8e32143aeb18d8dd0dab"
   },
   "source": [
    "Another data reading option is the fread() function in the data.table package. This function is particularly fast, so it can be useful to use when working with large data sets that fill up most of your available memory."
   ]
  },
  {
   "cell_type": "code",
   "execution_count": 42,
   "metadata": {},
   "outputs": [
    {
     "name": "stderr",
     "output_type": "stream",
     "text": [
      "Updating HTML index of packages in '.Library'\n",
      "\n",
      "Making 'packages.html' ...\n",
      " done\n",
      "\n"
     ]
    }
   ],
   "source": [
    "install.packages('data.table')"
   ]
  },
  {
   "cell_type": "code",
   "execution_count": 43,
   "metadata": {
    "_uuid": "ab8854cbd9edeb28beb6adfb86f54420db94c60f"
   },
   "outputs": [
    {
     "data": {
      "text/html": [
       "<table class=\"dataframe\">\n",
       "<caption>A data.table: 6 × 12</caption>\n",
       "<thead>\n",
       "\t<tr><th scope=col>PassengerId</th><th scope=col>Survived</th><th scope=col>Pclass</th><th scope=col>Name</th><th scope=col>Sex</th><th scope=col>Age</th><th scope=col>SibSp</th><th scope=col>Parch</th><th scope=col>Ticket</th><th scope=col>Fare</th><th scope=col>Cabin</th><th scope=col>Embarked</th></tr>\n",
       "\t<tr><th scope=col>&lt;int&gt;</th><th scope=col>&lt;int&gt;</th><th scope=col>&lt;int&gt;</th><th scope=col>&lt;chr&gt;</th><th scope=col>&lt;chr&gt;</th><th scope=col>&lt;dbl&gt;</th><th scope=col>&lt;int&gt;</th><th scope=col>&lt;int&gt;</th><th scope=col>&lt;chr&gt;</th><th scope=col>&lt;dbl&gt;</th><th scope=col>&lt;chr&gt;</th><th scope=col>&lt;chr&gt;</th></tr>\n",
       "</thead>\n",
       "<tbody>\n",
       "\t<tr><td>1</td><td>0</td><td>3</td><td>Braund, Mr. Owen Harris                            </td><td>male  </td><td>22</td><td>1</td><td>0</td><td>A/5 21171       </td><td> 7.2500</td><td>    </td><td>S</td></tr>\n",
       "\t<tr><td>2</td><td>1</td><td>1</td><td>Cumings, Mrs. John Bradley (Florence Briggs Thayer)</td><td>female</td><td>38</td><td>1</td><td>0</td><td>PC 17599        </td><td>71.2833</td><td>C85 </td><td>C</td></tr>\n",
       "\t<tr><td>3</td><td>1</td><td>3</td><td>Heikkinen, Miss. Laina                             </td><td>female</td><td>26</td><td>0</td><td>0</td><td>STON/O2. 3101282</td><td> 7.9250</td><td>    </td><td>S</td></tr>\n",
       "\t<tr><td>4</td><td>1</td><td>1</td><td>Futrelle, Mrs. Jacques Heath (Lily May Peel)       </td><td>female</td><td>35</td><td>1</td><td>0</td><td>113803          </td><td>53.1000</td><td>C123</td><td>S</td></tr>\n",
       "\t<tr><td>5</td><td>0</td><td>3</td><td>Allen, Mr. William Henry                           </td><td>male  </td><td>35</td><td>0</td><td>0</td><td>373450          </td><td> 8.0500</td><td>    </td><td>S</td></tr>\n",
       "\t<tr><td>6</td><td>0</td><td>3</td><td>Moran, Mr. James                                   </td><td>male  </td><td>NA</td><td>0</td><td>0</td><td>330877          </td><td> 8.4583</td><td>    </td><td>Q</td></tr>\n",
       "</tbody>\n",
       "</table>\n"
      ],
      "text/latex": [
       "A data.table: 6 × 12\n",
       "\\begin{tabular}{llllllllllll}\n",
       " PassengerId & Survived & Pclass & Name & Sex & Age & SibSp & Parch & Ticket & Fare & Cabin & Embarked\\\\\n",
       " <int> & <int> & <int> & <chr> & <chr> & <dbl> & <int> & <int> & <chr> & <dbl> & <chr> & <chr>\\\\\n",
       "\\hline\n",
       "\t 1 & 0 & 3 & Braund, Mr. Owen Harris                             & male   & 22 & 1 & 0 & A/5 21171        &  7.2500 &      & S\\\\\n",
       "\t 2 & 1 & 1 & Cumings, Mrs. John Bradley (Florence Briggs Thayer) & female & 38 & 1 & 0 & PC 17599         & 71.2833 & C85  & C\\\\\n",
       "\t 3 & 1 & 3 & Heikkinen, Miss. Laina                              & female & 26 & 0 & 0 & STON/O2. 3101282 &  7.9250 &      & S\\\\\n",
       "\t 4 & 1 & 1 & Futrelle, Mrs. Jacques Heath (Lily May Peel)        & female & 35 & 1 & 0 & 113803           & 53.1000 & C123 & S\\\\\n",
       "\t 5 & 0 & 3 & Allen, Mr. William Henry                            & male   & 35 & 0 & 0 & 373450           &  8.0500 &      & S\\\\\n",
       "\t 6 & 0 & 3 & Moran, Mr. James                                    & male   & NA & 0 & 0 & 330877           &  8.4583 &      & Q\\\\\n",
       "\\end{tabular}\n"
      ],
      "text/markdown": [
       "\n",
       "A data.table: 6 × 12\n",
       "\n",
       "| PassengerId &lt;int&gt; | Survived &lt;int&gt; | Pclass &lt;int&gt; | Name &lt;chr&gt; | Sex &lt;chr&gt; | Age &lt;dbl&gt; | SibSp &lt;int&gt; | Parch &lt;int&gt; | Ticket &lt;chr&gt; | Fare &lt;dbl&gt; | Cabin &lt;chr&gt; | Embarked &lt;chr&gt; |\n",
       "|---|---|---|---|---|---|---|---|---|---|---|---|\n",
       "| 1 | 0 | 3 | Braund, Mr. Owen Harris                             | male   | 22 | 1 | 0 | A/5 21171        |  7.2500 | <!----> | S |\n",
       "| 2 | 1 | 1 | Cumings, Mrs. John Bradley (Florence Briggs Thayer) | female | 38 | 1 | 0 | PC 17599         | 71.2833 | C85  | C |\n",
       "| 3 | 1 | 3 | Heikkinen, Miss. Laina                              | female | 26 | 0 | 0 | STON/O2. 3101282 |  7.9250 | <!----> | S |\n",
       "| 4 | 1 | 1 | Futrelle, Mrs. Jacques Heath (Lily May Peel)        | female | 35 | 1 | 0 | 113803           | 53.1000 | C123 | S |\n",
       "| 5 | 0 | 3 | Allen, Mr. William Henry                            | male   | 35 | 0 | 0 | 373450           |  8.0500 | <!----> | S |\n",
       "| 6 | 0 | 3 | Moran, Mr. James                                    | male   | NA | 0 | 0 | 330877           |  8.4583 | <!----> | Q |\n",
       "\n"
      ],
      "text/plain": [
       "  PassengerId Survived Pclass\n",
       "1 1           0        3     \n",
       "2 2           1        1     \n",
       "3 3           1        3     \n",
       "4 4           1        1     \n",
       "5 5           0        3     \n",
       "6 6           0        3     \n",
       "  Name                                                Sex    Age SibSp Parch\n",
       "1 Braund, Mr. Owen Harris                             male   22  1     0    \n",
       "2 Cumings, Mrs. John Bradley (Florence Briggs Thayer) female 38  1     0    \n",
       "3 Heikkinen, Miss. Laina                              female 26  0     0    \n",
       "4 Futrelle, Mrs. Jacques Heath (Lily May Peel)        female 35  1     0    \n",
       "5 Allen, Mr. William Henry                            male   35  0     0    \n",
       "6 Moran, Mr. James                                    male   NA  0     0    \n",
       "  Ticket           Fare    Cabin Embarked\n",
       "1 A/5 21171         7.2500       S       \n",
       "2 PC 17599         71.2833 C85   C       \n",
       "3 STON/O2. 3101282  7.9250       S       \n",
       "4 113803           53.1000 C123  S       \n",
       "5 373450            8.0500       S       \n",
       "6 330877            8.4583       Q       "
      ]
     },
     "metadata": {},
     "output_type": "display_data"
    }
   ],
   "source": [
    "library(data.table)\n",
    "\n",
    "titanic_super_fast <- fread(\"../data/train.csv\")\n",
    "head(titanic_super_fast)"
   ]
  },
  {
   "cell_type": "markdown",
   "metadata": {
    "_uuid": "e1deb2e373ccc09b465894909f7b07713301d1ad"
   },
   "source": [
    "It should be noted that readr and data.table each read data into their own unique data structures that build upon R's base data frames. We can confirm this by checking the class of each object we loaded with the class() function."
   ]
  },
  {
   "cell_type": "code",
   "execution_count": 44,
   "metadata": {
    "_uuid": "4126f11492c6e905de3f473d879daf3ff04079d2"
   },
   "outputs": [
    {
     "data": {
      "text/html": [
       "'data.frame'"
      ],
      "text/latex": [
       "'data.frame'"
      ],
      "text/markdown": [
       "'data.frame'"
      ],
      "text/plain": [
       "[1] \"data.frame\""
      ]
     },
     "metadata": {},
     "output_type": "display_data"
    },
    {
     "data": {
      "text/html": [
       "<style>\n",
       ".list-inline {list-style: none; margin:0; padding: 0}\n",
       ".list-inline>li {display: inline-block}\n",
       ".list-inline>li:not(:last-child)::after {content: \"\\00b7\"; padding: 0 .5ex}\n",
       "</style>\n",
       "<ol class=list-inline><li>'spec_tbl_df'</li><li>'tbl_df'</li><li>'tbl'</li><li>'data.frame'</li></ol>\n"
      ],
      "text/latex": [
       "\\begin{enumerate*}\n",
       "\\item 'spec\\_tbl\\_df'\n",
       "\\item 'tbl\\_df'\n",
       "\\item 'tbl'\n",
       "\\item 'data.frame'\n",
       "\\end{enumerate*}\n"
      ],
      "text/markdown": [
       "1. 'spec_tbl_df'\n",
       "2. 'tbl_df'\n",
       "3. 'tbl'\n",
       "4. 'data.frame'\n",
       "\n",
       "\n"
      ],
      "text/plain": [
       "[1] \"spec_tbl_df\" \"tbl_df\"      \"tbl\"         \"data.frame\" "
      ]
     },
     "metadata": {},
     "output_type": "display_data"
    },
    {
     "data": {
      "text/html": [
       "<style>\n",
       ".list-inline {list-style: none; margin:0; padding: 0}\n",
       ".list-inline>li {display: inline-block}\n",
       ".list-inline>li:not(:last-child)::after {content: \"\\00b7\"; padding: 0 .5ex}\n",
       "</style>\n",
       "<ol class=list-inline><li>'data.table'</li><li>'data.frame'</li></ol>\n"
      ],
      "text/latex": [
       "\\begin{enumerate*}\n",
       "\\item 'data.table'\n",
       "\\item 'data.frame'\n",
       "\\end{enumerate*}\n"
      ],
      "text/markdown": [
       "1. 'data.table'\n",
       "2. 'data.frame'\n",
       "\n",
       "\n"
      ],
      "text/plain": [
       "[1] \"data.table\" \"data.frame\""
      ]
     },
     "metadata": {},
     "output_type": "display_data"
    }
   ],
   "source": [
    "class(titanic)\n",
    "class(titanic_fast)\n",
    "class(titanic_super_fast)"
   ]
  },
  {
   "cell_type": "markdown",
   "metadata": {
    "_uuid": "affb5f816fb7e1c24fae09859cc58f52e0599469"
   },
   "source": [
    "These special data frames allow the packages that use them to perform additional operations that don't work on normal data frames. We won't go into more detail about them right now, but be aware that if your data is in the form of a tbl_df (\"tibble\") or data.table, certain functions that expect default data frames may not work properly and you may have to convert your data back into a standard data frame with as.data.frame()."
   ]
  },
  {
   "cell_type": "code",
   "execution_count": 45,
   "metadata": {
    "_uuid": "d44bacc978082372cac3f04b5bc37199a46d7062"
   },
   "outputs": [
    {
     "data": {
      "text/html": [
       "'data.frame'"
      ],
      "text/latex": [
       "'data.frame'"
      ],
      "text/markdown": [
       "'data.frame'"
      ],
      "text/plain": [
       "[1] \"data.frame\""
      ]
     },
     "metadata": {},
     "output_type": "display_data"
    },
    {
     "data": {
      "text/html": [
       "'data.frame'"
      ],
      "text/latex": [
       "'data.frame'"
      ],
      "text/markdown": [
       "'data.frame'"
      ],
      "text/plain": [
       "[1] \"data.frame\""
      ]
     },
     "metadata": {},
     "output_type": "display_data"
    }
   ],
   "source": [
    "# Convert tbl_df and data.frame back to normal data frames\n",
    "\n",
    "class(as.data.frame(titanic_fast))\n",
    "class(as.data.frame(titanic_super_fast))"
   ]
  },
  {
   "cell_type": "markdown",
   "metadata": {
    "_uuid": "900ce7cad3ff2de7b76de6e18152d32d05370e72"
   },
   "source": [
    "Finally, the data.table package has a function called fwrite() that can write data to disk much faster than the standard write.csv() function."
   ]
  },
  {
   "cell_type": "code",
   "execution_count": 46,
   "metadata": {
    "_uuid": "bd0b80e4bb28f23cc6ba76275400977516639d5c"
   },
   "outputs": [],
   "source": [
    "# Save a copy of draft to csv with frwite()\n",
    "fwrite(draft, \"draft-15-saved2.csv\")"
   ]
  },
  {
   "cell_type": "markdown",
   "metadata": {
    "_uuid": "d7bbbe8e02483d81628ead0869ea2d6cdd3bcafe"
   },
   "source": [
    "# Wrap Up"
   ]
  },
  {
   "cell_type": "markdown",
   "metadata": {
    "_uuid": "87315f6628d477d6ea3389fcb5759ae8d07fd5fa"
   },
   "source": [
    "Data comes in all sorts of formats other than the friendly ones we've discussed thus far. R has functions and packages for working with data in other common data formats like SAS, SPSS and Stata files, json, xml, html and databases. "
   ]
  },
  {
   "cell_type": "markdown",
   "metadata": {
    "_uuid": "fe5062574a10cf5cb69021a70ab6f93e17d5732a"
   },
   "source": [
    "## Exercises\n",
    "\n",
    "To do the exercises, fork this notebook and then fill in and run the code boxes according to the exercise instructions."
   ]
  },
  {
   "cell_type": "markdown",
   "metadata": {
    "_uuid": "a1158418a5bd691da1378c34049d31dfd9b85f94"
   },
   "source": [
    "### Exercise #1\n",
    "Read in the titanic gender_submission.csv file and save it as \"gender_sub\". The list.files() function provided below shows you the file path to the proper folder."
   ]
  },
  {
   "cell_type": "code",
   "execution_count": 48,
   "metadata": {
    "_kg_hide-output": true,
    "_uuid": "fff1a2a0dac63895b39a0cae7f0543c38a3a65b2"
   },
   "outputs": [
    {
     "data": {
      "text/html": [
       "<style>\n",
       ".list-inline {list-style: none; margin:0; padding: 0}\n",
       ".list-inline>li {display: inline-block}\n",
       ".list-inline>li:not(:last-child)::after {content: \"\\00b7\"; padding: 0 .5ex}\n",
       "</style>\n",
       "<ol class=list-inline><li>'gender_submission.csv'</li><li>'train.csv'</li></ol>\n"
      ],
      "text/latex": [
       "\\begin{enumerate*}\n",
       "\\item 'gender\\_submission.csv'\n",
       "\\item 'train.csv'\n",
       "\\end{enumerate*}\n"
      ],
      "text/markdown": [
       "1. 'gender_submission.csv'\n",
       "2. 'train.csv'\n",
       "\n",
       "\n"
      ],
      "text/plain": [
       "[1] \"gender_submission.csv\" \"train.csv\"            "
      ]
     },
     "metadata": {},
     "output_type": "display_data"
    },
    {
     "data": {
      "text/html": [
       "'Your Code Here'"
      ],
      "text/latex": [
       "'Your Code Here'"
      ],
      "text/markdown": [
       "'Your Code Here'"
      ],
      "text/plain": [
       "[1] \"Your Code Here\""
      ]
     },
     "metadata": {},
     "output_type": "display_data"
    }
   ],
   "source": [
    "list.files(\"../data/titanic\")\n",
    "\n",
    "gender_sub <- \"Your Code Here\"\n",
    "\n",
    "head(gender_sub)"
   ]
  },
  {
   "cell_type": "markdown",
   "metadata": {
    "_uuid": "915483ee807b092e2eda52f068594383ba7b6b90"
   },
   "source": [
    "### Exercise #2\n",
    "Create a new DataFrame called \"no_survivors\" with two columns: PassengerId and Survived. Set PassengerId equal to the PassengerId column of gender_sub and set all the values in the Survived column to 0 (indicating a prediction that no passengers survived.)."
   ]
  },
  {
   "cell_type": "code",
   "execution_count": 49,
   "metadata": {
    "_kg_hide-output": true,
    "_uuid": "227db923fbed173b47e9f477ed2b57a1e2b50d97"
   },
   "outputs": [],
   "source": [
    "no_survivors <- \"Your Code Here!\""
   ]
  },
  {
   "cell_type": "markdown",
   "metadata": {
    "_uuid": "56f3469f0f92c59b3265893d99f2fa4603e84273"
   },
   "source": [
    "### Exercise #3\n",
    "Write the no_survivors data frame to a csv called \"no_survivors.csv\". Include the argument row.names = FALSE so that data is saved in the proper format to submit to the competition. \n",
    "\n",
    "After finishing this exercise and then committing this notebook, you can submit no_survivors as predictions to the Titanic competition under the \"Output\" tab of the kernel page. (It will not score well, feel free to give it a try!). "
   ]
  },
  {
   "cell_type": "code",
   "execution_count": 50,
   "metadata": {
    "_kg_hide-output": true,
    "_uuid": "e61bc093042a8c19f4f176f2b06a58b463a7c160"
   },
   "outputs": [
    {
     "data": {
      "text/html": [
       "'Your Code Here!'"
      ],
      "text/latex": [
       "'Your Code Here!'"
      ],
      "text/markdown": [
       "'Your Code Here!'"
      ],
      "text/plain": [
       "[1] \"Your Code Here!\""
      ]
     },
     "metadata": {},
     "output_type": "display_data"
    }
   ],
   "source": [
    "\"Your Code Here!\""
   ]
  },
  {
   "cell_type": "markdown",
   "metadata": {
    "_uuid": "9e3106f3e7be8320dfbfd2019cddd434379aaf62"
   },
   "source": [
    "## Exercise Solutions"
   ]
  },
  {
   "cell_type": "code",
   "execution_count": 51,
   "metadata": {
    "_kg_hide-input": true,
    "_kg_hide-output": true,
    "_uuid": "4a858bf9202378f9ebd068f610cc084baaec0bc2"
   },
   "outputs": [
    {
     "data": {
      "text/html": [
       "<style>\n",
       ".list-inline {list-style: none; margin:0; padding: 0}\n",
       ".list-inline>li {display: inline-block}\n",
       ".list-inline>li:not(:last-child)::after {content: \"\\00b7\"; padding: 0 .5ex}\n",
       "</style>\n",
       "<ol class=list-inline><li>'gender_submission.csv'</li><li>'train.csv'</li></ol>\n"
      ],
      "text/latex": [
       "\\begin{enumerate*}\n",
       "\\item 'gender\\_submission.csv'\n",
       "\\item 'train.csv'\n",
       "\\end{enumerate*}\n"
      ],
      "text/markdown": [
       "1. 'gender_submission.csv'\n",
       "2. 'train.csv'\n",
       "\n",
       "\n"
      ],
      "text/plain": [
       "[1] \"gender_submission.csv\" \"train.csv\"            "
      ]
     },
     "metadata": {},
     "output_type": "display_data"
    },
    {
     "data": {
      "text/html": [
       "<table class=\"dataframe\">\n",
       "<caption>A data.frame: 6 × 2</caption>\n",
       "<thead>\n",
       "\t<tr><th></th><th scope=col>PassengerId</th><th scope=col>Survived</th></tr>\n",
       "\t<tr><th></th><th scope=col>&lt;int&gt;</th><th scope=col>&lt;int&gt;</th></tr>\n",
       "</thead>\n",
       "<tbody>\n",
       "\t<tr><th scope=row>1</th><td>892</td><td>0</td></tr>\n",
       "\t<tr><th scope=row>2</th><td>893</td><td>1</td></tr>\n",
       "\t<tr><th scope=row>3</th><td>894</td><td>0</td></tr>\n",
       "\t<tr><th scope=row>4</th><td>895</td><td>0</td></tr>\n",
       "\t<tr><th scope=row>5</th><td>896</td><td>1</td></tr>\n",
       "\t<tr><th scope=row>6</th><td>897</td><td>0</td></tr>\n",
       "</tbody>\n",
       "</table>\n"
      ],
      "text/latex": [
       "A data.frame: 6 × 2\n",
       "\\begin{tabular}{r|ll}\n",
       "  & PassengerId & Survived\\\\\n",
       "  & <int> & <int>\\\\\n",
       "\\hline\n",
       "\t1 & 892 & 0\\\\\n",
       "\t2 & 893 & 1\\\\\n",
       "\t3 & 894 & 0\\\\\n",
       "\t4 & 895 & 0\\\\\n",
       "\t5 & 896 & 1\\\\\n",
       "\t6 & 897 & 0\\\\\n",
       "\\end{tabular}\n"
      ],
      "text/markdown": [
       "\n",
       "A data.frame: 6 × 2\n",
       "\n",
       "| <!--/--> | PassengerId &lt;int&gt; | Survived &lt;int&gt; |\n",
       "|---|---|---|\n",
       "| 1 | 892 | 0 |\n",
       "| 2 | 893 | 1 |\n",
       "| 3 | 894 | 0 |\n",
       "| 4 | 895 | 0 |\n",
       "| 5 | 896 | 1 |\n",
       "| 6 | 897 | 0 |\n",
       "\n"
      ],
      "text/plain": [
       "  PassengerId Survived\n",
       "1 892         0       \n",
       "2 893         1       \n",
       "3 894         0       \n",
       "4 895         0       \n",
       "5 896         1       \n",
       "6 897         0       "
      ]
     },
     "metadata": {},
     "output_type": "display_data"
    }
   ],
   "source": [
    "# 1 \n",
    "\n",
    "list.files(\"../data/titanic\")\n",
    "\n",
    "gender_sub <- read.csv(\"../data/titanic/gender_submission.csv\")\n",
    "\n",
    "head(gender_sub)\n",
    "\n",
    "# 2 \n",
    "\n",
    "# There are many ways to do this.\n",
    "# Note that we did not cover this before, but setting a column equal to\n",
    "# A singular value fills that entire column with that value\n",
    "\n",
    "no_survivors <- data.frame(\"PassengerId\" = gender_sub$PassengerId,\n",
    "                           \"Survived\" = 0) \n",
    "\n",
    "\n",
    "# 3\n",
    "\n",
    "write.csv(no_survivors, \"no_survivors.csv\", row.names = FALSE)"
   ]
  }
 ],
 "metadata": {
  "kernelspec": {
   "display_name": "R",
   "language": "R",
   "name": "ir"
  },
  "language_info": {
   "codemirror_mode": "r",
   "file_extension": ".r",
   "mimetype": "text/x-r-source",
   "name": "R",
   "pygments_lexer": "r",
   "version": "4.2.3"
  }
 },
 "nbformat": 4,
 "nbformat_minor": 4
}
