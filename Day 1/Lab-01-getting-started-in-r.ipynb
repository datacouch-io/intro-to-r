{
 "cells": [
  {
   "cell_type": "markdown",
   "metadata": {
    "_cell_guid": "2aca040f-a6d5-4fa1-a661-7f95ffd88d0f",
    "_uuid": "d9a45aede615d40835e73a5b7d3f3c36f02951a0"
   },
   "source": [
    "![](https://www.r-project.org/Rlogo.png)\n",
    "\n",
    "____________________________________________________________________________________\n",
    "\n",
    "## Introduction\n",
    "\n",
    "R is a versatile programming language designed for statistical analysis and data visualization. With R, you can efficiently process raw data, uncover meaningful trends, and detect patterns within the data. Additionally, R empowers users to generate highly customizable and visually appealing visualizations, perfect for professional presentations and data communication.\n",
    "____________________________________________________________________________________\n"
   ]
  },
  {
   "cell_type": "markdown",
   "metadata": {
    "_cell_guid": "a54a6916-78a6-4256-bc87-ed888a0a5b9e",
    "_uuid": "d1f0d4314a6c3db4d110cfccbb40e26e63573156"
   },
   "source": [
    "## Functions and Arguments\n",
    "\n"
   ]
  },
  {
   "cell_type": "markdown",
   "metadata": {
    "_cell_guid": "f4940ad5-55cc-41b4-b2eb-23c61c3b716d",
    "_uuid": "60889c8e12d14ef4ea459848724bd5b48cccfb6d"
   },
   "source": [
    "Let's get right into it and run our first line of code!\n"
   ]
  },
  {
   "cell_type": "code",
   "execution_count": 1,
   "metadata": {
    "_cell_guid": "5204a92e-e414-47b3-b069-9a40621922da",
    "_uuid": "e331faddc0e38839ea7b75945b2cd5e78d83f0c4"
   },
   "outputs": [
    {
     "name": "stdout",
     "output_type": "stream",
     "text": [
      "[1] \"Welcome to R!\"\n"
     ]
    }
   ],
   "source": [
    "# This is a cell with code. In code cells, when I have something to say that \n",
    "# I don't want to be treated as code, I'll use the # symbol as a comment. \n",
    "# Comments are helpful for describing what's happening in the code. \n",
    "# To run a cell, click the \"play\" arrow on the top center or press CTRL + ENTER (CMD + ENTER on a Mac).\n",
    "\n",
    "print(\"Welcome to R!\")\n",
    "\n",
    "# The output of the code will be displayed below the cell. Once this cell is run, you should see the text \"Welcome to R!\" printed below."
   ]
  },
  {
   "cell_type": "markdown",
   "metadata": {
    "_cell_guid": "5872f1da-2234-4dc6-800e-c8a897b996e2",
    "_uuid": "79b8f9335092d2f6b0d4c65ca889045c63969824"
   },
   "source": [
    "### print()\n",
    "\n",
    "-   A \"**function**\" in programming is like a \"**verb**\"; it instructs the computer to perform a specific action. In this case, the function is print(), which tells R to display the provided input.\n",
    "-   Initially, we will use pre-existing functions in R, but later, we'll create our own!\n",
    "\n",
    "### \"I'm coding in R!\"\n",
    "\n",
    "-   The text inside the parentheses is known as an \"**argument**,\" and it provides essential information for the function to execute properly. Here, we are giving the print() function a text string to print.\n",
    "-   Remember, some functions require specific types of data as arguments. Providing incorrect data types can lead to bugs in your code.\n",
    "\n",
    "> Functions can be likened to verbs, and arguments to nouns. Just as not all sentences require verbs (\"I smiled\"), not all functions need arguments. Additionally, some functions may require multiple arguments (\"I put the flowers in the vase\")."
   ]
  },
  {
   "cell_type": "code",
   "execution_count": null,
   "metadata": {
    "_cell_guid": "54038d26-85a3-4437-abff-775811eb352c",
    "_uuid": "845147afdfb5bd4253286d4fd1e0a72212e9290d"
   },
   "outputs": [],
   "source": [
    "# Your task! Can you make \"I'm coding in R\" appear in the output?\n",
    "\n",
    "\n",
    "# TIP: Try copying the code from the cell above and make necessary modifications. \n",
    "# (Programming often involves copying and modifying existing code!)"
   ]
  },
  {
   "cell_type": "markdown",
   "metadata": {
    "_cell_guid": "5253225a-687e-4eca-9b11-08926c80deef",
    "_uuid": "3409f798caa90b675a50f9ec7f2dae78ae57df33"
   },
   "source": [
    "> **How can you learn more about a function?** You can learn more about a function by checking its documentation. You can do this by running the code ?functionName() in the following cell."
   ]
  },
  {
   "cell_type": "code",
   "execution_count": 2,
   "metadata": {
    "_cell_guid": "c89e9b0b-de71-47b5-a51b-b2c9d3e35087",
    "_uuid": "ed9f0009cf1531971b33cc9b6595584c7202d261"
   },
   "outputs": [
    {
     "data": {
      "text/html": [
       "\n",
       "<table style=\"width: 100%;\"><tr><td>print {base}</td><td style=\"text-align: right;\">R Documentation</td></tr></table>\n",
       "\n",
       "<h2>Print Values</h2>\n",
       "\n",
       "<h3>Description</h3>\n",
       "\n",
       "<p><code>print</code> prints its argument and returns it <em>invisibly</em> (via\n",
       "<code>invisible(x)</code>).  It is a generic function which means that\n",
       "new printing methods can be easily added for new <code>class</code>es.\n",
       "</p>\n",
       "\n",
       "\n",
       "<h3>Usage</h3>\n",
       "\n",
       "<pre><code class='language-R'>\n",
       "print(x, ...)\n",
       "\n",
       "## S3 method for class 'factor'\n",
       "print(x, quote = FALSE, max.levels = NULL,\n",
       "      width = getOption(\"width\"), ...)\n",
       "\n",
       "## S3 method for class 'table'\n",
       "print(x, digits = getOption(\"digits\"), quote = FALSE,\n",
       "      na.print = \"\", zero.print = \"0\",\n",
       "      right = is.numeric(x) || is.complex(x),\n",
       "      justify = \"none\", ...)\n",
       "\n",
       "## S3 method for class 'function'\n",
       "print(x, useSource = TRUE, ...)\n",
       "</code></pre>\n",
       "\n",
       "\n",
       "<h3>Arguments</h3>\n",
       "\n",
       "<table>\n",
       "<tr style=\"vertical-align: top;\"><td><code>x</code></td>\n",
       "<td>\n",
       "<p>an object used to select a method.</p>\n",
       "</td></tr>\n",
       "<tr style=\"vertical-align: top;\"><td><code>...</code></td>\n",
       "<td>\n",
       "<p>further arguments passed to or from other methods.</p>\n",
       "</td></tr>\n",
       "<tr style=\"vertical-align: top;\"><td><code>quote</code></td>\n",
       "<td>\n",
       "<p>logical, indicating whether or not strings should be\n",
       "printed with surrounding quotes.</p>\n",
       "</td></tr>\n",
       "<tr style=\"vertical-align: top;\"><td><code>max.levels</code></td>\n",
       "<td>\n",
       "<p>integer, indicating how many levels should be\n",
       "printed for a factor; if <code>0</code>, no extra &quot;Levels&quot; line will be\n",
       "printed.  The default, <code>NULL</code>, entails choosing <code>max.levels</code>\n",
       "such that the levels print on one line of width <code>width</code>.</p>\n",
       "</td></tr>\n",
       "<tr style=\"vertical-align: top;\"><td><code>width</code></td>\n",
       "<td>\n",
       "<p>only used when <code>max.levels</code> is NULL, see above.</p>\n",
       "</td></tr>\n",
       "<tr style=\"vertical-align: top;\"><td><code>digits</code></td>\n",
       "<td>\n",
       "<p>minimal number of <em>significant</em> digits, see\n",
       "<code>print.default</code>.</p>\n",
       "</td></tr>\n",
       "<tr style=\"vertical-align: top;\"><td><code>na.print</code></td>\n",
       "<td>\n",
       "<p>character string (or <code>NULL</code>) indicating\n",
       "<code>NA</code> values in printed output, see\n",
       "<code>print.default</code>.</p>\n",
       "</td></tr>\n",
       "<tr style=\"vertical-align: top;\"><td><code>zero.print</code></td>\n",
       "<td>\n",
       "<p>character specifying how zeros (<code>0</code>) should be\n",
       "printed; for sparse tables, using <code>\".\"</code> can produce more\n",
       "readable results, similar to printing sparse matrices in <a href=\"https://CRAN.R-project.org/package=Matrix\"><span class=\"pkg\">Matrix</span></a>.</p>\n",
       "</td></tr>\n",
       "<tr style=\"vertical-align: top;\"><td><code>right</code></td>\n",
       "<td>\n",
       "<p>logical, indicating whether or not strings should be\n",
       "right aligned.</p>\n",
       "</td></tr>\n",
       "<tr style=\"vertical-align: top;\"><td><code>justify</code></td>\n",
       "<td>\n",
       "<p>character indicating if strings should left- or\n",
       "right-justified or left alone, passed to <code>format</code>.</p>\n",
       "</td></tr>\n",
       "<tr style=\"vertical-align: top;\"><td><code>useSource</code></td>\n",
       "<td>\n",
       "<p>logical indicating if internally stored source\n",
       "should be used for printing when present, e.g., if\n",
       "<code>options(keep.source = TRUE)</code> has been in use.</p>\n",
       "</td></tr>\n",
       "</table>\n",
       "\n",
       "\n",
       "<h3>Details</h3>\n",
       "\n",
       "<p>The default method, <code>print.default</code> has its own help page.\n",
       "Use <code>methods(\"print\")</code> to get all the methods for the\n",
       "<code>print</code> generic.\n",
       "</p>\n",
       "<p><code>print.factor</code> allows some customization and is used for printing\n",
       "<code>ordered</code> factors as well.\n",
       "</p>\n",
       "<p><code>print.table</code> for printing <code>table</code>s allows other\n",
       "customization.  As of R 3.0.0, it only prints a description in case of a table\n",
       "with 0-extents (this can happen if a classifier has no valid data).\n",
       "</p>\n",
       "<p>See <code>noquote</code> as an example of a class whose main\n",
       "purpose is a specific <code>print</code> method.\n",
       "</p>\n",
       "\n",
       "\n",
       "<h3>References</h3>\n",
       "\n",
       "<p>Chambers, J. M. and Hastie, T. J. (1992)\n",
       "<em>Statistical Models in S.</em>\n",
       "Wadsworth &amp; Brooks/Cole.\n",
       "</p>\n",
       "\n",
       "\n",
       "<h3>See Also</h3>\n",
       "\n",
       "<p>The default method <code>print.default</code>, and help for the\n",
       "methods above; further <code>options</code>, <code>noquote</code>.\n",
       "</p>\n",
       "<p>For more customizable (but cumbersome) printing, see\n",
       "<code>cat</code>, <code>format</code> or also <code>write</code>.\n",
       "For a simple prototypical print method, see\n",
       "<code>.print.via.format</code> in package <span class=\"pkg\">tools</span>.\n",
       "</p>\n",
       "\n",
       "\n",
       "<h3>Examples</h3>\n",
       "\n",
       "<pre><code class='language-R'>require(stats)\n",
       "\n",
       "ts(1:20)  #-- print is the \"Default function\" --&gt; print.ts(.) is called\n",
       "for(i in 1:3) print(1:i)\n",
       "\n",
       "## Printing of factors\n",
       "attenu$station ## 117 levels -&gt; 'max.levels' depending on width\n",
       "\n",
       "## ordered factors: levels  \"l1 &lt; l2 &lt; ..\"\n",
       "esoph$agegp[1:12]\n",
       "esoph$alcgp[1:12]\n",
       "\n",
       "## Printing of sparse (contingency) tables\n",
       "set.seed(521)\n",
       "t1 &lt;- round(abs(rt(200, df = 1.8)))\n",
       "t2 &lt;- round(abs(rt(200, df = 1.4)))\n",
       "table(t1, t2) # simple\n",
       "print(table(t1, t2), zero.print = \".\") # nicer to read\n",
       "\n",
       "## same for non-integer \"table\":\n",
       "T &lt;- table(t2,t1)\n",
       "T &lt;- T * (1+round(rlnorm(length(T)))/4)\n",
       "print(T, zero.print = \".\") # quite nicer,\n",
       "print.table(T[,2:8] * 1e9, digits=3, zero.print = \".\")\n",
       "## still slightly inferior to  Matrix::Matrix(T)  for larger T\n",
       "\n",
       "## Corner cases with empty extents:\n",
       "table(1, NA) # &lt; table of extent 1 x 0 &gt;\n",
       "</code></pre>\n",
       "\n",
       "<hr /><div style=\"text-align: center;\">[Package <em>base</em> version 4.2.3 ]</div>\n",
       "</div>"
      ],
      "text/latex": [
       "\\inputencoding{utf8}\n",
       "\\HeaderA{print}{Print Values}{print}\n",
       "\\methaliasA{print.Dlist}{print}{print.Dlist}\n",
       "\\methaliasA{print.factor}{print}{print.factor}\n",
       "\\methaliasA{print.function}{print}{print.function}\n",
       "\\methaliasA{print.listof}{print}{print.listof}\n",
       "\\methaliasA{print.simple.list}{print}{print.simple.list}\n",
       "\\methaliasA{print.table}{print}{print.table}\n",
       "\\keyword{print}{print}\n",
       "%\n",
       "\\begin{Description}\\relax\n",
       "\\code{print} prints its argument and returns it \\emph{invisibly} (via\n",
       "\\code{\\LinkA{invisible}{invisible}(x)}).  It is a generic function which means that\n",
       "new printing methods can be easily added for new \\code{\\LinkA{class}{class}}es.\n",
       "\\end{Description}\n",
       "%\n",
       "\\begin{Usage}\n",
       "\\begin{verbatim}\n",
       "\n",
       "print(x, ...)\n",
       "\n",
       "## S3 method for class 'factor'\n",
       "print(x, quote = FALSE, max.levels = NULL,\n",
       "      width = getOption(\"width\"), ...)\n",
       "\n",
       "## S3 method for class 'table'\n",
       "print(x, digits = getOption(\"digits\"), quote = FALSE,\n",
       "      na.print = \"\", zero.print = \"0\",\n",
       "      right = is.numeric(x) || is.complex(x),\n",
       "      justify = \"none\", ...)\n",
       "\n",
       "## S3 method for class 'function'\n",
       "print(x, useSource = TRUE, ...)\n",
       "\\end{verbatim}\n",
       "\\end{Usage}\n",
       "%\n",
       "\\begin{Arguments}\n",
       "\\begin{ldescription}\n",
       "\\item[\\code{x}] an object used to select a method.\n",
       "\\item[\\code{...}] further arguments passed to or from other methods.\n",
       "\\item[\\code{quote}] logical, indicating whether or not strings should be\n",
       "printed with surrounding quotes.\n",
       "\\item[\\code{max.levels}] integer, indicating how many levels should be\n",
       "printed for a factor; if \\code{0}, no extra \"Levels\" line will be\n",
       "printed.  The default, \\code{NULL}, entails choosing \\code{max.levels}\n",
       "such that the levels print on one line of width \\code{width}.\n",
       "\\item[\\code{width}] only used when \\code{max.levels} is NULL, see above.\n",
       "\\item[\\code{digits}] minimal number of \\emph{significant} digits, see\n",
       "\\code{\\LinkA{print.default}{print.default}}.\n",
       "\\item[\\code{na.print}] character string (or \\code{NULL}) indicating\n",
       "\\code{\\LinkA{NA}{NA}} values in printed output, see\n",
       "\\code{\\LinkA{print.default}{print.default}}.\n",
       "\\item[\\code{zero.print}] character specifying how zeros (\\code{0}) should be\n",
       "printed; for sparse tables, using \\code{\".\"} can produce more\n",
       "readable results, similar to printing sparse matrices in \\Rhref{https://CRAN.R-project.org/package=Matrix}{\\pkg{Matrix}}.\n",
       "\\item[\\code{right}] logical, indicating whether or not strings should be\n",
       "right aligned.\n",
       "\\item[\\code{justify}] character indicating if strings should left- or\n",
       "right-justified or left alone, passed to \\code{\\LinkA{format}{format}}.\n",
       "\\item[\\code{useSource}] logical indicating if internally stored source\n",
       "should be used for printing when present, e.g., if\n",
       "\\code{\\LinkA{options}{options}(keep.source = TRUE)} has been in use.\n",
       "\\end{ldescription}\n",
       "\\end{Arguments}\n",
       "%\n",
       "\\begin{Details}\\relax\n",
       "The default method, \\code{\\LinkA{print.default}{print.default}} has its own help page.\n",
       "Use \\code{\\LinkA{methods}{methods}(\"print\")} to get all the methods for the\n",
       "\\code{print} generic.\n",
       "\n",
       "\\code{print.factor} allows some customization and is used for printing\n",
       "\\code{\\LinkA{ordered}{ordered}} factors as well.\n",
       "\n",
       "\\code{print.table} for printing \\code{\\LinkA{table}{table}}s allows other\n",
       "customization.  As of R 3.0.0, it only prints a description in case of a table\n",
       "with 0-extents (this can happen if a classifier has no valid data).\n",
       "\n",
       "See \\code{\\LinkA{noquote}{noquote}} as an example of a class whose main\n",
       "purpose is a specific \\code{print} method.\n",
       "\\end{Details}\n",
       "%\n",
       "\\begin{References}\\relax\n",
       "Chambers, J. M. and Hastie, T. J. (1992)\n",
       "\\emph{Statistical Models in S.}\n",
       "Wadsworth \\& Brooks/Cole.\n",
       "\\end{References}\n",
       "%\n",
       "\\begin{SeeAlso}\\relax\n",
       "The default method \\code{\\LinkA{print.default}{print.default}}, and help for the\n",
       "methods above; further \\code{\\LinkA{options}{options}}, \\code{\\LinkA{noquote}{noquote}}.\n",
       "\n",
       "For more customizable (but cumbersome) printing, see\n",
       "\\code{\\LinkA{cat}{cat}}, \\code{\\LinkA{format}{format}} or also \\code{\\LinkA{write}{write}}.\n",
       "For a simple prototypical print method, see\n",
       "\\code{\\LinkA{.print.via.format}{.print.via.format}} in package \\pkg{tools}.\n",
       "\\end{SeeAlso}\n",
       "%\n",
       "\\begin{Examples}\n",
       "\\begin{ExampleCode}\n",
       "require(stats)\n",
       "\n",
       "ts(1:20)  #-- print is the \"Default function\" --> print.ts(.) is called\n",
       "for(i in 1:3) print(1:i)\n",
       "\n",
       "## Printing of factors\n",
       "attenu$station ## 117 levels -> 'max.levels' depending on width\n",
       "\n",
       "## ordered factors: levels  \"l1 < l2 < ..\"\n",
       "esoph$agegp[1:12]\n",
       "esoph$alcgp[1:12]\n",
       "\n",
       "## Printing of sparse (contingency) tables\n",
       "set.seed(521)\n",
       "t1 <- round(abs(rt(200, df = 1.8)))\n",
       "t2 <- round(abs(rt(200, df = 1.4)))\n",
       "table(t1, t2) # simple\n",
       "print(table(t1, t2), zero.print = \".\") # nicer to read\n",
       "\n",
       "## same for non-integer \"table\":\n",
       "T <- table(t2,t1)\n",
       "T <- T * (1+round(rlnorm(length(T)))/4)\n",
       "print(T, zero.print = \".\") # quite nicer,\n",
       "print.table(T[,2:8] * 1e9, digits=3, zero.print = \".\")\n",
       "## still slightly inferior to  Matrix::Matrix(T)  for larger T\n",
       "\n",
       "## Corner cases with empty extents:\n",
       "table(1, NA) # < table of extent 1 x 0 >\n",
       "\\end{ExampleCode}\n",
       "\\end{Examples}"
      ],
      "text/plain": [
       "print                   package:base                   R Documentation\n",
       "\n",
       "_\bP_\br_\bi_\bn_\bt _\bV_\ba_\bl_\bu_\be_\bs\n",
       "\n",
       "_\bD_\be_\bs_\bc_\br_\bi_\bp_\bt_\bi_\bo_\bn:\n",
       "\n",
       "     ‘print’ prints its argument and returns it _invisibly_ (via\n",
       "     ‘invisible(x)’).  It is a generic function which means that new\n",
       "     printing methods can be easily added for new ‘class’es.\n",
       "\n",
       "_\bU_\bs_\ba_\bg_\be:\n",
       "\n",
       "     print(x, ...)\n",
       "     \n",
       "     ## S3 method for class 'factor'\n",
       "     print(x, quote = FALSE, max.levels = NULL,\n",
       "           width = getOption(\"width\"), ...)\n",
       "     \n",
       "     ## S3 method for class 'table'\n",
       "     print(x, digits = getOption(\"digits\"), quote = FALSE,\n",
       "           na.print = \"\", zero.print = \"0\",\n",
       "           right = is.numeric(x) || is.complex(x),\n",
       "           justify = \"none\", ...)\n",
       "     \n",
       "     ## S3 method for class 'function'\n",
       "     print(x, useSource = TRUE, ...)\n",
       "     \n",
       "_\bA_\br_\bg_\bu_\bm_\be_\bn_\bt_\bs:\n",
       "\n",
       "       x: an object used to select a method.\n",
       "\n",
       "     ...: further arguments passed to or from other methods.\n",
       "\n",
       "   quote: logical, indicating whether or not strings should be printed\n",
       "          with surrounding quotes.\n",
       "\n",
       "max.levels: integer, indicating how many levels should be printed for a\n",
       "          factor; if ‘0’, no extra \"Levels\" line will be printed.  The\n",
       "          default, ‘NULL’, entails choosing ‘max.levels’ such that the\n",
       "          levels print on one line of width ‘width’.\n",
       "\n",
       "   width: only used when ‘max.levels’ is NULL, see above.\n",
       "\n",
       "  digits: minimal number of _significant_ digits, see ‘print.default’.\n",
       "\n",
       "na.print: character string (or ‘NULL’) indicating ‘NA’ values in\n",
       "          printed output, see ‘print.default’.\n",
       "\n",
       "zero.print: character specifying how zeros (‘0’) should be printed; for\n",
       "          sparse tables, using ‘\".\"’ can produce more readable results,\n",
       "          similar to printing sparse matrices in ‘Matrix’.\n",
       "\n",
       "   right: logical, indicating whether or not strings should be right\n",
       "          aligned.\n",
       "\n",
       " justify: character indicating if strings should left- or\n",
       "          right-justified or left alone, passed to ‘format’.\n",
       "\n",
       "useSource: logical indicating if internally stored source should be\n",
       "          used for printing when present, e.g., if ‘options(keep.source\n",
       "          = TRUE)’ has been in use.\n",
       "\n",
       "_\bD_\be_\bt_\ba_\bi_\bl_\bs:\n",
       "\n",
       "     The default method, ‘print.default’ has its own help page.  Use\n",
       "     ‘methods(\"print\")’ to get all the methods for the ‘print’ generic.\n",
       "\n",
       "     ‘print.factor’ allows some customization and is used for printing\n",
       "     ‘ordered’ factors as well.\n",
       "\n",
       "     ‘print.table’ for printing ‘table’s allows other customization.\n",
       "     As of R 3.0.0, it only prints a description in case of a table\n",
       "     with 0-extents (this can happen if a classifier has no valid\n",
       "     data).\n",
       "\n",
       "     See ‘noquote’ as an example of a class whose main purpose is a\n",
       "     specific ‘print’ method.\n",
       "\n",
       "_\bR_\be_\bf_\be_\br_\be_\bn_\bc_\be_\bs:\n",
       "\n",
       "     Chambers, J. M. and Hastie, T. J. (1992) _Statistical Models in\n",
       "     S._ Wadsworth & Brooks/Cole.\n",
       "\n",
       "_\bS_\be_\be _\bA_\bl_\bs_\bo:\n",
       "\n",
       "     The default method ‘print.default’, and help for the methods\n",
       "     above; further ‘options’, ‘noquote’.\n",
       "\n",
       "     For more customizable (but cumbersome) printing, see ‘cat’,\n",
       "     ‘format’ or also ‘write’.  For a simple prototypical print method,\n",
       "     see ‘.print.via.format’ in package ‘tools’.\n",
       "\n",
       "_\bE_\bx_\ba_\bm_\bp_\bl_\be_\bs:\n",
       "\n",
       "     require(stats)\n",
       "     \n",
       "     ts(1:20)  #-- print is the \"Default function\" --> print.ts(.) is called\n",
       "     for(i in 1:3) print(1:i)\n",
       "     \n",
       "     ## Printing of factors\n",
       "     attenu$station ## 117 levels -> 'max.levels' depending on width\n",
       "     \n",
       "     ## ordered factors: levels  \"l1 < l2 < ..\"\n",
       "     esoph$agegp[1:12]\n",
       "     esoph$alcgp[1:12]\n",
       "     \n",
       "     ## Printing of sparse (contingency) tables\n",
       "     set.seed(521)\n",
       "     t1 <- round(abs(rt(200, df = 1.8)))\n",
       "     t2 <- round(abs(rt(200, df = 1.4)))\n",
       "     table(t1, t2) # simple\n",
       "     print(table(t1, t2), zero.print = \".\") # nicer to read\n",
       "     \n",
       "     ## same for non-integer \"table\":\n",
       "     T <- table(t2,t1)\n",
       "     T <- T * (1+round(rlnorm(length(T)))/4)\n",
       "     print(T, zero.print = \".\") # quite nicer,\n",
       "     print.table(T[,2:8] * 1e9, digits=3, zero.print = \".\")\n",
       "     ## still slightly inferior to  Matrix::Matrix(T)  for larger T\n",
       "     \n",
       "     ## Corner cases with empty extents:\n",
       "     table(1, NA) # < table of extent 1 x 0 >\n",
       "     "
      ]
     },
     "metadata": {},
     "output_type": "display_data"
    }
   ],
   "source": [
    "# running this block will pull up the documentation page for the print() function\n",
    "?print()"
   ]
  },
  {
   "cell_type": "markdown",
   "metadata": {
    "_cell_guid": "c2dbd252-ff67-4426-8795-7b473a733dc4",
    "_uuid": "db291c90a3fee64f421546c9161b01877ffe35bc"
   },
   "source": [
    "## Variables"
   ]
  },
  {
   "cell_type": "markdown",
   "metadata": {
    "_cell_guid": "5fbb581b-1a85-464c-a99b-9f788ed55376",
    "_uuid": "13628150fe748713393cb2fb96aa79fcef2800db"
   },
   "source": [
    "Now that you understand how to execute R code in a cell and run functions with arguments, let's explore storing data in cells for easy reference later. Programming can handle the repetitive tasks for you, saving time and effort!"
   ]
  },
  {
   "cell_type": "code",
   "execution_count": 3,
   "metadata": {
    "_cell_guid": "ec73a92d-2c5c-48d2-adc5-02c4513a3228",
    "_uuid": "8cd7425a1c7d2cd744a9eba73c6e4d3683fabc5a"
   },
   "outputs": [
    {
     "data": {
      "text/html": [
       "'this is some text to print'"
      ],
      "text/latex": [
       "'this is some text to print'"
      ],
      "text/markdown": [
       "'this is some text to print'"
      ],
      "text/plain": [
       "[1] \"this is some text to print\""
      ]
     },
     "metadata": {},
     "output_type": "display_data"
    },
    {
     "ename": "ERROR",
     "evalue": "Error in eval(expr, envir, enclos): object 'texttoprint' not found\n",
     "output_type": "error",
     "traceback": [
      "Error in eval(expr, envir, enclos): object 'texttoprint' not found\nTraceback:\n"
     ]
    }
   ],
   "source": [
    "# In R, you can store data in a cell using either \"=\" or \"<-\". \n",
    "# You can name a cell anything you want as long as it's not already the name of something else. \n",
    "# Short, spaceless phrases are generally preferred.\n",
    "\n",
    "textToPrint <- \"this is some text to print\"\n",
    "\n",
    "# In R, when you input the name of a variable, the cell will display the content of that variable.\n",
    "\n",
    "textToPrint\n",
    "\n",
    "# Please note that capitalization matters! This cell will generate an error because there is no variable named \"texttoprint\".\n",
    "\n",
    "texttoprint"
   ]
  },
  {
   "cell_type": "code",
   "execution_count": null,
   "metadata": {
    "_cell_guid": "604b79bf-f0c0-4720-b053-4e22851dcd5b",
    "_uuid": "fcf2c6f11e4bcdbc2d19717011bf1058e490efb0"
   },
   "outputs": [],
   "source": [
    "# Declare a variable called \"aSentence\" and assign it a sentence.\n"
   ]
  },
  {
   "cell_type": "markdown",
   "metadata": {
    "_cell_guid": "6c7f5d3c-036c-4301-94dd-c40a26332f23",
    "_uuid": "ce6dfe28efe63469765b1749a8fd7b4cfee838e9"
   },
   "source": [
    "Alright, now we have a small cell of data with a name. We can use this name as an argument in a function. Let's give it a try!"
   ]
  },
  {
   "cell_type": "code",
   "execution_count": 4,
   "metadata": {
    "_cell_guid": "032d22b8-8b9e-49d9-af16-301db55046db",
    "_uuid": "e634082fcf39f4aee6d935776686ad8fbbd65a5b"
   },
   "outputs": [
    {
     "name": "stdout",
     "output_type": "stream",
     "text": [
      "[1] \"this is some text to print\"\n"
     ]
    },
    {
     "data": {
      "text/html": [
       "26"
      ],
      "text/latex": [
       "26"
      ],
      "text/markdown": [
       "26"
      ],
      "text/plain": [
       "[1] 26"
      ]
     },
     "metadata": {},
     "output_type": "display_data"
    },
    {
     "data": {
      "text/html": [
       "<style>\n",
       ".list-inline {list-style: none; margin:0; padding: 0}\n",
       ".list-inline>li {display: inline-block}\n",
       ".list-inline>li:not(:last-child)::after {content: \"\\00b7\"; padding: 0 .5ex}\n",
       "</style>\n",
       "<ol class=list-inline><li>'this is some text to print'</li><li>'this is some text to print'</li><li>'this is some text to print'</li></ol>\n"
      ],
      "text/latex": [
       "\\begin{enumerate*}\n",
       "\\item 'this is some text to print'\n",
       "\\item 'this is some text to print'\n",
       "\\item 'this is some text to print'\n",
       "\\end{enumerate*}\n"
      ],
      "text/markdown": [
       "1. 'this is some text to print'\n",
       "2. 'this is some text to print'\n",
       "3. 'this is some text to print'\n",
       "\n",
       "\n"
      ],
      "text/plain": [
       "[1] \"this is some text to print\" \"this is some text to print\"\n",
       "[3] \"this is some text to print\""
      ]
     },
     "metadata": {},
     "output_type": "display_data"
    }
   ],
   "source": [
    "#Using the print() function to display textToPrint content.\n",
    "print(textToPrint)\n",
    "\n",
    "#The nchar() function calculates the character count in a variable.\n",
    "nchar(textToPrint)\n",
    "\n",
    "#The c() function combines multiple textToPrint values together.\n",
    "c(textToPrint, textToPrint, textToPrint)"
   ]
  },
  {
   "cell_type": "markdown",
   "metadata": {},
   "source": [
    "Now it's your chance! Give these three exercises a shot. Feel free to copy the code and make changes."
   ]
  },
  {
   "cell_type": "code",
   "execution_count": null,
   "metadata": {
    "_cell_guid": "27768ef0-09d2-4a9c-bc1e-0d58c952d51b",
    "_uuid": "df212af3d22a14a8aaf436e61a292e82afeee919"
   },
   "outputs": [],
   "source": [
    "#Display the content of the \"aSentence\" cell you created earlier.\n",
    "\n",
    "#Determine the character count in the \"aSentence\" cell.\n",
    "\n",
    "#Combine the \"textToPrint\" and \"aSentence\" cells to create a new string."
   ]
  },
  {
   "cell_type": "markdown",
   "metadata": {
    "_cell_guid": "5159d95f-0caf-4ced-8eae-53809158f74d",
    "_uuid": "aa5902bcb50aea5a5c7e1b0c750770c5d11532d0"
   },
   "source": [
    " ## Data Types\n"
   ]
  },
  {
   "cell_type": "markdown",
   "metadata": {
    "_cell_guid": "f00e8d46-ff48-4b8a-96c1-880da6acd7f9",
    "_uuid": "cfd442fb8745efb58239b021d7f0fd6bbf004db7"
   },
   "source": [
    "Up until now, all the data we've examined consists of text strings. Nonetheless, R encompasses various other data types. (As we discussed functions and arguments, it's essential to be cautious about data types to avoid errors.) Let's explore the common data types frequently employed in R."
   ]
  },
  {
   "cell_type": "code",
   "execution_count": 5,
   "metadata": {
    "_cell_guid": "e6962a1d-40f3-40ab-9ca1-005c48d3bb39",
    "_uuid": "fcd26b16d0e9081c5e31faa90fbbf20771a5fa6f"
   },
   "outputs": [
    {
     "name": "stdout",
     "output_type": "stream",
     "text": [
      " chr \"someText\"\n"
     ]
    }
   ],
   "source": [
    "#So far, what we've observed are cells, which represent text data.\n",
    "\n",
    "anExampleOfCharacters <- \"someText\"\n",
    "\n",
    "#To check the data type of a variable, we use the str() function (short for \"structure\").\n",
    "\n",
    "str(anExampleOfCharacters)\n",
    "\n",
    "#The data type of the variable anExampleOfCharacters is a character (chr) since it contains text."
   ]
  },
  {
   "cell_type": "code",
   "execution_count": null,
   "metadata": {
    "_cell_guid": "f4fea96f-f25c-4dba-8b2d-bbb1ad43ac13",
    "_uuid": "6b9ef4a176b9c1ed2ab51ca932b1bad20357c85f"
   },
   "outputs": [],
   "source": [
    "#Try \n",
    "# Check the data type of the \"aSentence\" variable you made above.\n"
   ]
  },
  {
   "cell_type": "markdown",
   "metadata": {
    "_cell_guid": "a995ff54-71b1-440b-ba3e-c05dc6449b92",
    "_uuid": "07e198b751a344cbc101fa7498b5edfd61c7a82a"
   },
   "source": [
    "However, not all data in the world is text-based; there is also a substantial amount of numerical data. Unlike text data, you can input numbers directly into R without using quotes. (Using quotes around a number will store it as a character, preventing mathematical operations.)"
   ]
  },
  {
   "cell_type": "code",
   "execution_count": 6,
   "metadata": {
    "_cell_guid": "f93dd7a0-97df-416e-8b97-373a0a074c95",
    "_uuid": "a82621400d94e37de38ee9e024a48ecf5ca0bc06"
   },
   "outputs": [
    {
     "data": {
      "text/html": [
       "'numeric'"
      ],
      "text/latex": [
       "'numeric'"
      ],
      "text/markdown": [
       "'numeric'"
      ],
      "text/plain": [
       "[1] \"numeric\""
      ]
     },
     "metadata": {},
     "output_type": "display_data"
    },
    {
     "data": {
      "text/html": [
       "'numeric'"
      ],
      "text/latex": [
       "'numeric'"
      ],
      "text/markdown": [
       "'numeric'"
      ],
      "text/plain": [
       "[1] \"numeric\""
      ]
     },
     "metadata": {},
     "output_type": "display_data"
    },
    {
     "data": {
      "text/html": [
       "168"
      ],
      "text/latex": [
       "168"
      ],
      "text/markdown": [
       "168"
      ],
      "text/plain": [
       "[1] 168"
      ]
     },
     "metadata": {},
     "output_type": "display_data"
    }
   ],
   "source": [
    "#Let's define two numeric cells:\n",
    "\n",
    "hoursPerDay <- 24\n",
    "daysPerWeek <- 7\n",
    "\n",
    "#We can verify their data type:\n",
    "\n",
    "class(hoursPerDay)\n",
    "class(daysPerWeek)\n",
    "\n",
    "#Since these are numeric cells, we can perform arithmetic operations:\n",
    "\n",
    "hoursPerWeek <- hoursPerDay * daysPerWeek\n",
    "hoursPerWeek"
   ]
  },
  {
   "cell_type": "code",
   "execution_count": null,
   "metadata": {
    "_cell_guid": "294fef25-67e7-4fe7-8e0e-4672d446a72b",
    "_uuid": "8d5f1801157a30f574fc5080a9fb7fd774009762"
   },
   "outputs": [],
   "source": [
    "# Try\n",
    "\n",
    "# Create a numeric cell named \"minutesPerHour\" and utilize it to compute a new cell called \"minutesPerWeek,\" \n",
    "# which will store the total number of minutes in a week.\n",
    "\n"
   ]
  },
  {
   "cell_type": "code",
   "execution_count": 8,
   "metadata": {
    "_cell_guid": "fc26d3c4-e9a9-441e-8843-5b473bba4a33",
    "_uuid": "63d9e3d3aa1a3ad20b711f3aac326c5b0543c79e"
   },
   "outputs": [
    {
     "ename": "ERROR",
     "evalue": "Error in a * b: non-numeric argument to binary operator\n",
     "output_type": "error",
     "traceback": [
      "Error in a * b: non-numeric argument to binary operator\nTraceback:\n"
     ]
    }
   ],
   "source": [
    "# Important Note: In R, not all numbers are considered numeric!\n",
    "\n",
    "a <- 5\n",
    "b <- \"6\"\n",
    "\n",
    "# The operation below will result in an error \"non-numeric argument to binary operator\"\n",
    "# since b is not numeric, even though it contains a number.\n",
    "a * b"
   ]
  },
  {
   "cell_type": "markdown",
   "metadata": {
    "_cell_guid": "cf3fedfc-1117-43b6-ba28-27bec25440a0",
    "_uuid": "df1b1bb6829fc682c0cd3eb786670ccc7f4a3b03"
   },
   "source": [
    "Embrace error messages! They're like helpful hints for everyone. When you encounter an unfamiliar error message, start by searching its text on Google. It can be a great first step in resolving the issue."
   ]
  },
  {
   "cell_type": "code",
   "execution_count": 9,
   "metadata": {
    "_cell_guid": "be33cb40-2f84-4c9a-abcb-3cbab16d11ba",
    "_uuid": "31c7351d2cbecf8d2df1313abf122ab5fe3ccefd"
   },
   "outputs": [
    {
     "data": {
      "text/html": [
       "30"
      ],
      "text/latex": [
       "30"
      ],
      "text/markdown": [
       "30"
      ],
      "text/plain": [
       "[1] 30"
      ]
     },
     "metadata": {},
     "output_type": "display_data"
    },
    {
     "name": "stdout",
     "output_type": "stream",
     "text": [
      " chr \"6\"\n",
      " num 6\n"
     ]
    }
   ],
   "source": [
    "# Convert character data to numeric using the as.numeric() function to enable mathematical operations:\n",
    "a * as.numeric(b)\n",
    "\n",
    "# Observe the structure: note the change of b from \"chr\" to \"num\":\n",
    "str(b)\n",
    "str(as.numeric(b))\n",
    "\n",
    "# To permanently fix b as a numeric value:\n",
    "# b <- as.numeric(b)"
   ]
  },
  {
   "cell_type": "code",
   "execution_count": null,
   "metadata": {
    "_cell_guid": "d3dc8032-94bd-4f2e-8d4d-af1088950fb9",
    "_uuid": "36275ba37727342d559e9c283ed41cb94a24f29c"
   },
   "outputs": [],
   "source": [
    "# What occurs when attempting to utilize the as.numeric() function on non-numeric text data? \n",
    "# Try applying the as.numeric() function to your \"aSentence\" cell from before.\n",
    "\n",
    "\n",
    "#Search for additional details about the error message received on your preferred search engine or Google."
   ]
  },
  {
   "cell_type": "markdown",
   "metadata": {
    "_cell_guid": "d2e50d26-f0be-4e34-a1db-dbdeb2d8abdd",
    "_uuid": "5cf5888fc5425e01dd9a50ebb1c4ab7cd0defc73"
   },
   "source": [
    "Up to this point, we've covered two data types: character and numeric. However, there's another frequently used data type in R, known as logical or boolean (pronounced BOO-lee-un) data. Booleans can only have two values: TRUE and FALSE."
   ]
  },
  {
   "cell_type": "code",
   "execution_count": 10,
   "metadata": {
    "_cell_guid": "1b3cb61d-a0e4-494b-9b37-d5bc8a338788",
    "_uuid": "2b09023b0700bf174ef19f46192325571dd7d61b"
   },
   "outputs": [
    {
     "data": {
      "text/html": [
       "FALSE"
      ],
      "text/latex": [
       "FALSE"
      ],
      "text/markdown": [
       "FALSE"
      ],
      "text/plain": [
       "[1] FALSE"
      ]
     },
     "metadata": {},
     "output_type": "display_data"
    },
    {
     "data": {
      "text/html": [
       "TRUE"
      ],
      "text/latex": [
       "TRUE"
      ],
      "text/markdown": [
       "TRUE"
      ],
      "text/plain": [
       "[1] TRUE"
      ]
     },
     "metadata": {},
     "output_type": "display_data"
    }
   ],
   "source": [
    "# By using the \"==\" operator in R, you can compare two cells to get a boolean result:\n",
    "\"a\" == \"b\"\n",
    "1 == 1"
   ]
  },
  {
   "cell_type": "code",
   "execution_count": null,
   "metadata": {
    "_cell_guid": "5c9e23c5-1ad8-438d-8001-97bccb9c5bbb",
    "_uuid": "36a73848af87d986252e0d383016f2664d72bda8"
   },
   "outputs": [],
   "source": [
    "# Try\n",
    "\n",
    "# In the first cell, make a guess: will 6 == \"6\" result in TRUE or FALSE? \n",
    "# Then, run the test to check your prediction. Did the outcome surprise you? \n",
    "# This illustrates the importance of data types in R.\n"
   ]
  },
  {
   "cell_type": "markdown",
   "metadata": {
    "_cell_guid": "8a2b055b-b7fd-41f8-bdf4-ab9b16d3a94b",
    "_uuid": "cc198e500b85d101d200736d470aaf820312e440"
   },
   "source": [
    "\n",
    "In summary, the cell types we've encountered include:\n",
    "\n",
    "* **Character:** Typically used for text data, enclosed in \"quotation marks.\"\n",
    "* **Numeric:** Used for numbers. Mistaking numeric data for characters will prevent mathematical operations.\n",
    "* **Logical:** This type has two values, TRUE and FALSE.\n",
    "\n",
    "There are other data types in R, but these are the most common ones you'll come across."
   ]
  },
  {
   "cell_type": "markdown",
   "metadata": {
    "_cell_guid": "e22b07d8-089e-418a-a863-4ad77fb312b7",
    "_uuid": "72e169ccd6edc73d9dc3f6c0567b21a4dc2f91a5"
   },
   "source": [
    "## Vectors"
   ]
  },
  {
   "cell_type": "markdown",
   "metadata": {
    "_cell_guid": "5d4ca046-d250-4e6e-a24b-75bbdfb62cf6",
    "_uuid": "36fe54f95c7891437a09f19a144172de89b6c66f"
   },
   "source": [
    "Alright, this is the final part of the introduction. Now, let's move on to our data analysis.\n",
    "\n",
    "Before we begin, it's essential to grasp a crucial concept in R: **vectorization**.\n",
    "\n",
    "> In programming, a **vector** refers to a list of data elements of the same data type.\n",
    "\n",
    "R excels at handling vectors efficiently, so it's recommended to use them whenever feasible. You can create a vector using the `c()` (concatenate) function we covered earlier."
   ]
  },
  {
   "cell_type": "code",
   "execution_count": 11,
   "metadata": {
    "_cell_guid": "27f1bc72-2b4f-45ec-9f8f-3116e64e2523",
    "_uuid": "6ecdc78c889839989f306c73b06318a12995538c"
   },
   "outputs": [
    {
     "data": {
      "text/html": [
       "<style>\n",
       ".list-inline {list-style: none; margin:0; padding: 0}\n",
       ".list-inline>li {display: inline-block}\n",
       ".list-inline>li:not(:last-child)::after {content: \"\\00b7\"; padding: 0 .5ex}\n",
       "</style>\n",
       "<ol class=list-inline><li>1</li><li>5</li><li>91</li><li>42.8</li><li>100008.41</li></ol>\n"
      ],
      "text/latex": [
       "\\begin{enumerate*}\n",
       "\\item 1\n",
       "\\item 5\n",
       "\\item 91\n",
       "\\item 42.8\n",
       "\\item 100008.41\n",
       "\\end{enumerate*}\n"
      ],
      "text/markdown": [
       "1. 1\n",
       "2. 5\n",
       "3. 91\n",
       "4. 42.8\n",
       "5. 100008.41\n",
       "\n",
       "\n"
      ],
      "text/plain": [
       "[1]      1.0      5.0     91.0     42.8 100008.4"
      ]
     },
     "metadata": {},
     "output_type": "display_data"
    },
    {
     "data": {
      "text/html": [
       "<style>\n",
       ".list-inline {list-style: none; margin:0; padding: 0}\n",
       ".list-inline>li {display: inline-block}\n",
       ".list-inline>li:not(:last-child)::after {content: \"\\00b7\"; padding: 0 .5ex}\n",
       "</style>\n",
       "<ol class=list-inline><li>5</li><li>25</li><li>455</li><li>214</li><li>500042.05</li></ol>\n"
      ],
      "text/latex": [
       "\\begin{enumerate*}\n",
       "\\item 5\n",
       "\\item 25\n",
       "\\item 455\n",
       "\\item 214\n",
       "\\item 500042.05\n",
       "\\end{enumerate*}\n"
      ],
      "text/markdown": [
       "1. 5\n",
       "2. 25\n",
       "3. 455\n",
       "4. 214\n",
       "5. 500042.05\n",
       "\n",
       "\n"
      ],
      "text/plain": [
       "[1]      5.0     25.0    455.0    214.0 500042.1"
      ]
     },
     "metadata": {},
     "output_type": "display_data"
    },
    {
     "data": {
      "text/html": [
       "<style>\n",
       ".list-inline {list-style: none; margin:0; padding: 0}\n",
       ".list-inline>li {display: inline-block}\n",
       ".list-inline>li:not(:last-child)::after {content: \"\\00b7\"; padding: 0 .5ex}\n",
       "</style>\n",
       "<ol class=list-inline><li>2</li><li>6</li><li>92</li><li>43.8</li><li>100009.41</li></ol>\n"
      ],
      "text/latex": [
       "\\begin{enumerate*}\n",
       "\\item 2\n",
       "\\item 6\n",
       "\\item 92\n",
       "\\item 43.8\n",
       "\\item 100009.41\n",
       "\\end{enumerate*}\n"
      ],
      "text/markdown": [
       "1. 2\n",
       "2. 6\n",
       "3. 92\n",
       "4. 43.8\n",
       "5. 100009.41\n",
       "\n",
       "\n"
      ],
      "text/plain": [
       "[1]      2.0      6.0     92.0     43.8 100009.4"
      ]
     },
     "metadata": {},
     "output_type": "display_data"
    }
   ],
   "source": [
    "# Let's create a vector!\n",
    "vectorOfNumbers <- c(1, 5, 91, 42.8, 100008.41)\n",
    "vectorOfNumbers\n",
    "\n",
    "# Since this is a numeric vector, we can perform math operations on it! When you perform math on a vector,\n",
    "# the operation is applied to each element in the vector. (Similar to multiplying a 1x1 matrix by a 1xN matrix.)\n",
    "\n",
    "# Multiply every element in the vector by 5\n",
    "5 * vectorOfNumbers\n",
    "\n",
    "# Add one to every element in the vector\n",
    "vectorOfNumbers + 1"
   ]
  },
  {
   "cell_type": "code",
   "execution_count": null,
   "metadata": {
    "_cell_guid": "3f36e7aa-5dfe-4158-8014-1d0d24722c05",
    "_uuid": "22ddac770b09aeb132b18aa618568931afe3da17"
   },
   "outputs": [],
   "source": [
    "# Try\n",
    "\n",
    "# divide every number in the vector by 2. In R, you do division using the / symbol.\n"
   ]
  },
  {
   "cell_type": "markdown",
   "metadata": {
    "_cell_guid": "d64c66d2-a074-4e30-9479-d7878bdef544",
    "_uuid": "db60b1891eae8978cd1ecdb58ac5b462907ea7d9"
   },
   "source": [
    "When working with vectors, especially long ones, you may need to examine specific parts of the data. To access elements within a vector, use square brackets ([]) with the **cell** number you want to access. Remember, in R, cells are indexed starting from one.\n",
    "\n",
    "> Think of a **cell** as a house number on a street, and the vector as the entire street. Requesting the vector alone will give you the entire \"street\" because R doesn't know which specific \"house\" you're interested in."
   ]
  },
  {
   "cell_type": "code",
   "execution_count": 13,
   "metadata": {
    "_cell_guid": "40fc9e24-be61-4ffd-9ec4-338f420c79ec",
    "_uuid": "2c0ee6f4a74e659f6073a6b712efd4ac93cc65a9"
   },
   "outputs": [
    {
     "data": {
      "text/html": [
       "1"
      ],
      "text/latex": [
       "1"
      ],
      "text/markdown": [
       "1"
      ],
      "text/plain": [
       "[1] 1"
      ]
     },
     "metadata": {},
     "output_type": "display_data"
    }
   ],
   "source": [
    "# Retrieve the first element from the \"vectorOfNumbers\".\n",
    "vectorOfNumbers[1]"
   ]
  },
  {
   "cell_type": "code",
   "execution_count": null,
   "metadata": {
    "_cell_guid": "489535b0-0bff-4fda-b69d-76437e5d4ddb",
    "_uuid": "dcdafc22342bd46d9a432822d64cdbec9276e3d4"
   },
   "outputs": [],
   "source": [
    "# Try\n",
    "\n",
    "# get the third item from \"vectorOfNumbers\"\n",
    "\n",
    "\n",
    "# object[index]\n",
    "# function(argument)"
   ]
  },
  {
   "cell_type": "markdown",
   "metadata": {
    "_cell_guid": "c8a5fd8a-1bff-4608-91b4-fa6380f4297f",
    "_uuid": "d7925838207eb68f2cc594fc5151ef85a78fadec"
   },
   "source": [
    "\n"
   ]
  }
 ],
 "metadata": {
  "kernelspec": {
   "display_name": "R",
   "language": "R",
   "name": "ir"
  },
  "language_info": {
   "codemirror_mode": "r",
   "file_extension": ".r",
   "mimetype": "text/x-r-source",
   "name": "R",
   "pygments_lexer": "r",
   "version": "4.2.3"
  }
 },
 "nbformat": 4,
 "nbformat_minor": 4
}
